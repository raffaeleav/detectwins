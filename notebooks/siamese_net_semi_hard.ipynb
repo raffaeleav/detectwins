{
 "cells": [
  {
   "cell_type": "code",
   "execution_count": 1,
   "id": "4451512f",
   "metadata": {
    "ExecuteTime": {
     "end_time": "2024-06-04T18:33:42.263144Z",
     "start_time": "2024-06-04T18:33:42.242145Z"
    }
   },
   "outputs": [],
   "source": [
    "import os\n",
    "import sys\n",
    "\n",
    "from pathlib import Path\n",
    "\n",
    "# si aggiunge al path la cartella utils per avere visibilità del modulo\n",
    "module_path = Path(os.getcwd()).parent.parent\n",
    "module_path = os.path.join(module_path, \"project-detective\")\n",
    "\n",
    "sys.path.append(module_path)"
   ]
  },
  {
   "cell_type": "code",
   "execution_count": 2,
   "id": "629f9a2a-51d3-4851-b6f2-a542601bb67e",
   "metadata": {
    "id": "629f9a2a-51d3-4851-b6f2-a542601bb67e",
    "tags": [],
    "ExecuteTime": {
     "end_time": "2024-06-04T18:33:51.788997Z",
     "start_time": "2024-06-04T18:33:42.264165Z"
    }
   },
   "outputs": [],
   "source": [
    "import cv2\n",
    "import timm\n",
    "import torch\n",
    "import numpy as np\n",
    "import pandas as pd\n",
    "import matplotlib.pyplot as plt\n",
    "import torch.nn.functional as F\n",
    "import utils.semi_hard_mining as shm\n",
    "\n",
    "from torch import nn\n",
    "from tqdm import tqdm\n",
    "from skimage import io\n",
    "from pathlib import Path\n",
    "from sklearn.metrics import confusion_matrix\n",
    "from torch.utils.data import Dataset, DataLoader\n",
    "from sklearn.model_selection import train_test_split"
   ]
  },
  {
   "cell_type": "code",
   "execution_count": 3,
   "id": "0fb6e0d0-b8cc-44b8-a8ac-17934de905f6",
   "metadata": {
    "id": "0fb6e0d0-b8cc-44b8-a8ac-17934de905f6",
    "tags": [],
    "ExecuteTime": {
     "end_time": "2024-06-04T18:33:51.929983Z",
     "start_time": "2024-06-04T18:33:51.789998Z"
    }
   },
   "outputs": [],
   "source": [
    "# serve per ricaricare automaticamente il codice modificato\n",
    "%load_ext autoreload\n",
    "%autoreload 2"
   ]
  },
  {
   "cell_type": "code",
   "execution_count": 4,
   "id": "f02ae726-f601-4b51-a949-71a5464ec779",
   "metadata": {
    "id": "f02ae726-f601-4b51-a949-71a5464ec779",
    "tags": [],
    "ExecuteTime": {
     "end_time": "2024-06-04T18:33:52.146572Z",
     "start_time": "2024-06-04T18:33:51.931987Z"
    }
   },
   "outputs": [
    {
     "name": "stdout",
     "output_type": "stream",
     "text": [
      "PyTorch version: 2.3.0+cu121\n",
      "CUDA version: 12.1\n",
      "cuDNN version: 8801\n",
      "Available devices: 1\n",
      "Device name: NVIDIA GeForce RTX 2050\n"
     ]
    }
   ],
   "source": [
    "# directory da dove vengono prelevate le immagini\n",
    "path = Path(os.getcwd()).parent.parent\n",
    "real_data_dir = os.path.join(path, \"artifact\", \"coco\")\n",
    "fake_data_dir = os.path.join(path, \"artifact\", \"taming_transformer\")\n",
    "\n",
    "# per far funzionare il modello su immagini rgb o in scala di grigi (per usare fourier)\n",
    "mode=\"rgb\"\n",
    "\n",
    "BATCH_SIZE = 32\n",
    "\n",
    "LR = 0.001\n",
    "\n",
    "EPOCHS = 30\n",
    "\n",
    "DEVICE = \"cuda\"\n",
    "\n",
    "print(f\"PyTorch version: {torch.__version__}\")\n",
    "print(f\"CUDA version: {torch.version.cuda}\")\n",
    "print(f\"cuDNN version: {torch.backends.cudnn.version()}\")\n",
    "print(f\"Available devices: {torch.cuda.device_count()}\")\n",
    "print(f\"Device name: {torch.cuda.get_device_name(0)}\")"
   ]
  },
  {
   "cell_type": "code",
   "execution_count": 5,
   "id": "6c035a79-a777-4fb4-83fc-c71f1f4d37a7",
   "metadata": {
    "id": "6c035a79-a777-4fb4-83fc-c71f1f4d37a7",
    "tags": [],
    "ExecuteTime": {
     "end_time": "2024-06-04T18:33:52.446122Z",
     "start_time": "2024-06-04T18:33:52.151553Z"
    }
   },
   "outputs": [
    {
     "name": "stdout",
     "output_type": "stream",
     "text": [
      "train dataset size: 2068\n",
      "val dataset size: 518\n"
     ]
    }
   ],
   "source": [
    "csv_path = os.path.join(\"..\", \"datasets\", \"semi_hard_mining_database.csv\")\n",
    "df = pd.read_csv(csv_path)\n",
    "\n",
    "df = df.sample(frac=1)\n",
    "\n",
    "df.head()\n",
    "\n",
    "train_df, valid_df = train_test_split(df, test_size=0.20, random_state=42)\n",
    "\n",
    "print(f\"train dataset size: {len(train_df)}\")\n",
    "print(f\"val dataset size: {len(valid_df)}\")"
   ]
  },
  {
   "cell_type": "code",
   "execution_count": 6,
   "id": "aa3dfd88-2685-4ef3-8cac-2e2c85c6f0fe",
   "metadata": {
    "id": "aa3dfd88-2685-4ef3-8cac-2e2c85c6f0fe",
    "tags": [],
    "ExecuteTime": {
     "end_time": "2024-06-04T18:33:52.584137Z",
     "start_time": "2024-06-04T18:33:52.448124Z"
    }
   },
   "outputs": [],
   "source": [
    "# carica le immagini nel dataset\n",
    "class APN_Dataset(Dataset):\n",
    "\n",
    "  def __init__(self, df):\n",
    "    self.df = df\n",
    "\n",
    "  def __len__(self):\n",
    "    return len(self.df)\n",
    "\n",
    "  def __getitem__(self, idx):\n",
    "    row = self.df.iloc[idx]\n",
    "    \n",
    "    if mode == \"rgb\":\n",
    "      # le immagini Anchor sono memorizzate in due dataset diversi\n",
    "      if \"tt\" in row.Anchor:\n",
    "        A_img = io.imread(os.path.join(fake_data_dir, row.Anchor))\n",
    "        P_img = io.imread(os.path.join(fake_data_dir, row.Positive))\n",
    "        N_img = io.imread(os.path.join(real_data_dir, row.Negative))\n",
    "      else:\n",
    "        A_img = io.imread(os.path.join(real_data_dir, row.Anchor))\n",
    "        P_img = io.imread(os.path.join(real_data_dir, row.Positive))\n",
    "        N_img = io.imread(os.path.join(fake_data_dir, row.Negative))\n",
    "          \n",
    "      # normalizzazione per immagini in rgb \n",
    "      A_img = torch.from_numpy(A_img).permute(2, 0, 1) / 255.0\n",
    "      P_img = torch.from_numpy(P_img).permute(2, 0, 1) / 255.0\n",
    "      N_img = torch.from_numpy(N_img).permute(2, 0, 1) / 255.0\n",
    "\n",
    "    if mode == \"grey_scale\":\n",
    "      A_img = np.expand_dims(A_img, 0)\n",
    "      P_img = np.expand_dims(P_img, 0)\n",
    "      N_img = np.expand_dims(N_img, 0)\n",
    "      \n",
    "      A_img = torch.from_numpy(A_img) / 255.0\n",
    "      P_img = torch.from_numpy(P_img) / 255.0\n",
    "      N_img = torch.from_numpy(N_img) / 255.0\n",
    "\n",
    "    # A_img = torch.from_numpy(A_img.astype(np.int32)) / 65536.0\n",
    "    # P_img = torch.from_numpy(P_img.astype(np.int32)) / 65536.0\n",
    "    # N_img = torch.from_numpy(N_img.astype(np.int32)) / 65536.0\n",
    "\n",
    "    return A_img, P_img, N_img"
   ]
  },
  {
   "cell_type": "code",
   "execution_count": 7,
   "id": "8203b726-6dcc-41fc-ac33-d98f58e61ac7",
   "metadata": {
    "id": "8203b726-6dcc-41fc-ac33-d98f58e61ac7",
    "outputId": "60287971-91ea-41f4-e564-ec8524cb8d3d",
    "tags": [],
    "ExecuteTime": {
     "end_time": "2024-06-04T18:33:52.696123Z",
     "start_time": "2024-06-04T18:33:52.585125Z"
    }
   },
   "outputs": [
    {
     "name": "stdout",
     "output_type": "stream",
     "text": [
      "trainset size: 2068\n",
      "validset size: 518\n"
     ]
    }
   ],
   "source": [
    "trainset = APN_Dataset(train_df)\n",
    "validset = APN_Dataset(valid_df)\n",
    "print(f\"trainset size: {len(trainset)}\")\n",
    "print(f\"validset size: {len(validset)}\")"
   ]
  },
  {
   "cell_type": "code",
   "execution_count": 8,
   "id": "4fae8215-4694-4710-b55a-e9c10bf42690",
   "metadata": {
    "id": "4fae8215-4694-4710-b55a-e9c10bf42690",
    "tags": [],
    "ExecuteTime": {
     "end_time": "2024-06-04T18:33:52.806155Z",
     "start_time": "2024-06-04T18:33:52.697126Z"
    }
   },
   "outputs": [],
   "source": [
    "trainloader = DataLoader(trainset, batch_size = BATCH_SIZE, shuffle = True)\n",
    "validloader = DataLoader(validset, batch_size = BATCH_SIZE)"
   ]
  },
  {
   "cell_type": "code",
   "execution_count": 9,
   "id": "9b9c0301-e6a8-47cb-91f8-9850b78e39d5",
   "metadata": {
    "id": "9b9c0301-e6a8-47cb-91f8-9850b78e39d5",
    "outputId": "0be94549-1119-4856-dce2-a7df0229a36d",
    "tags": [],
    "ExecuteTime": {
     "end_time": "2024-06-04T18:33:52.916124Z",
     "start_time": "2024-06-04T18:33:52.807123Z"
    }
   },
   "outputs": [
    {
     "name": "stdout",
     "output_type": "stream",
     "text": [
      "#batches in trainloader : 65\n",
      "#batches in validloader : 17\n"
     ]
    }
   ],
   "source": [
    "print(f\"#batches in trainloader : {len(trainloader)}\")\n",
    "print(f\"#batches in validloader : {len(validloader)}\")"
   ]
  },
  {
   "cell_type": "code",
   "execution_count": 10,
   "id": "d1022fe9",
   "metadata": {
    "ExecuteTime": {
     "end_time": "2024-06-04T18:33:53.042144Z",
     "start_time": "2024-06-04T18:33:52.918125Z"
    }
   },
   "outputs": [],
   "source": [
    "# funzione per caricare il modello di rete neurale direttamente dalle repository online\n",
    "class APN_Model_Pretrained(nn.Module):\n",
    "\n",
    "  # size del vettore di embedding\n",
    "  def __init__(self, emb_size = 512):\n",
    "    super(APN_Model_Pretrained, self).__init__()\n",
    "\n",
    "    # caricamento del modello, in questo caso efficientnet b0 (architettura più leggera della famiglia)\n",
    "    self.efficientnet = timm.create_model(\"tf_efficientnetv2_b0\", pretrained=True)\n",
    "    self.efficientnet.classifier = nn.Linear(in_features=self.efficientnet.classifier.in_features, out_features=emb_size)\n",
    "\n",
    "  def forward(self, images):\n",
    "    embeddings = self.efficientnet(images)\n",
    "    return embeddings"
   ]
  },
  {
   "cell_type": "code",
   "execution_count": 11,
   "id": "477f08a1-15bb-471f-974c-23c6bef4ece3",
   "metadata": {
    "id": "477f08a1-15bb-471f-974c-23c6bef4ece3",
    "tags": [],
    "ExecuteTime": {
     "end_time": "2024-06-04T18:33:53.200125Z",
     "start_time": "2024-06-04T18:33:53.044125Z"
    }
   },
   "outputs": [],
   "source": [
    "# funzione per caricare il modello di rete neurale direttamente dalle repository online\n",
    "class APN_Model(nn.Module):\n",
    "\n",
    "  # size del vettore di embedding\n",
    "  def __init__(self, emb_size = 512):\n",
    "    super(APN_Model, self).__init__()\n",
    "\n",
    "    # caricamento del modello, in questo caso efficientnet b0 (architettura più leggera della famiglia)\n",
    "    self.efficientnet = timm.create_model(\"tf_efficientnetv2_b0\", pretrained=False)\n",
    "    self.efficientnet.classifier = nn.Linear(in_features=self.efficientnet.classifier.in_features, out_features=emb_size)\n",
    "\n",
    "  def forward(self, images):\n",
    "    embeddings = self.efficientnet(images)\n",
    "    return embeddings"
   ]
  },
  {
   "cell_type": "code",
   "execution_count": 12,
   "id": "a64f5032-dc37-4858-a901-d17b2eaed4db",
   "metadata": {
    "id": "a64f5032-dc37-4858-a901-d17b2eaed4db",
    "tags": [],
    "ExecuteTime": {
     "end_time": "2024-06-04T18:33:53.753128Z",
     "start_time": "2024-06-04T18:33:53.202128Z"
    }
   },
   "outputs": [
    {
     "data": {
      "text/plain": "APN_Model_Pretrained(\n  (efficientnet): EfficientNet(\n    (conv_stem): Conv2dSame(3, 32, kernel_size=(3, 3), stride=(2, 2), bias=False)\n    (bn1): BatchNormAct2d(\n      32, eps=0.001, momentum=0.1, affine=True, track_running_stats=True\n      (drop): Identity()\n      (act): SiLU(inplace=True)\n    )\n    (blocks): Sequential(\n      (0): Sequential(\n        (0): ConvBnAct(\n          (conv): Conv2d(32, 16, kernel_size=(3, 3), stride=(1, 1), padding=(1, 1), bias=False)\n          (bn1): BatchNormAct2d(\n            16, eps=0.001, momentum=0.1, affine=True, track_running_stats=True\n            (drop): Identity()\n            (act): SiLU(inplace=True)\n          )\n          (drop_path): Identity()\n        )\n      )\n      (1): Sequential(\n        (0): EdgeResidual(\n          (conv_exp): Conv2dSame(16, 64, kernel_size=(3, 3), stride=(2, 2), bias=False)\n          (bn1): BatchNormAct2d(\n            64, eps=0.001, momentum=0.1, affine=True, track_running_stats=True\n            (drop): Identity()\n            (act): SiLU(inplace=True)\n          )\n          (se): Identity()\n          (conv_pwl): Conv2d(64, 32, kernel_size=(1, 1), stride=(1, 1), bias=False)\n          (bn2): BatchNormAct2d(\n            32, eps=0.001, momentum=0.1, affine=True, track_running_stats=True\n            (drop): Identity()\n            (act): Identity()\n          )\n          (drop_path): Identity()\n        )\n        (1): EdgeResidual(\n          (conv_exp): Conv2d(32, 128, kernel_size=(3, 3), stride=(1, 1), padding=(1, 1), bias=False)\n          (bn1): BatchNormAct2d(\n            128, eps=0.001, momentum=0.1, affine=True, track_running_stats=True\n            (drop): Identity()\n            (act): SiLU(inplace=True)\n          )\n          (se): Identity()\n          (conv_pwl): Conv2d(128, 32, kernel_size=(1, 1), stride=(1, 1), bias=False)\n          (bn2): BatchNormAct2d(\n            32, eps=0.001, momentum=0.1, affine=True, track_running_stats=True\n            (drop): Identity()\n            (act): Identity()\n          )\n          (drop_path): Identity()\n        )\n      )\n      (2): Sequential(\n        (0): EdgeResidual(\n          (conv_exp): Conv2dSame(32, 128, kernel_size=(3, 3), stride=(2, 2), bias=False)\n          (bn1): BatchNormAct2d(\n            128, eps=0.001, momentum=0.1, affine=True, track_running_stats=True\n            (drop): Identity()\n            (act): SiLU(inplace=True)\n          )\n          (se): Identity()\n          (conv_pwl): Conv2d(128, 48, kernel_size=(1, 1), stride=(1, 1), bias=False)\n          (bn2): BatchNormAct2d(\n            48, eps=0.001, momentum=0.1, affine=True, track_running_stats=True\n            (drop): Identity()\n            (act): Identity()\n          )\n          (drop_path): Identity()\n        )\n        (1): EdgeResidual(\n          (conv_exp): Conv2d(48, 192, kernel_size=(3, 3), stride=(1, 1), padding=(1, 1), bias=False)\n          (bn1): BatchNormAct2d(\n            192, eps=0.001, momentum=0.1, affine=True, track_running_stats=True\n            (drop): Identity()\n            (act): SiLU(inplace=True)\n          )\n          (se): Identity()\n          (conv_pwl): Conv2d(192, 48, kernel_size=(1, 1), stride=(1, 1), bias=False)\n          (bn2): BatchNormAct2d(\n            48, eps=0.001, momentum=0.1, affine=True, track_running_stats=True\n            (drop): Identity()\n            (act): Identity()\n          )\n          (drop_path): Identity()\n        )\n      )\n      (3): Sequential(\n        (0): InvertedResidual(\n          (conv_pw): Conv2d(48, 192, kernel_size=(1, 1), stride=(1, 1), bias=False)\n          (bn1): BatchNormAct2d(\n            192, eps=0.001, momentum=0.1, affine=True, track_running_stats=True\n            (drop): Identity()\n            (act): SiLU(inplace=True)\n          )\n          (conv_dw): Conv2dSame(192, 192, kernel_size=(3, 3), stride=(2, 2), groups=192, bias=False)\n          (bn2): BatchNormAct2d(\n            192, eps=0.001, momentum=0.1, affine=True, track_running_stats=True\n            (drop): Identity()\n            (act): SiLU(inplace=True)\n          )\n          (se): SqueezeExcite(\n            (conv_reduce): Conv2d(192, 12, kernel_size=(1, 1), stride=(1, 1))\n            (act1): SiLU(inplace=True)\n            (conv_expand): Conv2d(12, 192, kernel_size=(1, 1), stride=(1, 1))\n            (gate): Sigmoid()\n          )\n          (conv_pwl): Conv2d(192, 96, kernel_size=(1, 1), stride=(1, 1), bias=False)\n          (bn3): BatchNormAct2d(\n            96, eps=0.001, momentum=0.1, affine=True, track_running_stats=True\n            (drop): Identity()\n            (act): Identity()\n          )\n          (drop_path): Identity()\n        )\n        (1): InvertedResidual(\n          (conv_pw): Conv2d(96, 384, kernel_size=(1, 1), stride=(1, 1), bias=False)\n          (bn1): BatchNormAct2d(\n            384, eps=0.001, momentum=0.1, affine=True, track_running_stats=True\n            (drop): Identity()\n            (act): SiLU(inplace=True)\n          )\n          (conv_dw): Conv2d(384, 384, kernel_size=(3, 3), stride=(1, 1), padding=(1, 1), groups=384, bias=False)\n          (bn2): BatchNormAct2d(\n            384, eps=0.001, momentum=0.1, affine=True, track_running_stats=True\n            (drop): Identity()\n            (act): SiLU(inplace=True)\n          )\n          (se): SqueezeExcite(\n            (conv_reduce): Conv2d(384, 24, kernel_size=(1, 1), stride=(1, 1))\n            (act1): SiLU(inplace=True)\n            (conv_expand): Conv2d(24, 384, kernel_size=(1, 1), stride=(1, 1))\n            (gate): Sigmoid()\n          )\n          (conv_pwl): Conv2d(384, 96, kernel_size=(1, 1), stride=(1, 1), bias=False)\n          (bn3): BatchNormAct2d(\n            96, eps=0.001, momentum=0.1, affine=True, track_running_stats=True\n            (drop): Identity()\n            (act): Identity()\n          )\n          (drop_path): Identity()\n        )\n        (2): InvertedResidual(\n          (conv_pw): Conv2d(96, 384, kernel_size=(1, 1), stride=(1, 1), bias=False)\n          (bn1): BatchNormAct2d(\n            384, eps=0.001, momentum=0.1, affine=True, track_running_stats=True\n            (drop): Identity()\n            (act): SiLU(inplace=True)\n          )\n          (conv_dw): Conv2d(384, 384, kernel_size=(3, 3), stride=(1, 1), padding=(1, 1), groups=384, bias=False)\n          (bn2): BatchNormAct2d(\n            384, eps=0.001, momentum=0.1, affine=True, track_running_stats=True\n            (drop): Identity()\n            (act): SiLU(inplace=True)\n          )\n          (se): SqueezeExcite(\n            (conv_reduce): Conv2d(384, 24, kernel_size=(1, 1), stride=(1, 1))\n            (act1): SiLU(inplace=True)\n            (conv_expand): Conv2d(24, 384, kernel_size=(1, 1), stride=(1, 1))\n            (gate): Sigmoid()\n          )\n          (conv_pwl): Conv2d(384, 96, kernel_size=(1, 1), stride=(1, 1), bias=False)\n          (bn3): BatchNormAct2d(\n            96, eps=0.001, momentum=0.1, affine=True, track_running_stats=True\n            (drop): Identity()\n            (act): Identity()\n          )\n          (drop_path): Identity()\n        )\n      )\n      (4): Sequential(\n        (0): InvertedResidual(\n          (conv_pw): Conv2d(96, 576, kernel_size=(1, 1), stride=(1, 1), bias=False)\n          (bn1): BatchNormAct2d(\n            576, eps=0.001, momentum=0.1, affine=True, track_running_stats=True\n            (drop): Identity()\n            (act): SiLU(inplace=True)\n          )\n          (conv_dw): Conv2d(576, 576, kernel_size=(3, 3), stride=(1, 1), padding=(1, 1), groups=576, bias=False)\n          (bn2): BatchNormAct2d(\n            576, eps=0.001, momentum=0.1, affine=True, track_running_stats=True\n            (drop): Identity()\n            (act): SiLU(inplace=True)\n          )\n          (se): SqueezeExcite(\n            (conv_reduce): Conv2d(576, 24, kernel_size=(1, 1), stride=(1, 1))\n            (act1): SiLU(inplace=True)\n            (conv_expand): Conv2d(24, 576, kernel_size=(1, 1), stride=(1, 1))\n            (gate): Sigmoid()\n          )\n          (conv_pwl): Conv2d(576, 112, kernel_size=(1, 1), stride=(1, 1), bias=False)\n          (bn3): BatchNormAct2d(\n            112, eps=0.001, momentum=0.1, affine=True, track_running_stats=True\n            (drop): Identity()\n            (act): Identity()\n          )\n          (drop_path): Identity()\n        )\n        (1): InvertedResidual(\n          (conv_pw): Conv2d(112, 672, kernel_size=(1, 1), stride=(1, 1), bias=False)\n          (bn1): BatchNormAct2d(\n            672, eps=0.001, momentum=0.1, affine=True, track_running_stats=True\n            (drop): Identity()\n            (act): SiLU(inplace=True)\n          )\n          (conv_dw): Conv2d(672, 672, kernel_size=(3, 3), stride=(1, 1), padding=(1, 1), groups=672, bias=False)\n          (bn2): BatchNormAct2d(\n            672, eps=0.001, momentum=0.1, affine=True, track_running_stats=True\n            (drop): Identity()\n            (act): SiLU(inplace=True)\n          )\n          (se): SqueezeExcite(\n            (conv_reduce): Conv2d(672, 28, kernel_size=(1, 1), stride=(1, 1))\n            (act1): SiLU(inplace=True)\n            (conv_expand): Conv2d(28, 672, kernel_size=(1, 1), stride=(1, 1))\n            (gate): Sigmoid()\n          )\n          (conv_pwl): Conv2d(672, 112, kernel_size=(1, 1), stride=(1, 1), bias=False)\n          (bn3): BatchNormAct2d(\n            112, eps=0.001, momentum=0.1, affine=True, track_running_stats=True\n            (drop): Identity()\n            (act): Identity()\n          )\n          (drop_path): Identity()\n        )\n        (2): InvertedResidual(\n          (conv_pw): Conv2d(112, 672, kernel_size=(1, 1), stride=(1, 1), bias=False)\n          (bn1): BatchNormAct2d(\n            672, eps=0.001, momentum=0.1, affine=True, track_running_stats=True\n            (drop): Identity()\n            (act): SiLU(inplace=True)\n          )\n          (conv_dw): Conv2d(672, 672, kernel_size=(3, 3), stride=(1, 1), padding=(1, 1), groups=672, bias=False)\n          (bn2): BatchNormAct2d(\n            672, eps=0.001, momentum=0.1, affine=True, track_running_stats=True\n            (drop): Identity()\n            (act): SiLU(inplace=True)\n          )\n          (se): SqueezeExcite(\n            (conv_reduce): Conv2d(672, 28, kernel_size=(1, 1), stride=(1, 1))\n            (act1): SiLU(inplace=True)\n            (conv_expand): Conv2d(28, 672, kernel_size=(1, 1), stride=(1, 1))\n            (gate): Sigmoid()\n          )\n          (conv_pwl): Conv2d(672, 112, kernel_size=(1, 1), stride=(1, 1), bias=False)\n          (bn3): BatchNormAct2d(\n            112, eps=0.001, momentum=0.1, affine=True, track_running_stats=True\n            (drop): Identity()\n            (act): Identity()\n          )\n          (drop_path): Identity()\n        )\n        (3): InvertedResidual(\n          (conv_pw): Conv2d(112, 672, kernel_size=(1, 1), stride=(1, 1), bias=False)\n          (bn1): BatchNormAct2d(\n            672, eps=0.001, momentum=0.1, affine=True, track_running_stats=True\n            (drop): Identity()\n            (act): SiLU(inplace=True)\n          )\n          (conv_dw): Conv2d(672, 672, kernel_size=(3, 3), stride=(1, 1), padding=(1, 1), groups=672, bias=False)\n          (bn2): BatchNormAct2d(\n            672, eps=0.001, momentum=0.1, affine=True, track_running_stats=True\n            (drop): Identity()\n            (act): SiLU(inplace=True)\n          )\n          (se): SqueezeExcite(\n            (conv_reduce): Conv2d(672, 28, kernel_size=(1, 1), stride=(1, 1))\n            (act1): SiLU(inplace=True)\n            (conv_expand): Conv2d(28, 672, kernel_size=(1, 1), stride=(1, 1))\n            (gate): Sigmoid()\n          )\n          (conv_pwl): Conv2d(672, 112, kernel_size=(1, 1), stride=(1, 1), bias=False)\n          (bn3): BatchNormAct2d(\n            112, eps=0.001, momentum=0.1, affine=True, track_running_stats=True\n            (drop): Identity()\n            (act): Identity()\n          )\n          (drop_path): Identity()\n        )\n        (4): InvertedResidual(\n          (conv_pw): Conv2d(112, 672, kernel_size=(1, 1), stride=(1, 1), bias=False)\n          (bn1): BatchNormAct2d(\n            672, eps=0.001, momentum=0.1, affine=True, track_running_stats=True\n            (drop): Identity()\n            (act): SiLU(inplace=True)\n          )\n          (conv_dw): Conv2d(672, 672, kernel_size=(3, 3), stride=(1, 1), padding=(1, 1), groups=672, bias=False)\n          (bn2): BatchNormAct2d(\n            672, eps=0.001, momentum=0.1, affine=True, track_running_stats=True\n            (drop): Identity()\n            (act): SiLU(inplace=True)\n          )\n          (se): SqueezeExcite(\n            (conv_reduce): Conv2d(672, 28, kernel_size=(1, 1), stride=(1, 1))\n            (act1): SiLU(inplace=True)\n            (conv_expand): Conv2d(28, 672, kernel_size=(1, 1), stride=(1, 1))\n            (gate): Sigmoid()\n          )\n          (conv_pwl): Conv2d(672, 112, kernel_size=(1, 1), stride=(1, 1), bias=False)\n          (bn3): BatchNormAct2d(\n            112, eps=0.001, momentum=0.1, affine=True, track_running_stats=True\n            (drop): Identity()\n            (act): Identity()\n          )\n          (drop_path): Identity()\n        )\n      )\n      (5): Sequential(\n        (0): InvertedResidual(\n          (conv_pw): Conv2d(112, 672, kernel_size=(1, 1), stride=(1, 1), bias=False)\n          (bn1): BatchNormAct2d(\n            672, eps=0.001, momentum=0.1, affine=True, track_running_stats=True\n            (drop): Identity()\n            (act): SiLU(inplace=True)\n          )\n          (conv_dw): Conv2dSame(672, 672, kernel_size=(3, 3), stride=(2, 2), groups=672, bias=False)\n          (bn2): BatchNormAct2d(\n            672, eps=0.001, momentum=0.1, affine=True, track_running_stats=True\n            (drop): Identity()\n            (act): SiLU(inplace=True)\n          )\n          (se): SqueezeExcite(\n            (conv_reduce): Conv2d(672, 28, kernel_size=(1, 1), stride=(1, 1))\n            (act1): SiLU(inplace=True)\n            (conv_expand): Conv2d(28, 672, kernel_size=(1, 1), stride=(1, 1))\n            (gate): Sigmoid()\n          )\n          (conv_pwl): Conv2d(672, 192, kernel_size=(1, 1), stride=(1, 1), bias=False)\n          (bn3): BatchNormAct2d(\n            192, eps=0.001, momentum=0.1, affine=True, track_running_stats=True\n            (drop): Identity()\n            (act): Identity()\n          )\n          (drop_path): Identity()\n        )\n        (1): InvertedResidual(\n          (conv_pw): Conv2d(192, 1152, kernel_size=(1, 1), stride=(1, 1), bias=False)\n          (bn1): BatchNormAct2d(\n            1152, eps=0.001, momentum=0.1, affine=True, track_running_stats=True\n            (drop): Identity()\n            (act): SiLU(inplace=True)\n          )\n          (conv_dw): Conv2d(1152, 1152, kernel_size=(3, 3), stride=(1, 1), padding=(1, 1), groups=1152, bias=False)\n          (bn2): BatchNormAct2d(\n            1152, eps=0.001, momentum=0.1, affine=True, track_running_stats=True\n            (drop): Identity()\n            (act): SiLU(inplace=True)\n          )\n          (se): SqueezeExcite(\n            (conv_reduce): Conv2d(1152, 48, kernel_size=(1, 1), stride=(1, 1))\n            (act1): SiLU(inplace=True)\n            (conv_expand): Conv2d(48, 1152, kernel_size=(1, 1), stride=(1, 1))\n            (gate): Sigmoid()\n          )\n          (conv_pwl): Conv2d(1152, 192, kernel_size=(1, 1), stride=(1, 1), bias=False)\n          (bn3): BatchNormAct2d(\n            192, eps=0.001, momentum=0.1, affine=True, track_running_stats=True\n            (drop): Identity()\n            (act): Identity()\n          )\n          (drop_path): Identity()\n        )\n        (2): InvertedResidual(\n          (conv_pw): Conv2d(192, 1152, kernel_size=(1, 1), stride=(1, 1), bias=False)\n          (bn1): BatchNormAct2d(\n            1152, eps=0.001, momentum=0.1, affine=True, track_running_stats=True\n            (drop): Identity()\n            (act): SiLU(inplace=True)\n          )\n          (conv_dw): Conv2d(1152, 1152, kernel_size=(3, 3), stride=(1, 1), padding=(1, 1), groups=1152, bias=False)\n          (bn2): BatchNormAct2d(\n            1152, eps=0.001, momentum=0.1, affine=True, track_running_stats=True\n            (drop): Identity()\n            (act): SiLU(inplace=True)\n          )\n          (se): SqueezeExcite(\n            (conv_reduce): Conv2d(1152, 48, kernel_size=(1, 1), stride=(1, 1))\n            (act1): SiLU(inplace=True)\n            (conv_expand): Conv2d(48, 1152, kernel_size=(1, 1), stride=(1, 1))\n            (gate): Sigmoid()\n          )\n          (conv_pwl): Conv2d(1152, 192, kernel_size=(1, 1), stride=(1, 1), bias=False)\n          (bn3): BatchNormAct2d(\n            192, eps=0.001, momentum=0.1, affine=True, track_running_stats=True\n            (drop): Identity()\n            (act): Identity()\n          )\n          (drop_path): Identity()\n        )\n        (3): InvertedResidual(\n          (conv_pw): Conv2d(192, 1152, kernel_size=(1, 1), stride=(1, 1), bias=False)\n          (bn1): BatchNormAct2d(\n            1152, eps=0.001, momentum=0.1, affine=True, track_running_stats=True\n            (drop): Identity()\n            (act): SiLU(inplace=True)\n          )\n          (conv_dw): Conv2d(1152, 1152, kernel_size=(3, 3), stride=(1, 1), padding=(1, 1), groups=1152, bias=False)\n          (bn2): BatchNormAct2d(\n            1152, eps=0.001, momentum=0.1, affine=True, track_running_stats=True\n            (drop): Identity()\n            (act): SiLU(inplace=True)\n          )\n          (se): SqueezeExcite(\n            (conv_reduce): Conv2d(1152, 48, kernel_size=(1, 1), stride=(1, 1))\n            (act1): SiLU(inplace=True)\n            (conv_expand): Conv2d(48, 1152, kernel_size=(1, 1), stride=(1, 1))\n            (gate): Sigmoid()\n          )\n          (conv_pwl): Conv2d(1152, 192, kernel_size=(1, 1), stride=(1, 1), bias=False)\n          (bn3): BatchNormAct2d(\n            192, eps=0.001, momentum=0.1, affine=True, track_running_stats=True\n            (drop): Identity()\n            (act): Identity()\n          )\n          (drop_path): Identity()\n        )\n        (4): InvertedResidual(\n          (conv_pw): Conv2d(192, 1152, kernel_size=(1, 1), stride=(1, 1), bias=False)\n          (bn1): BatchNormAct2d(\n            1152, eps=0.001, momentum=0.1, affine=True, track_running_stats=True\n            (drop): Identity()\n            (act): SiLU(inplace=True)\n          )\n          (conv_dw): Conv2d(1152, 1152, kernel_size=(3, 3), stride=(1, 1), padding=(1, 1), groups=1152, bias=False)\n          (bn2): BatchNormAct2d(\n            1152, eps=0.001, momentum=0.1, affine=True, track_running_stats=True\n            (drop): Identity()\n            (act): SiLU(inplace=True)\n          )\n          (se): SqueezeExcite(\n            (conv_reduce): Conv2d(1152, 48, kernel_size=(1, 1), stride=(1, 1))\n            (act1): SiLU(inplace=True)\n            (conv_expand): Conv2d(48, 1152, kernel_size=(1, 1), stride=(1, 1))\n            (gate): Sigmoid()\n          )\n          (conv_pwl): Conv2d(1152, 192, kernel_size=(1, 1), stride=(1, 1), bias=False)\n          (bn3): BatchNormAct2d(\n            192, eps=0.001, momentum=0.1, affine=True, track_running_stats=True\n            (drop): Identity()\n            (act): Identity()\n          )\n          (drop_path): Identity()\n        )\n        (5): InvertedResidual(\n          (conv_pw): Conv2d(192, 1152, kernel_size=(1, 1), stride=(1, 1), bias=False)\n          (bn1): BatchNormAct2d(\n            1152, eps=0.001, momentum=0.1, affine=True, track_running_stats=True\n            (drop): Identity()\n            (act): SiLU(inplace=True)\n          )\n          (conv_dw): Conv2d(1152, 1152, kernel_size=(3, 3), stride=(1, 1), padding=(1, 1), groups=1152, bias=False)\n          (bn2): BatchNormAct2d(\n            1152, eps=0.001, momentum=0.1, affine=True, track_running_stats=True\n            (drop): Identity()\n            (act): SiLU(inplace=True)\n          )\n          (se): SqueezeExcite(\n            (conv_reduce): Conv2d(1152, 48, kernel_size=(1, 1), stride=(1, 1))\n            (act1): SiLU(inplace=True)\n            (conv_expand): Conv2d(48, 1152, kernel_size=(1, 1), stride=(1, 1))\n            (gate): Sigmoid()\n          )\n          (conv_pwl): Conv2d(1152, 192, kernel_size=(1, 1), stride=(1, 1), bias=False)\n          (bn3): BatchNormAct2d(\n            192, eps=0.001, momentum=0.1, affine=True, track_running_stats=True\n            (drop): Identity()\n            (act): Identity()\n          )\n          (drop_path): Identity()\n        )\n        (6): InvertedResidual(\n          (conv_pw): Conv2d(192, 1152, kernel_size=(1, 1), stride=(1, 1), bias=False)\n          (bn1): BatchNormAct2d(\n            1152, eps=0.001, momentum=0.1, affine=True, track_running_stats=True\n            (drop): Identity()\n            (act): SiLU(inplace=True)\n          )\n          (conv_dw): Conv2d(1152, 1152, kernel_size=(3, 3), stride=(1, 1), padding=(1, 1), groups=1152, bias=False)\n          (bn2): BatchNormAct2d(\n            1152, eps=0.001, momentum=0.1, affine=True, track_running_stats=True\n            (drop): Identity()\n            (act): SiLU(inplace=True)\n          )\n          (se): SqueezeExcite(\n            (conv_reduce): Conv2d(1152, 48, kernel_size=(1, 1), stride=(1, 1))\n            (act1): SiLU(inplace=True)\n            (conv_expand): Conv2d(48, 1152, kernel_size=(1, 1), stride=(1, 1))\n            (gate): Sigmoid()\n          )\n          (conv_pwl): Conv2d(1152, 192, kernel_size=(1, 1), stride=(1, 1), bias=False)\n          (bn3): BatchNormAct2d(\n            192, eps=0.001, momentum=0.1, affine=True, track_running_stats=True\n            (drop): Identity()\n            (act): Identity()\n          )\n          (drop_path): Identity()\n        )\n        (7): InvertedResidual(\n          (conv_pw): Conv2d(192, 1152, kernel_size=(1, 1), stride=(1, 1), bias=False)\n          (bn1): BatchNormAct2d(\n            1152, eps=0.001, momentum=0.1, affine=True, track_running_stats=True\n            (drop): Identity()\n            (act): SiLU(inplace=True)\n          )\n          (conv_dw): Conv2d(1152, 1152, kernel_size=(3, 3), stride=(1, 1), padding=(1, 1), groups=1152, bias=False)\n          (bn2): BatchNormAct2d(\n            1152, eps=0.001, momentum=0.1, affine=True, track_running_stats=True\n            (drop): Identity()\n            (act): SiLU(inplace=True)\n          )\n          (se): SqueezeExcite(\n            (conv_reduce): Conv2d(1152, 48, kernel_size=(1, 1), stride=(1, 1))\n            (act1): SiLU(inplace=True)\n            (conv_expand): Conv2d(48, 1152, kernel_size=(1, 1), stride=(1, 1))\n            (gate): Sigmoid()\n          )\n          (conv_pwl): Conv2d(1152, 192, kernel_size=(1, 1), stride=(1, 1), bias=False)\n          (bn3): BatchNormAct2d(\n            192, eps=0.001, momentum=0.1, affine=True, track_running_stats=True\n            (drop): Identity()\n            (act): Identity()\n          )\n          (drop_path): Identity()\n        )\n      )\n    )\n    (conv_head): Conv2d(192, 1280, kernel_size=(1, 1), stride=(1, 1), bias=False)\n    (bn2): BatchNormAct2d(\n      1280, eps=0.001, momentum=0.1, affine=True, track_running_stats=True\n      (drop): Identity()\n      (act): SiLU(inplace=True)\n    )\n    (global_pool): SelectAdaptivePool2d(pool_type=avg, flatten=Flatten(start_dim=1, end_dim=-1))\n    (classifier): Linear(in_features=1280, out_features=512, bias=True)\n  )\n)"
     },
     "execution_count": 12,
     "metadata": {},
     "output_type": "execute_result"
    }
   ],
   "source": [
    "model = APN_Model_Pretrained()\n",
    "\n",
    "# per processare le immagini in scala di grigi per fare fourier serve una CNN 2D\n",
    "if mode == \"grey_scale\":\n",
    "    model.efficientnet.conv_stem = nn.Conv2d(1, 32, 3, 2, 1, bias=False)\n",
    "\n",
    "model.to(DEVICE)"
   ]
  },
  {
   "cell_type": "code",
   "execution_count": 13,
   "id": "28f6fa06-7584-4e35-844b-a1831a13c172",
   "metadata": {
    "id": "28f6fa06-7584-4e35-844b-a1831a13c172",
    "tags": [],
    "ExecuteTime": {
     "end_time": "2024-06-04T18:33:53.909957Z",
     "start_time": "2024-06-04T18:33:53.755130Z"
    }
   },
   "outputs": [],
   "source": [
    "# funzione di train\n",
    "def train_fn(model, dataloader, optimizer, criterion):\n",
    "  model.train()\n",
    "  # on dropout \n",
    "  total_loss = 0.0\n",
    "\n",
    "  for A, P, N in tqdm(dataloader, desc=\"model training...\"):\n",
    "    A, P, N = A.to(DEVICE), P.to(DEVICE), N.to(DEVICE)\n",
    "\n",
    "    # qui vengono creati gli embeddings, le cui distanze verranno calcolate dopo\n",
    "    A_embs = model(A)\n",
    "    P_embs = model(P)\n",
    "    N_embs = model(N)\n",
    "\n",
    "    # criterion è la funzione di loss triplet\n",
    "    loss = criterion(A_embs, P_embs, N_embs)\n",
    "\n",
    "    optimizer.zero_grad()\n",
    "    loss.backward()\n",
    "    optimizer.step()\n",
    "\n",
    "    total_loss += loss.item()\n",
    "\n",
    "  return total_loss / len(dataloader)\n"
   ]
  },
  {
   "cell_type": "code",
   "execution_count": 14,
   "id": "19ec6d56-9168-4980-9164-62660537f1ff",
   "metadata": {
    "id": "19ec6d56-9168-4980-9164-62660537f1ff",
    "tags": [],
    "ExecuteTime": {
     "end_time": "2024-06-04T18:33:54.067371Z",
     "start_time": "2024-06-04T18:33:53.915474Z"
    }
   },
   "outputs": [],
   "source": [
    "# funzione di evaluation\n",
    "def eval_fn(model, dataloader, criterion):\n",
    "  model.eval() \n",
    "  # off dropout\n",
    "  total_loss = 0.0\n",
    "\n",
    "  with torch.no_grad():\n",
    "    for A, P, N in tqdm(dataloader, desc=\"model validating...\"):\n",
    "      A, P, N = A.to(DEVICE), P.to(DEVICE), N.to(DEVICE)\n",
    "\n",
    "      A_embs = model(A)\n",
    "      P_embs = model(P)\n",
    "      N_embs = model(N)\n",
    "\n",
    "      loss = criterion(A_embs, P_embs, N_embs)\n",
    "\n",
    "      total_loss += loss.item()\n",
    "\n",
    "  return total_loss / len(dataloader)"
   ]
  },
  {
   "cell_type": "code",
   "execution_count": 15,
   "id": "f270e395-4b3f-4907-8ae7-a33043da0f80",
   "metadata": {
    "id": "f270e395-4b3f-4907-8ae7-a33043da0f80",
    "tags": [],
    "ExecuteTime": {
     "end_time": "2024-06-04T18:33:54.288507Z",
     "start_time": "2024-06-04T18:33:54.070371Z"
    }
   },
   "outputs": [],
   "source": [
    "# triplet loss e adam\n",
    "criterion = nn.TripletMarginLoss()\n",
    "optimizer = torch.optim.Adam(model.parameters(), lr=LR)"
   ]
  },
  {
   "cell_type": "code",
   "execution_count": 16,
   "id": "ac5b64b5-d28c-47bc-bbbf-acd4960e34ef",
   "metadata": {
    "id": "ac5b64b5-d28c-47bc-bbbf-acd4960e34ef",
    "tags": [],
    "ExecuteTime": {
     "end_time": "2024-06-04T19:56:17.528018Z",
     "start_time": "2024-06-04T18:33:54.290509Z"
    }
   },
   "outputs": [
    {
     "name": "stderr",
     "output_type": "stream",
     "text": [
      "model training...:   0%|          | 0/65 [00:00<?, ?it/s]C:\\Users\\acali\\anaconda3\\envs\\fvabdetective\\lib\\site-packages\\timm\\layers\\conv2d_same.py:27: UserWarning: Plan failed with a cudnnException: CUDNN_BACKEND_EXECUTION_PLAN_DESCRIPTOR: cudnnFinalize Descriptor Failed cudnn_status: CUDNN_STATUS_NOT_SUPPORTED (Triggered internally at ..\\aten\\src\\ATen\\native\\cudnn\\Conv_v8.cpp:919.)\n",
      "  return F.conv2d(x, weight, bias, stride, (0, 0), dilation, groups)\n",
      "model training...: 100%|██████████| 65/65 [02:49<00:00,  2.61s/it]\n",
      "model validating...: 100%|██████████| 17/17 [00:11<00:00,  1.50it/s]\n"
     ]
    },
    {
     "name": "stdout",
     "output_type": "stream",
     "text": [
      "successful weights saving...\n",
      "epochs: 1, train_loss: 0.6929798561793107, valid_loss: 0.5241909973761615\n"
     ]
    },
    {
     "name": "stderr",
     "output_type": "stream",
     "text": [
      "model training...: 100%|██████████| 65/65 [02:39<00:00,  2.45s/it]\n",
      "model validating...: 100%|██████████| 17/17 [00:09<00:00,  1.86it/s]\n"
     ]
    },
    {
     "name": "stdout",
     "output_type": "stream",
     "text": [
      "successful weights saving...\n",
      "epochs: 2, train_loss: 0.2708795917721895, valid_loss: 0.4572942519889158\n"
     ]
    },
    {
     "name": "stderr",
     "output_type": "stream",
     "text": [
      "model training...: 100%|██████████| 65/65 [02:37<00:00,  2.42s/it]\n",
      "model validating...: 100%|██████████| 17/17 [00:08<00:00,  1.91it/s]\n"
     ]
    },
    {
     "name": "stdout",
     "output_type": "stream",
     "text": [
      "epochs: 3, train_loss: 0.1035574040733851, valid_loss: 0.46537760513670307\n"
     ]
    },
    {
     "name": "stderr",
     "output_type": "stream",
     "text": [
      "model training...: 100%|██████████| 65/65 [02:36<00:00,  2.41s/it]\n",
      "model validating...: 100%|██████████| 17/17 [00:08<00:00,  1.95it/s]\n"
     ]
    },
    {
     "name": "stdout",
     "output_type": "stream",
     "text": [
      "epochs: 4, train_loss: 0.11480176786963757, valid_loss: 0.557334006709211\n"
     ]
    },
    {
     "name": "stderr",
     "output_type": "stream",
     "text": [
      "model training...: 100%|██████████| 65/65 [02:36<00:00,  2.41s/it]\n",
      "model validating...: 100%|██████████| 17/17 [00:09<00:00,  1.82it/s]\n"
     ]
    },
    {
     "name": "stdout",
     "output_type": "stream",
     "text": [
      "epochs: 5, train_loss: 0.16546003978986007, valid_loss: 0.6580463726730907\n"
     ]
    },
    {
     "name": "stderr",
     "output_type": "stream",
     "text": [
      "model training...: 100%|██████████| 65/65 [02:37<00:00,  2.42s/it]\n",
      "model validating...: 100%|██████████| 17/17 [00:09<00:00,  1.76it/s]\n"
     ]
    },
    {
     "name": "stdout",
     "output_type": "stream",
     "text": [
      "epochs: 6, train_loss: 0.11570042257125561, valid_loss: 0.5981470995089587\n"
     ]
    },
    {
     "name": "stderr",
     "output_type": "stream",
     "text": [
      "model training...: 100%|██████████| 65/65 [02:34<00:00,  2.38s/it]\n",
      "model validating...: 100%|██████████| 17/17 [00:09<00:00,  1.87it/s]\n"
     ]
    },
    {
     "name": "stdout",
     "output_type": "stream",
     "text": [
      "successful weights saving...\n",
      "epochs: 7, train_loss: 0.07359881492761465, valid_loss: 0.44754548195530386\n"
     ]
    },
    {
     "name": "stderr",
     "output_type": "stream",
     "text": [
      "model training...: 100%|██████████| 65/65 [02:34<00:00,  2.37s/it]\n",
      "model validating...: 100%|██████████| 17/17 [00:09<00:00,  1.88it/s]\n"
     ]
    },
    {
     "name": "stdout",
     "output_type": "stream",
     "text": [
      "epochs: 8, train_loss: 0.1709823502944066, valid_loss: 0.4897952298907673\n"
     ]
    },
    {
     "name": "stderr",
     "output_type": "stream",
     "text": [
      "model training...: 100%|██████████| 65/65 [02:34<00:00,  2.38s/it]\n",
      "model validating...: 100%|██████████| 17/17 [00:09<00:00,  1.86it/s]\n"
     ]
    },
    {
     "name": "stdout",
     "output_type": "stream",
     "text": [
      "epochs: 9, train_loss: 0.06597117804563962, valid_loss: 0.5786241661099827\n"
     ]
    },
    {
     "name": "stderr",
     "output_type": "stream",
     "text": [
      "model training...: 100%|██████████| 65/65 [02:34<00:00,  2.38s/it]\n",
      "model validating...: 100%|██████████| 17/17 [00:08<00:00,  1.96it/s]\n"
     ]
    },
    {
     "name": "stdout",
     "output_type": "stream",
     "text": [
      "successful weights saving...\n",
      "epochs: 10, train_loss: 0.06323742281932097, valid_loss: 0.40964174928034053\n"
     ]
    },
    {
     "name": "stderr",
     "output_type": "stream",
     "text": [
      "model training...: 100%|██████████| 65/65 [02:34<00:00,  2.38s/it]\n",
      "model validating...: 100%|██████████| 17/17 [00:08<00:00,  1.93it/s]\n"
     ]
    },
    {
     "name": "stdout",
     "output_type": "stream",
     "text": [
      "epochs: 11, train_loss: 0.022453756630420686, valid_loss: 0.4259486917187186\n"
     ]
    },
    {
     "name": "stderr",
     "output_type": "stream",
     "text": [
      "model training...: 100%|██████████| 65/65 [02:36<00:00,  2.41s/it]\n",
      "model validating...: 100%|██████████| 17/17 [00:09<00:00,  1.88it/s]\n"
     ]
    },
    {
     "name": "stdout",
     "output_type": "stream",
     "text": [
      "epochs: 12, train_loss: 0.02579550754565459, valid_loss: 0.4725642471629031\n"
     ]
    },
    {
     "name": "stderr",
     "output_type": "stream",
     "text": [
      "model training...: 100%|██████████| 65/65 [02:34<00:00,  2.38s/it]\n",
      "model validating...: 100%|██████████| 17/17 [00:09<00:00,  1.85it/s]\n"
     ]
    },
    {
     "name": "stdout",
     "output_type": "stream",
     "text": [
      "epochs: 13, train_loss: 0.05378923060802313, valid_loss: 0.6045092782553505\n"
     ]
    },
    {
     "name": "stderr",
     "output_type": "stream",
     "text": [
      "model training...: 100%|██████████| 65/65 [02:35<00:00,  2.39s/it]\n",
      "model validating...: 100%|██████████| 17/17 [00:08<00:00,  1.96it/s]\n"
     ]
    },
    {
     "name": "stdout",
     "output_type": "stream",
     "text": [
      "epochs: 14, train_loss: 0.044524339586496355, valid_loss: 0.49979396690340605\n"
     ]
    },
    {
     "name": "stderr",
     "output_type": "stream",
     "text": [
      "model training...: 100%|██████████| 65/65 [02:34<00:00,  2.38s/it]\n",
      "model validating...: 100%|██████████| 17/17 [00:08<00:00,  1.90it/s]\n"
     ]
    },
    {
     "name": "stdout",
     "output_type": "stream",
     "text": [
      "epochs: 15, train_loss: 0.04297009637722602, valid_loss: 0.5958631459404441\n"
     ]
    },
    {
     "name": "stderr",
     "output_type": "stream",
     "text": [
      "model training...: 100%|██████████| 65/65 [02:34<00:00,  2.38s/it]\n",
      "model validating...: 100%|██████████| 17/17 [00:09<00:00,  1.88it/s]\n"
     ]
    },
    {
     "name": "stdout",
     "output_type": "stream",
     "text": [
      "epochs: 16, train_loss: 0.2181572194282825, valid_loss: 0.7458968986483181\n"
     ]
    },
    {
     "name": "stderr",
     "output_type": "stream",
     "text": [
      "model training...: 100%|██████████| 65/65 [02:35<00:00,  2.39s/it]\n",
      "model validating...: 100%|██████████| 17/17 [00:08<00:00,  1.98it/s]\n"
     ]
    },
    {
     "name": "stdout",
     "output_type": "stream",
     "text": [
      "epochs: 17, train_loss: 0.16519694465857285, valid_loss: 0.5592475901631748\n"
     ]
    },
    {
     "name": "stderr",
     "output_type": "stream",
     "text": [
      "model training...: 100%|██████████| 65/65 [02:34<00:00,  2.38s/it]\n",
      "model validating...: 100%|██████████| 17/17 [00:09<00:00,  1.87it/s]\n"
     ]
    },
    {
     "name": "stdout",
     "output_type": "stream",
     "text": [
      "epochs: 18, train_loss: 0.14055974956315298, valid_loss: 0.5622108236831778\n"
     ]
    },
    {
     "name": "stderr",
     "output_type": "stream",
     "text": [
      "model training...: 100%|██████████| 65/65 [02:34<00:00,  2.37s/it]\n",
      "model validating...: 100%|██████████| 17/17 [00:08<00:00,  1.94it/s]\n"
     ]
    },
    {
     "name": "stdout",
     "output_type": "stream",
     "text": [
      "epochs: 19, train_loss: 0.024239077361730428, valid_loss: 0.6021607763626996\n"
     ]
    },
    {
     "name": "stderr",
     "output_type": "stream",
     "text": [
      "model training...: 100%|██████████| 65/65 [02:34<00:00,  2.38s/it]\n",
      "model validating...: 100%|██████████| 17/17 [00:09<00:00,  1.89it/s]\n"
     ]
    },
    {
     "name": "stdout",
     "output_type": "stream",
     "text": [
      "epochs: 20, train_loss: 0.038550013303756715, valid_loss: 0.4571917407652911\n"
     ]
    },
    {
     "name": "stderr",
     "output_type": "stream",
     "text": [
      "model training...: 100%|██████████| 65/65 [02:34<00:00,  2.37s/it]\n",
      "model validating...: 100%|██████████| 17/17 [00:09<00:00,  1.86it/s]\n"
     ]
    },
    {
     "name": "stdout",
     "output_type": "stream",
     "text": [
      "epochs: 21, train_loss: 0.04189199151901098, valid_loss: 1.0110772725413828\n"
     ]
    },
    {
     "name": "stderr",
     "output_type": "stream",
     "text": [
      "model training...: 100%|██████████| 65/65 [02:35<00:00,  2.39s/it]\n",
      "model validating...: 100%|██████████| 17/17 [00:08<00:00,  1.96it/s]\n"
     ]
    },
    {
     "name": "stdout",
     "output_type": "stream",
     "text": [
      "epochs: 22, train_loss: 0.04632850931240962, valid_loss: 0.6803092759321717\n"
     ]
    },
    {
     "name": "stderr",
     "output_type": "stream",
     "text": [
      "model training...: 100%|██████████| 65/65 [02:34<00:00,  2.38s/it]\n",
      "model validating...: 100%|██████████| 17/17 [00:08<00:00,  1.91it/s]\n"
     ]
    },
    {
     "name": "stdout",
     "output_type": "stream",
     "text": [
      "epochs: 23, train_loss: 0.013413717998908116, valid_loss: 0.6353309441576985\n"
     ]
    },
    {
     "name": "stderr",
     "output_type": "stream",
     "text": [
      "model training...: 100%|██████████| 65/65 [02:35<00:00,  2.39s/it]\n",
      "model validating...: 100%|██████████| 17/17 [00:09<00:00,  1.89it/s]\n"
     ]
    },
    {
     "name": "stdout",
     "output_type": "stream",
     "text": [
      "epochs: 24, train_loss: 0.005673911021305964, valid_loss: 1.1751040448160732\n"
     ]
    },
    {
     "name": "stderr",
     "output_type": "stream",
     "text": [
      "model training...: 100%|██████████| 65/65 [02:34<00:00,  2.38s/it]\n",
      "model validating...: 100%|██████████| 17/17 [00:09<00:00,  1.87it/s]\n"
     ]
    },
    {
     "name": "stdout",
     "output_type": "stream",
     "text": [
      "epochs: 25, train_loss: 0.0017921886191918299, valid_loss: 0.5974492378094617\n"
     ]
    },
    {
     "name": "stderr",
     "output_type": "stream",
     "text": [
      "model training...: 100%|██████████| 65/65 [02:34<00:00,  2.38s/it]\n",
      "model validating...: 100%|██████████| 17/17 [00:09<00:00,  1.86it/s]\n"
     ]
    },
    {
     "name": "stdout",
     "output_type": "stream",
     "text": [
      "epochs: 26, train_loss: 0.06444707541511609, valid_loss: 1.1673609579310698\n"
     ]
    },
    {
     "name": "stderr",
     "output_type": "stream",
     "text": [
      "model training...: 100%|██████████| 65/65 [02:34<00:00,  2.37s/it]\n",
      "model validating...: 100%|██████████| 17/17 [00:08<00:00,  1.97it/s]\n"
     ]
    },
    {
     "name": "stdout",
     "output_type": "stream",
     "text": [
      "epochs: 27, train_loss: 0.12108002981314292, valid_loss: 1.0043572853593266\n"
     ]
    },
    {
     "name": "stderr",
     "output_type": "stream",
     "text": [
      "model training...: 100%|██████████| 65/65 [02:34<00:00,  2.38s/it]\n",
      "model validating...: 100%|██████████| 17/17 [00:08<00:00,  1.92it/s]\n"
     ]
    },
    {
     "name": "stdout",
     "output_type": "stream",
     "text": [
      "epochs: 28, train_loss: 0.37276612783853824, valid_loss: 0.5079260030213524\n"
     ]
    },
    {
     "name": "stderr",
     "output_type": "stream",
     "text": [
      "model training...: 100%|██████████| 65/65 [02:34<00:00,  2.37s/it]\n",
      "model validating...: 100%|██████████| 17/17 [00:09<00:00,  1.87it/s]\n"
     ]
    },
    {
     "name": "stdout",
     "output_type": "stream",
     "text": [
      "epochs: 29, train_loss: 0.1140776283465899, valid_loss: 0.6536603605045992\n"
     ]
    },
    {
     "name": "stderr",
     "output_type": "stream",
     "text": [
      "model training...: 100%|██████████| 65/65 [02:33<00:00,  2.37s/it]\n",
      "model validating...: 100%|██████████| 17/17 [00:09<00:00,  1.88it/s]"
     ]
    },
    {
     "name": "stdout",
     "output_type": "stream",
     "text": [
      "epochs: 30, train_loss: 0.18313713669776915, valid_loss: 0.7039203117875492\n"
     ]
    },
    {
     "name": "stderr",
     "output_type": "stream",
     "text": [
      "\n"
     ]
    }
   ],
   "source": [
    "# training\n",
    "best_valid_loss = np.Inf\n",
    "\n",
    "training_epoch_loss = []\n",
    "validation_epoch_loss = []\n",
    "\n",
    "\n",
    "for i in range(EPOCHS):\n",
    "  train_loss = train_fn(model, trainloader, optimizer, criterion)\n",
    "  valid_loss = eval_fn(model, validloader, criterion)\n",
    "\n",
    "  training_epoch_loss.append(train_loss)\n",
    "  validation_epoch_loss.append(valid_loss)\n",
    "\n",
    "  if valid_loss < best_valid_loss:\n",
    "    torch.save(model.state_dict(), \"best_model.pt\")\n",
    "    best_valid_loss = valid_loss\n",
    "    print(\"successful weights saving...\")\n",
    "\n",
    "  print(f\"epochs: {i+1}, train_loss: {train_loss}, valid_loss: {valid_loss}\")"
   ]
  },
  {
   "cell_type": "code",
   "execution_count": 17,
   "id": "9ca40d35",
   "metadata": {
    "ExecuteTime": {
     "end_time": "2024-06-04T19:56:17.812928Z",
     "start_time": "2024-06-04T19:56:17.529046Z"
    }
   },
   "outputs": [
    {
     "data": {
      "text/plain": "<function matplotlib.pyplot.show(close=None, block=None)>"
     },
     "execution_count": 17,
     "metadata": {},
     "output_type": "execute_result"
    },
    {
     "data": {
      "text/plain": "<Figure size 640x480 with 1 Axes>",
      "image/png": "[encoded data removed]"
     },
     "metadata": {},
     "output_type": "display_data"
    }
   ],
   "source": [
    "# plot della training e validation loss\n",
    "plt.plot(training_epoch_loss, label=\"train_loss\")\n",
    "plt.plot(validation_epoch_loss, label=\"val_loss\")\n",
    "plt.legend()\n",
    "\n",
    "plt.show"
   ]
  },
  {
   "cell_type": "code",
   "execution_count": 18,
   "id": "9fe76305-8f2d-4159-a8e0-a57cb85b525e",
   "metadata": {
    "id": "9fe76305-8f2d-4159-a8e0-a57cb85b525e",
    "tags": [],
    "ExecuteTime": {
     "end_time": "2024-06-04T19:56:17.954914Z",
     "start_time": "2024-06-04T19:56:17.813887Z"
    }
   },
   "outputs": [],
   "source": [
    "# funzione per generare i vettori di encoding\n",
    "def get_encoding_csv(model, anc_img_names, dirFolder):\n",
    "  anc_img_names_arr = np.array(anc_img_names)\n",
    "  encodings = []\n",
    "\n",
    "  model.eval()\n",
    "\n",
    "  with torch.no_grad():\n",
    "    for i in tqdm(anc_img_names_arr):\n",
    "\n",
    "      if mode == \"rgb\":\n",
    "        # serve per trovare correttamente l'immagine\n",
    "        if \"tt\" in i:\n",
    "          dirFolder = fake_data_dir\n",
    "          A = io.imread(os.path.join(dirFolder,i))\n",
    "        else: \n",
    "          dirFolder = real_data_dir\n",
    "          A = io.imread(os.path.join(dirFolder,i))\n",
    "\n",
    "        A = torch.from_numpy(A).permute(2, 0, 1) / 255.0\n",
    "      \n",
    "      if mode == \"grey_scale\":\n",
    "        A = io.imread(os.path.join(dirFolder,i))\n",
    "\n",
    "        A = np.expand_dims(A, 0)\n",
    "        A = torch.from_numpy(A.astype(np.int32)) / 255.0\n",
    "        \n",
    "      A = A.to(DEVICE)\n",
    "      A_enc = model(A.unsqueeze(0))\n",
    "      encodings.append(A_enc.squeeze().cpu().detach().numpy())\n",
    "\n",
    "    encodings = np.array(encodings)\n",
    "    encodings = pd.DataFrame(encodings)\n",
    "    df_enc = pd.concat([anc_img_names, encodings], axis = 1)\n",
    "\n",
    "    return df_enc"
   ]
  },
  {
   "cell_type": "code",
   "execution_count": 19,
   "id": "087c6f6f-3d8d-437f-ab31-ce2c3a1c239c",
   "metadata": {
    "id": "087c6f6f-3d8d-437f-ab31-ce2c3a1c239c",
    "outputId": "10e29b3a-1d0f-41bb-e9a2-21aec49dac69",
    "tags": [],
    "ExecuteTime": {
     "end_time": "2024-06-04T19:57:22.203444Z",
     "start_time": "2024-06-04T19:56:17.956914Z"
    }
   },
   "outputs": [
    {
     "name": "stderr",
     "output_type": "stream",
     "text": [
      "100%|██████████| 2586/2586 [01:03<00:00, 40.98it/s]\n"
     ]
    }
   ],
   "source": [
    "# per ricaricare il modello una volta allenato\n",
    "model.load_state_dict(torch.load(\"best_model.pt\"))\n",
    "\n",
    "# si creano gli embeddings che vengono memorizzati per non rifarlo ad ogni allenamento\n",
    "df_enc = get_encoding_csv(model, df[\"Anchor\"], real_data_dir)\n",
    "\n",
    "df_enc.to_csv(\"database.csv\", index=False)"
   ]
  },
  {
   "cell_type": "code",
   "execution_count": 20,
   "id": "5a1096d8-a3dc-46bd-bb54-ed3debea3c57",
   "metadata": {
    "id": "5a1096d8-a3dc-46bd-bb54-ed3debea3c57",
    "outputId": "171dab62-2058-470c-9abf-5ea9495da9b0",
    "tags": [],
    "ExecuteTime": {
     "end_time": "2024-06-04T19:57:22.440384Z",
     "start_time": "2024-06-04T19:57:22.204428Z"
    }
   },
   "outputs": [
    {
     "data": {
      "text/plain": "                                              Anchor         0         1  \\\n0        tt-ffhq/ffhq_k300_p1.0_fid9.6/img006488.jpg -0.538099 -0.011340   \n1              coco/coco2017/train2017/img129217.jpg -0.593654 -0.097914   \n2  tt-cc/cin_k600_p1.0_a0.05_fid5.20/542/img02466... -1.043402  0.212216   \n3               coco/coco2017/test2017/img000099.jpg -0.710837  0.093663   \n4               coco/coco2017/test2017/img030796.jpg -0.680354 -0.049902   \n\n          2         3         4         5         6         7         8  ...  \\\n0  0.286294  0.074583  0.367632  0.142574  0.032318 -0.315532  0.216151  ...   \n1  0.215335 -0.122665  0.508773  0.262276  0.167688 -0.262562  0.168730  ...   \n2  0.291396  0.010277  0.317412 -0.071790  0.436998 -0.460643 -0.042455  ...   \n3  0.319312  0.002496  0.515151  0.038476  0.168306 -0.287687  0.190928  ...   \n4  0.268062 -0.008335  0.549080 -0.030951  0.224608 -0.143379  0.178372  ...   \n\n        502       503       504       505       506       507       508  \\\n0  0.486385 -0.081615 -0.104507  0.159204  0.257111  0.178156  0.208934   \n1  0.276901 -0.225175 -0.084511  0.129068  0.340835  0.152230 -0.009651   \n2  0.316012  0.217033 -0.244823  0.252096  0.209835  0.164423  0.363211   \n3  0.444016 -0.015292 -0.109109  0.227264  0.247643  0.109931  0.374749   \n4  0.239506 -0.171204 -0.117794  0.313864  0.267244  0.108903  0.257170   \n\n        509       510       511  \n0 -0.087246 -0.442888  0.026780  \n1  0.013303 -0.493318  0.209872  \n2 -0.242136 -0.563124  0.241209  \n3 -0.060599 -0.454910  0.098403  \n4  0.031303 -0.549013  0.315463  \n\n[5 rows x 513 columns]",
      "text/html": "<div>\n<style scoped>\n    .dataframe tbody tr th:only-of-type {\n        vertical-align: middle;\n    }\n\n    .dataframe tbody tr th {\n        vertical-align: top;\n    }\n\n    .dataframe thead th {\n        text-align: right;\n    }\n</style>\n<table border=\"1\" class=\"dataframe\">\n  <thead>\n    <tr style=\"text-align: right;\">\n      <th></th>\n      <th>Anchor</th>\n      <th>0</th>\n      <th>1</th>\n      <th>2</th>\n      <th>3</th>\n      <th>4</th>\n      <th>5</th>\n      <th>6</th>\n      <th>7</th>\n      <th>8</th>\n      <th>...</th>\n      <th>502</th>\n      <th>503</th>\n      <th>504</th>\n      <th>505</th>\n      <th>506</th>\n      <th>507</th>\n      <th>508</th>\n      <th>509</th>\n      <th>510</th>\n      <th>511</th>\n    </tr>\n  </thead>\n  <tbody>\n    <tr>\n      <th>0</th>\n      <td>tt-ffhq/ffhq_k300_p1.0_fid9.6/img006488.jpg</td>\n      <td>-0.538099</td>\n      <td>-0.011340</td>\n      <td>0.286294</td>\n      <td>0.074583</td>\n      <td>0.367632</td>\n      <td>0.142574</td>\n      <td>0.032318</td>\n      <td>-0.315532</td>\n      <td>0.216151</td>\n      <td>...</td>\n      <td>0.486385</td>\n      <td>-0.081615</td>\n      <td>-0.104507</td>\n      <td>0.159204</td>\n      <td>0.257111</td>\n      <td>0.178156</td>\n      <td>0.208934</td>\n      <td>-0.087246</td>\n      <td>-0.442888</td>\n      <td>0.026780</td>\n    </tr>\n    <tr>\n      <th>1</th>\n      <td>coco/coco2017/train2017/img129217.jpg</td>\n      <td>-0.593654</td>\n      <td>-0.097914</td>\n      <td>0.215335</td>\n      <td>-0.122665</td>\n      <td>0.508773</td>\n      <td>0.262276</td>\n      <td>0.167688</td>\n      <td>-0.262562</td>\n      <td>0.168730</td>\n      <td>...</td>\n      <td>0.276901</td>\n      <td>-0.225175</td>\n      <td>-0.084511</td>\n      <td>0.129068</td>\n      <td>0.340835</td>\n      <td>0.152230</td>\n      <td>-0.009651</td>\n      <td>0.013303</td>\n      <td>-0.493318</td>\n      <td>0.209872</td>\n    </tr>\n    <tr>\n      <th>2</th>\n      <td>tt-cc/cin_k600_p1.0_a0.05_fid5.20/542/img02466...</td>\n      <td>-1.043402</td>\n      <td>0.212216</td>\n      <td>0.291396</td>\n      <td>0.010277</td>\n      <td>0.317412</td>\n      <td>-0.071790</td>\n      <td>0.436998</td>\n      <td>-0.460643</td>\n      <td>-0.042455</td>\n      <td>...</td>\n      <td>0.316012</td>\n      <td>0.217033</td>\n      <td>-0.244823</td>\n      <td>0.252096</td>\n      <td>0.209835</td>\n      <td>0.164423</td>\n      <td>0.363211</td>\n      <td>-0.242136</td>\n      <td>-0.563124</td>\n      <td>0.241209</td>\n    </tr>\n    <tr>\n      <th>3</th>\n      <td>coco/coco2017/test2017/img000099.jpg</td>\n      <td>-0.710837</td>\n      <td>0.093663</td>\n      <td>0.319312</td>\n      <td>0.002496</td>\n      <td>0.515151</td>\n      <td>0.038476</td>\n      <td>0.168306</td>\n      <td>-0.287687</td>\n      <td>0.190928</td>\n      <td>...</td>\n      <td>0.444016</td>\n      <td>-0.015292</td>\n      <td>-0.109109</td>\n      <td>0.227264</td>\n      <td>0.247643</td>\n      <td>0.109931</td>\n      <td>0.374749</td>\n      <td>-0.060599</td>\n      <td>-0.454910</td>\n      <td>0.098403</td>\n    </tr>\n    <tr>\n      <th>4</th>\n      <td>coco/coco2017/test2017/img030796.jpg</td>\n      <td>-0.680354</td>\n      <td>-0.049902</td>\n      <td>0.268062</td>\n      <td>-0.008335</td>\n      <td>0.549080</td>\n      <td>-0.030951</td>\n      <td>0.224608</td>\n      <td>-0.143379</td>\n      <td>0.178372</td>\n      <td>...</td>\n      <td>0.239506</td>\n      <td>-0.171204</td>\n      <td>-0.117794</td>\n      <td>0.313864</td>\n      <td>0.267244</td>\n      <td>0.108903</td>\n      <td>0.257170</td>\n      <td>0.031303</td>\n      <td>-0.549013</td>\n      <td>0.315463</td>\n    </tr>\n  </tbody>\n</table>\n<p>5 rows × 513 columns</p>\n</div>"
     },
     "execution_count": 20,
     "metadata": {},
     "output_type": "execute_result"
    }
   ],
   "source": [
    "df_enc = pd.read_csv('database.csv')\n",
    "df_enc.head()"
   ]
  },
  {
   "cell_type": "code",
   "execution_count": 21,
   "id": "ea4d49ef-7e4b-4a09-a188-d6afa1fc273d",
   "metadata": {
    "id": "ea4d49ef-7e4b-4a09-a188-d6afa1fc273d",
    "tags": [],
    "ExecuteTime": {
     "end_time": "2024-06-04T19:57:22.534961Z",
     "start_time": "2024-06-04T19:57:22.441384Z"
    }
   },
   "outputs": [],
   "source": [
    "# approssimazione della distanza, senza la radice quadrata, per fare i primi allenamenti velocemente\n",
    "def euclidean_dist(img_enc, anc_enc_arr):\n",
    "    # dist = np.sqrt(np.dot(img_enc-anc_enc_arr, (img_enc- anc_enc_arr).T))\n",
    "    dist = np.dot(img_enc-anc_enc_arr, (img_enc- anc_enc_arr).T)\n",
    "    # dist = np.sqrt(dist)\n",
    "    return dist"
   ]
  },
  {
   "cell_type": "code",
   "execution_count": 22,
   "id": "38e0d751-6559-43b8-94f1-eab11f754bdd",
   "metadata": {
    "id": "38e0d751-6559-43b8-94f1-eab11f754bdd",
    "outputId": "7ff19abf-6ff7-4f31-bd3e-a07d07ca90dd",
    "tags": [],
    "ExecuteTime": {
     "end_time": "2024-06-04T19:57:22.629538Z",
     "start_time": "2024-06-04T19:57:22.535929Z"
    }
   },
   "outputs": [
    {
     "name": "stdout",
     "output_type": "stream",
     "text": [
      "0      coco/coco2017/train2017/img045591.jpg\n",
      "1      coco/coco2017/train2017/img084647.jpg\n",
      "2      coco/coco2017/train2017/img115765.jpg\n",
      "3      coco/coco2017/train2017/img131710.jpg\n",
      "4      coco/coco2017/train2017/img059718.jpg\n",
      "                       ...                  \n",
      "512    coco/coco2017/train2017/img120761.jpg\n",
      "513    coco/coco2017/train2017/img089908.jpg\n",
      "514     coco/coco2017/test2017/img008408.jpg\n",
      "515     coco/coco2017/test2017/img024968.jpg\n",
      "516    coco/coco2017/train2017/img095503.jpg\n",
      "Name: real, Length: 517, dtype: object\n",
      "1034\n"
     ]
    },
    {
     "data": {
      "text/plain": "                                    real  \\\n0  coco/coco2017/train2017/img045591.jpg   \n1  coco/coco2017/train2017/img084647.jpg   \n2  coco/coco2017/train2017/img115765.jpg   \n3  coco/coco2017/train2017/img131710.jpg   \n4  coco/coco2017/train2017/img059718.jpg   \n\n                                                fake  \n0        tt-ffhq/ffhq_k300_p1.0_fid9.6/img003490.jpg  \n1                tt-coco/samples_nopix/img002132.jpg  \n2        tt-ffhq/ffhq_k300_p1.0_fid9.6/img021101.jpg  \n3  tt-cc/cin_k600_p1.0_a0.05_fid5.20/558/img02554...  \n4  tt-cc/cin_k600_p1.0_a0.05_fid5.20/979/img04888...  ",
      "text/html": "<div>\n<style scoped>\n    .dataframe tbody tr th:only-of-type {\n        vertical-align: middle;\n    }\n\n    .dataframe tbody tr th {\n        vertical-align: top;\n    }\n\n    .dataframe thead th {\n        text-align: right;\n    }\n</style>\n<table border=\"1\" class=\"dataframe\">\n  <thead>\n    <tr style=\"text-align: right;\">\n      <th></th>\n      <th>real</th>\n      <th>fake</th>\n    </tr>\n  </thead>\n  <tbody>\n    <tr>\n      <th>0</th>\n      <td>coco/coco2017/train2017/img045591.jpg</td>\n      <td>tt-ffhq/ffhq_k300_p1.0_fid9.6/img003490.jpg</td>\n    </tr>\n    <tr>\n      <th>1</th>\n      <td>coco/coco2017/train2017/img084647.jpg</td>\n      <td>tt-coco/samples_nopix/img002132.jpg</td>\n    </tr>\n    <tr>\n      <th>2</th>\n      <td>coco/coco2017/train2017/img115765.jpg</td>\n      <td>tt-ffhq/ffhq_k300_p1.0_fid9.6/img021101.jpg</td>\n    </tr>\n    <tr>\n      <th>3</th>\n      <td>coco/coco2017/train2017/img131710.jpg</td>\n      <td>tt-cc/cin_k600_p1.0_a0.05_fid5.20/558/img02554...</td>\n    </tr>\n    <tr>\n      <th>4</th>\n      <td>coco/coco2017/train2017/img059718.jpg</td>\n      <td>tt-cc/cin_k600_p1.0_a0.05_fid5.20/979/img04888...</td>\n    </tr>\n  </tbody>\n</table>\n</div>"
     },
     "execution_count": 22,
     "metadata": {},
     "output_type": "execute_result"
    }
   ],
   "source": [
    "path = os.path.join(Path(os.getcwd()).parent, \"datasets\", \"testList.csv\")\n",
    "df = pd.read_csv(path)\n",
    "\n",
    "print(df[\"real\"])\n",
    "print(df.size)\n",
    "df.head()"
   ]
  },
  {
   "cell_type": "code",
   "execution_count": 23,
   "id": "2262d0bc-a58d-4663-8515-bccbdf870608",
   "metadata": {
    "id": "2262d0bc-a58d-4663-8515-bccbdf870608",
    "tags": [],
    "ExecuteTime": {
     "end_time": "2024-06-04T19:57:22.725253Z",
     "start_time": "2024-06-04T19:57:22.630522Z"
    }
   },
   "outputs": [],
   "source": [
    "def getImageEmbeddings(img, model):\n",
    "    if mode == \"rgb\":\n",
    "        img = torch.from_numpy(img).permute(2, 0, 1) / 255.0\n",
    "      \n",
    "    if mode == \"grey_scale\":\n",
    "        img = np.expand_dims(img, 0)\n",
    "        img = torch.from_numpy(img) / 255\n",
    "    \n",
    "    model.eval()\n",
    "    with torch.no_grad():\n",
    "        img = img.to(DEVICE)\n",
    "        img_enc = model(img.unsqueeze(0))\n",
    "        img_enc = img_enc.detach().cpu().numpy()\n",
    "        img_enc = np.array(img_enc)\n",
    "\n",
    "    return img_enc"
   ]
  },
  {
   "cell_type": "code",
   "execution_count": 24,
   "id": "0b4b5bd4-222b-44a3-b32d-2aa1f9b3d405",
   "metadata": {
    "id": "0b4b5bd4-222b-44a3-b32d-2aa1f9b3d405",
    "tags": [],
    "ExecuteTime": {
     "end_time": "2024-06-04T19:57:22.804749Z",
     "start_time": "2024-06-04T19:57:22.726229Z"
    }
   },
   "outputs": [],
   "source": [
    "def searchInDatabase(img_enc, database):\n",
    "    anc_enc_arr = database.iloc[:, 1:].to_numpy()\n",
    "    anc_img_names = database[\"Anchor\"]\n",
    "\n",
    "    distance = []\n",
    "    for i in range(anc_enc_arr.shape[0]):\n",
    "        dist = euclidean_dist(img_enc, anc_enc_arr[i : i+1, :])\n",
    "        distance = np.append(distance, dist)\n",
    "\n",
    "    closest_idx = np.argsort(distance)\n",
    "\n",
    "    return database[\"Anchor\"][closest_idx[0]]"
   ]
  },
  {
   "cell_type": "code",
   "execution_count": 25,
   "id": "ddd32725-5e2d-42a7-8998-4920f05ed143",
   "metadata": {
    "id": "ddd32725-5e2d-42a7-8998-4920f05ed143",
    "outputId": "888e6f94-a62a-46e1-cf29-d11664da20b7",
    "tags": [],
    "ExecuteTime": {
     "end_time": "2024-06-04T19:57:22.915362Z",
     "start_time": "2024-06-04T19:57:22.805741Z"
    }
   },
   "outputs": [
    {
     "data": {
      "text/plain": "(517, 2)"
     },
     "execution_count": 25,
     "metadata": {},
     "output_type": "execute_result"
    }
   ],
   "source": [
    "# DataTestReal = 'C:/Users/polsi/Desktop/Lavori/DeepFake/Datasets/Artifact/cycle_gan/st/test/'\n",
    "path = Path(os.getcwd()).parent.parent\n",
    "real_data_dir = os.path.join(path, \"artifact\", \"coco\")\n",
    "fake_data_dir = os.path.join(path, \"artifact\", \"taming_transformer\")\n",
    "\n",
    "y_true = []\n",
    "y_pred = []\n",
    "\n",
    "tempDf = df\n",
    "tempDf.head()\n",
    "tempDf.shape"
   ]
  },
  {
   "cell_type": "code",
   "execution_count": 26,
   "id": "ca7392f6-109f-4a96-92b1-e85600be8d8a",
   "metadata": {
    "id": "ca7392f6-109f-4a96-92b1-e85600be8d8a",
    "tags": [],
    "ExecuteTime": {
     "end_time": "2024-06-04T19:57:56.458519Z",
     "start_time": "2024-06-04T19:57:22.916363Z"
    }
   },
   "outputs": [
    {
     "name": "stderr",
     "output_type": "stream",
     "text": [
      "testing on fake images...: 517it [00:33, 15.47it/s]\n"
     ]
    }
   ],
   "source": [
    "# testo i fake\n",
    "currentTest = \"fake\"\n",
    "database = df_enc\n",
    "\n",
    "# prendo i primi 500 Fake\n",
    "for index, row in tqdm(tempDf.iterrows(), desc=\"testing on fake images...\"):\n",
    "    path = os.path.join(fake_data_dir, row[currentTest])\n",
    "    img_name = path\n",
    "\n",
    "    img = io.imread(img_name)\n",
    "\n",
    "    img_enc = getImageEmbeddings(img, model)\n",
    "\n",
    "    closestLabel = searchInDatabase(img_enc, database)\n",
    "\n",
    "    if mode == \"rgb\":\n",
    "        if str(closestLabel).startswith(\"tt\"):\n",
    "            y_pred.append(\"fake\")\n",
    "        else:\n",
    "            y_pred.append(\"real\")\n",
    "\n",
    "    if mode == \"grey_scale\": \n",
    "        if \"coco\" in closestLabel:\n",
    "            y_pred.append(\"real\")\n",
    "        else:\n",
    "            y_pred.append(\"fake\")"
   ]
  },
  {
   "cell_type": "code",
   "execution_count": 27,
   "id": "fe3af5ae-b8c2-419e-b5a5-9d17609797f5",
   "metadata": {
    "id": "fe3af5ae-b8c2-419e-b5a5-9d17609797f5",
    "tags": [],
    "ExecuteTime": {
     "end_time": "2024-06-04T19:57:56.569593Z",
     "start_time": "2024-06-04T19:57:56.460522Z"
    }
   },
   "outputs": [
    {
     "name": "stdout",
     "output_type": "stream",
     "text": [
      "0\n",
      "517\n",
      "['fake', 'fake', 'real', 'fake', 'real', 'real', 'real', 'fake', 'real', 'real', 'fake', 'real', 'fake', 'real', 'fake', 'fake', 'real', 'real', 'real', 'fake', 'fake', 'real', 'real', 'fake', 'fake', 'real', 'fake', 'fake', 'real', 'real', 'fake', 'real', 'real', 'fake', 'real', 'fake', 'real', 'fake', 'real', 'fake', 'real', 'fake', 'real', 'real', 'real', 'real', 'real', 'real', 'fake', 'real', 'fake', 'fake', 'real', 'fake', 'fake', 'real', 'fake', 'fake', 'fake', 'fake', 'fake', 'real', 'fake', 'real', 'real', 'real', 'real', 'real', 'fake', 'fake', 'real', 'real', 'real', 'fake', 'real', 'real', 'real', 'real', 'fake', 'fake', 'real', 'real', 'real', 'real', 'real', 'fake', 'fake', 'real', 'real', 'real', 'real', 'real', 'fake', 'real', 'real', 'real', 'real', 'fake', 'real', 'real', 'fake', 'real', 'fake', 'real', 'real', 'real', 'real', 'real', 'fake', 'fake', 'fake', 'real', 'real', 'fake', 'real', 'fake', 'fake', 'fake', 'fake', 'real', 'real', 'real', 'fake', 'fake', 'real', 'fake', 'real', 'real', 'fake', 'fake', 'real', 'real', 'real', 'real', 'real', 'real', 'fake', 'real', 'fake', 'real', 'fake', 'real', 'real', 'fake', 'fake', 'fake', 'real', 'fake', 'real', 'real', 'real', 'real', 'real', 'fake', 'real', 'real', 'fake', 'fake', 'real', 'real', 'real', 'fake', 'real', 'real', 'real', 'fake', 'real', 'real', 'fake', 'real', 'real', 'real', 'real', 'real', 'fake', 'fake', 'real', 'real', 'fake', 'fake', 'fake', 'real', 'real', 'real', 'real', 'real', 'real', 'real', 'real', 'fake', 'fake', 'real', 'fake', 'fake', 'real', 'real', 'real', 'fake', 'real', 'fake', 'real', 'real', 'fake', 'real', 'real', 'fake', 'fake', 'real', 'real', 'fake', 'fake', 'fake', 'real', 'real', 'real', 'real', 'real', 'real', 'fake', 'fake', 'real', 'real', 'fake', 'fake', 'fake', 'real', 'fake', 'fake', 'fake', 'real', 'real', 'real', 'real', 'fake', 'fake', 'fake', 'real', 'fake', 'real', 'real', 'real', 'fake', 'fake', 'real', 'real', 'real', 'real', 'fake', 'real', 'real', 'fake', 'real', 'fake', 'real', 'fake', 'real', 'fake', 'real', 'real', 'fake', 'real', 'fake', 'fake', 'fake', 'real', 'real', 'real', 'real', 'fake', 'fake', 'real', 'real', 'fake', 'fake', 'real', 'real', 'real', 'fake', 'real', 'real', 'real', 'real', 'fake', 'real', 'real', 'fake', 'fake', 'real', 'fake', 'real', 'fake', 'real', 'real', 'fake', 'real', 'fake', 'real', 'real', 'real', 'fake', 'real', 'fake', 'fake', 'real', 'real', 'fake', 'real', 'real', 'real', 'fake', 'real', 'real', 'real', 'fake', 'real', 'fake', 'fake', 'real', 'real', 'fake', 'fake', 'fake', 'real', 'fake', 'real', 'fake', 'real', 'fake', 'real', 'real', 'real', 'fake', 'real', 'fake', 'fake', 'real', 'fake', 'real', 'fake', 'fake', 'fake', 'real', 'fake', 'fake', 'real', 'real', 'real', 'real', 'fake', 'real', 'fake', 'real', 'real', 'real', 'fake', 'real', 'real', 'real', 'fake', 'real', 'real', 'real', 'real', 'fake', 'fake', 'real', 'fake', 'fake', 'fake', 'fake', 'fake', 'fake', 'real', 'fake', 'real', 'real', 'real', 'real', 'real', 'fake', 'real', 'real', 'real', 'fake', 'fake', 'real', 'fake', 'fake', 'fake', 'fake', 'real', 'real', 'real', 'fake', 'real', 'real', 'fake', 'fake', 'real', 'fake', 'fake', 'real', 'real', 'fake', 'fake', 'real', 'fake', 'real', 'fake', 'real', 'real', 'real', 'real', 'real', 'fake', 'fake', 'real', 'fake', 'fake', 'fake', 'real', 'fake', 'fake', 'fake', 'real', 'fake', 'fake', 'real', 'fake', 'fake', 'fake', 'real', 'fake', 'fake', 'fake', 'fake', 'real', 'fake', 'real', 'fake', 'real', 'real', 'fake', 'fake', 'real', 'real', 'fake', 'real', 'real', 'real', 'real', 'real', 'real', 'real', 'real', 'real', 'fake', 'fake', 'real', 'fake', 'fake', 'fake', 'fake', 'real', 'real', 'real', 'fake', 'fake', 'fake', 'fake', 'real', 'real', 'fake', 'real', 'fake', 'real', 'fake', 'fake', 'fake', 'fake', 'fake', 'real', 'real', 'real', 'real', 'fake', 'real', 'real', 'real', 'real', 'real', 'fake', 'real', 'real', 'real', 'real', 'fake', 'real', 'real', 'real', 'real', 'real', 'fake', 'real', 'fake', 'real', 'real', 'real', 'real', 'real', 'real', 'real', 'real', 'fake', 'fake', 'real', 'fake']\n"
     ]
    }
   ],
   "source": [
    "print(len(y_true))\n",
    "print(len(y_pred))\n",
    "print(y_pred)"
   ]
  },
  {
   "cell_type": "code",
   "execution_count": 28,
   "id": "46b8f2c1-a3ca-4bbd-8326-02685fc44cf8",
   "metadata": {
    "id": "46b8f2c1-a3ca-4bbd-8326-02685fc44cf8",
    "tags": [],
    "ExecuteTime": {
     "end_time": "2024-06-04T19:58:32.469032Z",
     "start_time": "2024-06-04T19:57:56.570578Z"
    }
   },
   "outputs": [
    {
     "name": "stderr",
     "output_type": "stream",
     "text": [
      "testing on real images...: 517it [00:35, 14.44it/s]\n"
     ]
    }
   ],
   "source": [
    "# testo i real\n",
    "currentTest = \"real\"\n",
    "database = df_enc\n",
    "\n",
    "# prendo i primi 500 Fake\n",
    "for index, row in tqdm(tempDf.iterrows(), desc=\"testing on real images...\"):\n",
    "    path = os.path.join(real_data_dir, row[currentTest])\n",
    "    img_name = path\n",
    "\n",
    "    img = io.imread(img_name)\n",
    "\n",
    "    img_enc = getImageEmbeddings(img, model)\n",
    "\n",
    "    closestLabel = searchInDatabase(img_enc, database)\n",
    "    \n",
    "    if mode == \"rgb\":\n",
    "        if \"tt\" in closestLabel:\n",
    "            y_pred.append(\"fake\")\n",
    "            \n",
    "        else:\n",
    "            y_pred.append(\"real\")\n",
    "\n",
    "    if mode == \"grey_scale\": \n",
    "        if \"real\" in closestLabel:\n",
    "            y_pred.append(\"real\")\n",
    "        else:\n",
    "            y_pred.append(\"fake\")\n"
   ]
  },
  {
   "cell_type": "code",
   "execution_count": 42,
   "id": "4c465bfd-18ad-4750-b689-739b712185ab",
   "metadata": {
    "id": "4c465bfd-18ad-4750-b689-739b712185ab",
    "outputId": "e974c712-91fb-4fae-c589-85e08a50fb77",
    "tags": [],
    "ExecuteTime": {
     "end_time": "2024-06-04T21:26:21.490599Z",
     "start_time": "2024-06-04T21:26:21.393945Z"
    }
   },
   "outputs": [
    {
     "name": "stdout",
     "output_type": "stream",
     "text": [
      "1036\n",
      "1034\n",
      "['fake', 'fake', 'real', 'fake', 'real', 'real', 'real', 'fake', 'real', 'real', 'fake', 'real', 'fake', 'real', 'fake', 'fake', 'real', 'real', 'real', 'fake', 'fake', 'real', 'real', 'fake', 'fake', 'real', 'fake', 'fake', 'real', 'real', 'fake', 'real', 'real', 'fake', 'real', 'fake', 'real', 'fake', 'real', 'fake', 'real', 'fake', 'real', 'real', 'real', 'real', 'real', 'real', 'fake', 'real', 'fake', 'fake', 'real', 'fake', 'fake', 'real', 'fake', 'fake', 'fake', 'fake', 'fake', 'real', 'fake', 'real', 'real', 'real', 'real', 'real', 'fake', 'fake', 'real', 'real', 'real', 'fake', 'real', 'real', 'real', 'real', 'fake', 'fake', 'real', 'real', 'real', 'real', 'real', 'fake', 'fake', 'real', 'real', 'real', 'real', 'real', 'fake', 'real', 'real', 'real', 'real', 'fake', 'real', 'real', 'fake', 'real', 'fake', 'real', 'real', 'real', 'real', 'real', 'fake', 'fake', 'fake', 'real', 'real', 'fake', 'real', 'fake', 'fake', 'fake', 'fake', 'real', 'real', 'real', 'fake', 'fake', 'real', 'fake', 'real', 'real', 'fake', 'fake', 'real', 'real', 'real', 'real', 'real', 'real', 'fake', 'real', 'fake', 'real', 'fake', 'real', 'real', 'fake', 'fake', 'fake', 'real', 'fake', 'real', 'real', 'real', 'real', 'real', 'fake', 'real', 'real', 'fake', 'fake', 'real', 'real', 'real', 'fake', 'real', 'real', 'real', 'fake', 'real', 'real', 'fake', 'real', 'real', 'real', 'real', 'real', 'fake', 'fake', 'real', 'real', 'fake', 'fake', 'fake', 'real', 'real', 'real', 'real', 'real', 'real', 'real', 'real', 'fake', 'fake', 'real', 'fake', 'fake', 'real', 'real', 'real', 'fake', 'real', 'fake', 'real', 'real', 'fake', 'real', 'real', 'fake', 'fake', 'real', 'real', 'fake', 'fake', 'fake', 'real', 'real', 'real', 'real', 'real', 'real', 'fake', 'fake', 'real', 'real', 'fake', 'fake', 'fake', 'real', 'fake', 'fake', 'fake', 'real', 'real', 'real', 'real', 'fake', 'fake', 'fake', 'real', 'fake', 'real', 'real', 'real', 'fake', 'fake', 'real', 'real', 'real', 'real', 'fake', 'real', 'real', 'fake', 'real', 'fake', 'real', 'fake', 'real', 'fake', 'real', 'real', 'fake', 'real', 'fake', 'fake', 'fake', 'real', 'real', 'real', 'real', 'fake', 'fake', 'real', 'real', 'fake', 'fake', 'real', 'real', 'real', 'fake', 'real', 'real', 'real', 'real', 'fake', 'real', 'real', 'fake', 'fake', 'real', 'fake', 'real', 'fake', 'real', 'real', 'fake', 'real', 'fake', 'real', 'real', 'real', 'fake', 'real', 'fake', 'fake', 'real', 'real', 'fake', 'real', 'real', 'real', 'fake', 'real', 'real', 'real', 'fake', 'real', 'fake', 'fake', 'real', 'real', 'fake', 'fake', 'fake', 'real', 'fake', 'real', 'fake', 'real', 'fake', 'real', 'real', 'real', 'fake', 'real', 'fake', 'fake', 'real', 'fake', 'real', 'fake', 'fake', 'fake', 'real', 'fake', 'fake', 'real', 'real', 'real', 'real', 'fake', 'real', 'fake', 'real', 'real', 'real', 'fake', 'real', 'real', 'real', 'fake', 'real', 'real', 'real', 'real', 'fake', 'fake', 'real', 'fake', 'fake', 'fake', 'fake', 'fake', 'fake', 'real', 'fake', 'real', 'real', 'real', 'real', 'real', 'fake', 'real', 'real', 'real', 'fake', 'fake', 'real', 'fake', 'fake', 'fake', 'fake', 'real', 'real', 'real', 'fake', 'real', 'real', 'fake', 'fake', 'real', 'fake', 'fake', 'real', 'real', 'fake', 'fake', 'real', 'fake', 'real', 'fake', 'real', 'real', 'real', 'real', 'real', 'fake', 'fake', 'real', 'fake', 'fake', 'fake', 'real', 'fake', 'fake', 'fake', 'real', 'fake', 'fake', 'real', 'fake', 'fake', 'fake', 'real', 'fake', 'fake', 'fake', 'fake', 'real', 'fake', 'real', 'fake', 'real', 'real', 'fake', 'fake', 'real', 'real', 'fake', 'real', 'real', 'real', 'real', 'real', 'real', 'real', 'real', 'real', 'fake', 'fake', 'real', 'fake', 'fake', 'fake', 'fake', 'real', 'real', 'real', 'fake', 'fake', 'fake', 'fake', 'real', 'real', 'fake', 'real', 'fake', 'real', 'fake', 'fake', 'fake', 'fake', 'fake', 'real', 'real', 'real', 'real', 'fake', 'real', 'real', 'real', 'real', 'real', 'fake', 'real', 'real', 'real', 'real', 'fake', 'real', 'real', 'real', 'real', 'real', 'fake', 'real', 'fake', 'real', 'real', 'real', 'real', 'real', 'real', 'real', 'real', 'fake', 'fake', 'real', 'fake', 'fake', 'fake', 'real', 'real', 'real', 'fake', 'fake', 'fake', 'real', 'real', 'fake', 'fake', 'real', 'real', 'real', 'real', 'real', 'fake', 'fake', 'real', 'fake', 'fake', 'fake', 'real', 'fake', 'fake', 'fake', 'real', 'fake', 'real', 'fake', 'real', 'fake', 'real', 'fake', 'fake', 'real', 'real', 'real', 'fake', 'fake', 'real', 'fake', 'fake', 'real', 'real', 'real', 'fake', 'real', 'real', 'real', 'real', 'real', 'real', 'fake', 'real', 'real', 'fake', 'real', 'real', 'fake', 'fake', 'fake', 'fake', 'real', 'fake', 'fake', 'real', 'fake', 'real', 'fake', 'fake', 'real', 'real', 'fake', 'real', 'fake', 'fake', 'real', 'real', 'real', 'real', 'fake', 'fake', 'real', 'real', 'fake', 'fake', 'real', 'fake', 'fake', 'fake', 'fake', 'fake', 'real', 'fake', 'real', 'fake', 'fake', 'fake', 'real', 'fake', 'real', 'real', 'fake', 'real', 'real', 'real', 'fake', 'real', 'real', 'real', 'fake', 'real', 'fake', 'fake', 'real', 'real', 'fake', 'real', 'real', 'fake', 'fake', 'real', 'real', 'fake', 'real', 'real', 'real', 'real', 'fake', 'fake', 'fake', 'fake', 'real', 'fake', 'fake', 'fake', 'real', 'real', 'fake', 'real', 'real', 'fake', 'real', 'fake', 'fake', 'fake', 'fake', 'real', 'fake', 'real', 'fake', 'real', 'fake', 'real', 'fake', 'fake', 'real', 'real', 'real', 'fake', 'real', 'fake', 'fake', 'real', 'real', 'real', 'fake', 'real', 'real', 'fake', 'real', 'fake', 'fake', 'real', 'fake', 'fake', 'real', 'fake', 'fake', 'fake', 'real', 'fake', 'real', 'fake', 'real', 'real', 'real', 'fake', 'fake', 'real', 'fake', 'fake', 'fake', 'fake', 'real', 'real', 'real', 'real', 'real', 'real', 'fake', 'fake', 'fake', 'real', 'fake', 'real', 'fake', 'fake', 'real', 'fake', 'fake', 'fake', 'fake', 'fake', 'fake', 'real', 'real', 'fake', 'fake', 'real', 'real', 'fake', 'fake', 'fake', 'real', 'real', 'fake', 'real', 'fake', 'fake', 'fake', 'fake', 'fake', 'real', 'real', 'fake', 'real', 'fake', 'fake', 'fake', 'real', 'fake', 'fake', 'real', 'fake', 'real', 'fake', 'real', 'fake', 'fake', 'real', 'fake', 'real', 'real', 'real', 'real', 'real', 'fake', 'real', 'real', 'real', 'real', 'fake', 'real', 'fake', 'real', 'fake', 'real', 'real', 'real', 'fake', 'fake', 'fake', 'real', 'real', 'real', 'real', 'fake', 'real', 'real', 'real', 'fake', 'real', 'fake', 'fake', 'real', 'real', 'fake', 'real', 'fake', 'real', 'real', 'fake', 'fake', 'real', 'fake', 'real', 'fake', 'real', 'real', 'fake', 'real', 'fake', 'real', 'real', 'fake', 'real', 'real', 'real', 'real', 'real', 'real', 'fake', 'real', 'real', 'real', 'real', 'fake', 'real', 'fake', 'real', 'real', 'fake', 'fake', 'real', 'fake', 'fake', 'real', 'real', 'real', 'real', 'fake', 'fake', 'real', 'fake', 'fake', 'real', 'real', 'real', 'real', 'fake', 'real', 'real', 'real', 'fake', 'real', 'fake', 'fake', 'real', 'fake', 'real', 'fake', 'real', 'fake', 'fake', 'fake', 'fake', 'real', 'fake', 'fake', 'real', 'fake', 'real', 'real', 'real', 'fake', 'fake', 'real', 'fake', 'fake', 'fake', 'fake', 'fake', 'fake', 'fake', 'real', 'fake', 'fake', 'real', 'real', 'real', 'real', 'real', 'real', 'real', 'real', 'real', 'fake', 'fake', 'real', 'fake', 'fake', 'fake', 'real', 'real', 'real', 'fake', 'real', 'fake', 'real', 'fake', 'real', 'real', 'fake', 'real', 'real', 'real', 'fake', 'real', 'fake', 'real', 'real', 'real', 'real', 'fake', 'fake', 'fake', 'real', 'fake', 'real', 'fake', 'real', 'fake', 'fake', 'fake', 'real', 'real', 'real', 'real', 'fake', 'real', 'fake', 'fake', 'real', 'fake', 'fake', 'real', 'fake', 'fake', 'fake', 'fake', 'fake', 'real', 'real', 'fake', 'fake', 'fake', 'fake', 'fake', 'real', 'fake', 'fake', 'real', 'real', 'fake', 'real', 'real', 'real', 'real', 'fake', 'real', 'real', 'real', 'real', 'fake', 'fake', 'real', 'real', 'real', 'real', 'real', 'real', 'real', 'fake', 'real', 'fake', 'real', 'fake', 'real', 'fake', 'fake', 'fake', 'real', 'real', 'fake', 'real', 'real', 'fake', 'fake', 'real', 'fake', 'fake', 'fake', 'real', 'real', 'real', 'fake', 'real', 'real', 'real', 'fake', 'fake', 'fake', 'fake', 'real', 'fake', 'fake', 'real', 'real', 'real', 'fake', 'fake', 'fake', 'real', 'fake']\n"
     ]
    }
   ],
   "source": [
    "print(len(y_true))\n",
    "print(len(y_pred))\n",
    "print(y_pred)"
   ]
  },
  {
   "cell_type": "code",
   "execution_count": 44,
   "id": "85706e81-3068-4150-9773-320a8aa98c69",
   "metadata": {
    "id": "85706e81-3068-4150-9773-320a8aa98c69",
    "tags": [],
    "ExecuteTime": {
     "end_time": "2024-06-04T21:27:58.104486Z",
     "start_time": "2024-06-04T21:27:57.995Z"
    }
   },
   "outputs": [
    {
     "name": "stdout",
     "output_type": "stream",
     "text": [
      "(517,)\n",
      "(517,)\n",
      "(1034,)\n",
      "[[265 252]\n",
      " [298 219]]\n"
     ]
    }
   ],
   "source": [
    "# creo i vettori di ground truth\n",
    "y_true = np.array([\"fake\"] * 517)\n",
    "print(y_true.shape)\n",
    "\n",
    "temp = np.array([\"real\"] * 517)\n",
    "print(temp.shape)\n",
    "\n",
    "y_true = np.concatenate([y_true, temp])\n",
    "print(y_true.shape)\n",
    "\n",
    "# calcolo la matrice di confusione (quella di scikit-learn dispone i risultati come nella cella di sotto)\n",
    "cm = confusion_matrix(y_true, y_pred, labels=[\"real\", \"fake\"])\n",
    "print(cm)"
   ]
  },
  {
   "cell_type": "code",
   "execution_count": 45,
   "id": "28d903d0-38e3-4dc7-af71-f091c78a00e7",
   "metadata": {
    "id": "28d903d0-38e3-4dc7-af71-f091c78a00e7",
    "tags": [],
    "ExecuteTime": {
     "end_time": "2024-06-04T21:28:01.578662Z",
     "start_time": "2024-06-04T21:28:01.469134Z"
    }
   },
   "outputs": [
    {
     "name": "stdout",
     "output_type": "stream",
     "text": [
      "{'Accuracy': 46.81, 'Precision': 46.5, 'Recall': 42.36, 'Specificity': 51.2573, 'F1 Score': 44.3336}\n"
     ]
    }
   ],
   "source": [
    "TN, FP, FN, TP = cm.ravel()\n",
    "\n",
    "# metriche\n",
    "accuracy = round((TP + TN) / (TP + TN + FP + FN), 4) * 100\n",
    "precision = round((TP) / (TP + FP), 4) * 100\n",
    "recall = round((TP) / (TP + FN), 4) * 100\n",
    "specificity = round((TN) / (TN + FP) * 100, 4)\n",
    "f1_score = round((2 * precision * recall) / (precision + recall), 4)\n",
    "\n",
    "print({\"Accuracy\":accuracy, \"Precision\":precision, \"Recall\":recall, \"Specificity\":specificity, \"F1 Score\":f1_score})"
   ]
  },
  {
   "cell_type": "code",
   "execution_count": 46,
   "id": "eb6aac2a",
   "metadata": {
    "ExecuteTime": {
     "end_time": "2024-06-04T21:28:04.860844Z",
     "start_time": "2024-06-04T21:28:04.755319Z"
    }
   },
   "outputs": [],
   "source": [
    "# si salvano i risultati in un file .csv\n",
    "df_results = pd.DataFrame(columns=[\"Accuracy\", \"Precision\", \"Recall\", \"Specificity\", \"F1 Score\"])\n",
    "df_results.loc[0] = [accuracy, precision, recall, specificity, f1_score]\n",
    "\n",
    "# si differenziano i risultati in base al tipo di immagini e dataset usati\n",
    "dataset = fake_data_dir.split(\"\\\\\")[-1]\n",
    "path = os.path.join(\"..\", \"results\", \"siamese_\" + mode + \"_\" + dataset + \"_results.csv\")\n",
    "\n",
    "df_results.to_csv(path, index=False)"
   ]
  },
  {
   "cell_type": "code",
   "outputs": [],
   "source": [],
   "metadata": {
    "collapsed": false
   },
   "id": "88f2ce71cff757cd"
  }
 ],
 "metadata": {
  "colab": {
   "provenance": []
  },
  "kernelspec": {
   "display_name": "fvab",
   "language": "python",
   "name": "python3"
  },
  "language_info": {
   "codemirror_mode": {
    "name": "ipython",
    "version": 3
   },
   "file_extension": ".py",
   "mimetype": "text/x-python",
   "name": "python",
   "nbconvert_exporter": "python",
   "pygments_lexer": "ipython3",
   "version": "3.10.14"
  }
 },
 "nbformat": 4,
 "nbformat_minor": 5
}
