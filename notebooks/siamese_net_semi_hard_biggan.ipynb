{
 "cells": [
  {
   "cell_type": "code",
   "execution_count": 17,
   "id": "4451512f",
   "metadata": {
    "ExecuteTime": {
     "end_time": "2024-06-08T15:04:33.652318Z",
     "start_time": "2024-06-08T15:04:33.643320Z"
    }
   },
   "outputs": [],
   "source": [
    "import os\n",
    "import sys\n",
    "\n",
    "from pathlib import Path\n",
    "\n",
    "# si aggiunge al path la cartella utils per avere visibilità del modulo\n",
    "module_path = Path(os.getcwd()).parent.parent\n",
    "module_path = os.path.join(module_path, \"project-detective\")\n",
    "\n",
    "sys.path.append(module_path)"
   ]
  },
  {
   "cell_type": "code",
   "execution_count": 18,
   "id": "629f9a2a-51d3-4851-b6f2-a542601bb67e",
   "metadata": {
    "ExecuteTime": {
     "end_time": "2024-06-08T15:04:41.555036Z",
     "start_time": "2024-06-08T15:04:33.654319Z"
    },
    "id": "629f9a2a-51d3-4851-b6f2-a542601bb67e",
    "tags": []
   },
   "outputs": [],
   "source": [
    "import cv2\n",
    "import timm\n",
    "import torch\n",
    "import numpy as np\n",
    "import pandas as pd\n",
    "import matplotlib.pyplot as plt\n",
    "import torch.nn.functional as F\n",
    "import utils.semi_hard_mining as shm\n",
    "\n",
    "from torch import nn\n",
    "from tqdm import tqdm\n",
    "from skimage import io\n",
    "from pathlib import Path\n",
    "from sklearn.metrics import confusion_matrix\n",
    "from torch.utils.data import Dataset, DataLoader\n",
    "from sklearn.model_selection import train_test_split"
   ]
  },
  {
   "cell_type": "code",
   "execution_count": 19,
   "id": "0fb6e0d0-b8cc-44b8-a8ac-17934de905f6",
   "metadata": {
    "ExecuteTime": {
     "end_time": "2024-06-08T15:04:41.665141Z",
     "start_time": "2024-06-08T15:04:41.556020Z"
    },
    "id": "0fb6e0d0-b8cc-44b8-a8ac-17934de905f6",
    "tags": []
   },
   "outputs": [
    {
     "name": "stdout",
     "output_type": "stream",
     "text": [
      "The autoreload extension is already loaded. To reload it, use:\n",
      "  %reload_ext autoreload\n"
     ]
    }
   ],
   "source": [
    "# serve per ricaricare automaticamente il codice modificato\n",
    "%load_ext autoreload\n",
    "%autoreload 2"
   ]
  },
  {
   "cell_type": "code",
   "execution_count": 20,
   "id": "f02ae726-f601-4b51-a949-71a5464ec779",
   "metadata": {
    "ExecuteTime": {
     "end_time": "2024-06-08T15:04:41.774037Z",
     "start_time": "2024-06-08T15:04:41.666022Z"
    },
    "id": "f02ae726-f601-4b51-a949-71a5464ec779",
    "tags": []
   },
   "outputs": [
    {
     "name": "stdout",
     "output_type": "stream",
     "text": [
      "PyTorch version: 2.2.2+cu121\n",
      "CUDA version: 12.1\n",
      "cuDNN version: 8801\n",
      "Available devices: 1\n",
      "Device name: NVIDIA GeForce RTX 2050\n"
     ]
    }
   ],
   "source": [
    "# directory da dove vengono prelevate le immagini\n",
    "path = Path(os.getcwd()).parent.parent\n",
    "real_data_dir = os.path.join(path, \"artifact\", \"coco\")\n",
    "fake_data_dir = os.path.join(path, \"artifact\", \"big_gan\")\n",
    "\n",
    "# per far funzionare il modello su immagini rgb o in scala di grigi (per usare fourier)\n",
    "mode=\"rgb\"\n",
    "\n",
    "BATCH_SIZE = 32\n",
    "\n",
    "LR = 0.001\n",
    "\n",
    "EPOCHS = 30\n",
    "\n",
    "DEVICE = \"cuda\"\n",
    "\n",
    "print(f\"PyTorch version: {torch.__version__}\")\n",
    "print(f\"CUDA version: {torch.version.cuda}\")\n",
    "print(f\"cuDNN version: {torch.backends.cudnn.version()}\")\n",
    "print(f\"Available devices: {torch.cuda.device_count()}\")\n",
    "print(f\"Device name: {torch.cuda.get_device_name(0)}\")"
   ]
  },
  {
   "cell_type": "code",
   "execution_count": 21,
   "id": "6c035a79-a777-4fb4-83fc-c71f1f4d37a7",
   "metadata": {
    "ExecuteTime": {
     "end_time": "2024-06-08T15:04:41.933021Z",
     "start_time": "2024-06-08T15:04:41.775022Z"
    },
    "id": "6c035a79-a777-4fb4-83fc-c71f1f4d37a7",
    "tags": []
   },
   "outputs": [
    {
     "name": "stdout",
     "output_type": "stream",
     "text": [
      "train dataset size: 2150\n",
      "val dataset size: 538\n"
     ]
    }
   ],
   "source": [
    "csv_path = os.path.join(\"..\", \"datasets\", \"semi_hard_mining_biggan_database.csv\")\n",
    "df = pd.read_csv(csv_path)\n",
    "\n",
    "df = df.sample(frac=1)\n",
    "\n",
    "df.head()\n",
    "\n",
    "train_df, valid_df = train_test_split(df, test_size=0.20, random_state=42)\n",
    "\n",
    "print(f\"train dataset size: {len(train_df)}\")\n",
    "print(f\"val dataset size: {len(valid_df)}\")"
   ]
  },
  {
   "cell_type": "code",
   "execution_count": 22,
   "id": "aa3dfd88-2685-4ef3-8cac-2e2c85c6f0fe",
   "metadata": {
    "ExecuteTime": {
     "end_time": "2024-06-08T15:04:42.044296Z",
     "start_time": "2024-06-08T15:04:41.935023Z"
    },
    "id": "aa3dfd88-2685-4ef3-8cac-2e2c85c6f0fe",
    "tags": []
   },
   "outputs": [],
   "source": [
    "# carica le immagini nel dataset\n",
    "class APN_Dataset(Dataset):\n",
    "\n",
    "  def __init__(self, df):\n",
    "    self.df = df\n",
    "\n",
    "  def __len__(self):\n",
    "    return len(self.df)\n",
    "\n",
    "  def __getitem__(self, idx):\n",
    "    row = self.df.iloc[idx]\n",
    "    \n",
    "    if mode == \"rgb\":\n",
    "      # le immagini Anchor sono memorizzate in due dataset diversi\n",
    "      if \"big\" in row.Anchor:\n",
    "        A_img = io.imread(os.path.join(fake_data_dir, row.Anchor))\n",
    "        P_img = io.imread(os.path.join(fake_data_dir, row.Positive))\n",
    "        N_img = io.imread(os.path.join(real_data_dir, row.Negative))\n",
    "      else:\n",
    "        A_img = io.imread(os.path.join(real_data_dir, row.Anchor))\n",
    "        P_img = io.imread(os.path.join(real_data_dir, row.Positive))\n",
    "        N_img = io.imread(os.path.join(fake_data_dir, row.Negative))\n",
    "          \n",
    "      # normalizzazione per immagini in rgb \n",
    "      A_img = torch.from_numpy(A_img).permute(2, 0, 1) / 255.0\n",
    "      P_img = torch.from_numpy(P_img).permute(2, 0, 1) / 255.0\n",
    "      N_img = torch.from_numpy(N_img).permute(2, 0, 1) / 255.0\n",
    "\n",
    "    if mode == \"grey_scale\":\n",
    "      A_img = np.expand_dims(A_img, 0)\n",
    "      P_img = np.expand_dims(P_img, 0)\n",
    "      N_img = np.expand_dims(N_img, 0)\n",
    "      \n",
    "      A_img = torch.from_numpy(A_img) / 255.0\n",
    "      P_img = torch.from_numpy(P_img) / 255.0\n",
    "      N_img = torch.from_numpy(N_img) / 255.0\n",
    "\n",
    "    # A_img = torch.from_numpy(A_img.astype(np.int32)) / 65536.0\n",
    "    # P_img = torch.from_numpy(P_img.astype(np.int32)) / 65536.0\n",
    "    # N_img = torch.from_numpy(N_img.astype(np.int32)) / 65536.0\n",
    "\n",
    "    return A_img, P_img, N_img"
   ]
  },
  {
   "cell_type": "code",
   "execution_count": 23,
   "id": "8203b726-6dcc-41fc-ac33-d98f58e61ac7",
   "metadata": {
    "ExecuteTime": {
     "end_time": "2024-06-08T15:04:42.140274Z",
     "start_time": "2024-06-08T15:04:42.045175Z"
    },
    "id": "8203b726-6dcc-41fc-ac33-d98f58e61ac7",
    "outputId": "60287971-91ea-41f4-e564-ec8524cb8d3d",
    "tags": []
   },
   "outputs": [
    {
     "name": "stdout",
     "output_type": "stream",
     "text": [
      "trainset size: 2150\n",
      "validset size: 538\n"
     ]
    }
   ],
   "source": [
    "trainset = APN_Dataset(train_df)\n",
    "validset = APN_Dataset(valid_df)\n",
    "print(f\"trainset size: {len(trainset)}\")\n",
    "print(f\"validset size: {len(validset)}\")"
   ]
  },
  {
   "cell_type": "code",
   "execution_count": 24,
   "id": "4fae8215-4694-4710-b55a-e9c10bf42690",
   "metadata": {
    "ExecuteTime": {
     "end_time": "2024-06-08T15:04:42.236174Z",
     "start_time": "2024-06-08T15:04:42.141268Z"
    },
    "id": "4fae8215-4694-4710-b55a-e9c10bf42690",
    "tags": []
   },
   "outputs": [],
   "source": [
    "trainloader = DataLoader(trainset, batch_size = BATCH_SIZE, shuffle = True)\n",
    "validloader = DataLoader(validset, batch_size = BATCH_SIZE)"
   ]
  },
  {
   "cell_type": "code",
   "execution_count": 25,
   "id": "9b9c0301-e6a8-47cb-91f8-9850b78e39d5",
   "metadata": {
    "ExecuteTime": {
     "end_time": "2024-06-08T15:04:42.332174Z",
     "start_time": "2024-06-08T15:04:42.238173Z"
    },
    "id": "9b9c0301-e6a8-47cb-91f8-9850b78e39d5",
    "outputId": "0be94549-1119-4856-dce2-a7df0229a36d",
    "tags": []
   },
   "outputs": [
    {
     "name": "stdout",
     "output_type": "stream",
     "text": [
      "#batches in trainloader : 68\n",
      "#batches in validloader : 17\n"
     ]
    }
   ],
   "source": [
    "print(f\"#batches in trainloader : {len(trainloader)}\")\n",
    "print(f\"#batches in validloader : {len(validloader)}\")"
   ]
  },
  {
   "cell_type": "code",
   "execution_count": 26,
   "id": "d1022fe9",
   "metadata": {
    "ExecuteTime": {
     "end_time": "2024-06-08T15:04:42.444189Z",
     "start_time": "2024-06-08T15:04:42.333175Z"
    }
   },
   "outputs": [],
   "source": [
    "# funzione per caricare il modello di rete neurale direttamente dalle repository online\n",
    "class APN_Model_Pretrained(nn.Module):\n",
    "\n",
    "  # size del vettore di embedding\n",
    "  def __init__(self, emb_size = 512):\n",
    "    super(APN_Model_Pretrained, self).__init__()\n",
    "\n",
    "    # caricamento del modello, in questo caso efficientnet b0 (architettura più leggera della famiglia)\n",
    "    self.efficientnet = timm.create_model(\"tf_efficientnetv2_b0\", pretrained=True)\n",
    "    self.efficientnet.classifier = nn.Linear(in_features=self.efficientnet.classifier.in_features, out_features=emb_size)\n",
    "\n",
    "  def forward(self, images):\n",
    "    embeddings = self.efficientnet(images)\n",
    "    return embeddings"
   ]
  },
  {
   "cell_type": "code",
   "execution_count": 27,
   "id": "477f08a1-15bb-471f-974c-23c6bef4ece3",
   "metadata": {
    "ExecuteTime": {
     "end_time": "2024-06-08T15:04:42.556175Z",
     "start_time": "2024-06-08T15:04:42.445174Z"
    },
    "id": "477f08a1-15bb-471f-974c-23c6bef4ece3",
    "tags": []
   },
   "outputs": [],
   "source": [
    "# funzione per caricare il modello di rete neurale direttamente dalle repository online\n",
    "class APN_Model(nn.Module):\n",
    "\n",
    "  # size del vettore di embedding\n",
    "  def __init__(self, emb_size = 512):\n",
    "    super(APN_Model, self).__init__()\n",
    "\n",
    "    # caricamento del modello, in questo caso efficientnet b0 (architettura più leggera della famiglia)\n",
    "    self.efficientnet = timm.create_model(\"tf_efficientnetv2_b0\", pretrained=False)\n",
    "    self.efficientnet.classifier = nn.Linear(in_features=self.efficientnet.classifier.in_features, out_features=emb_size)\n",
    "\n",
    "  def forward(self, images):\n",
    "    embeddings = self.efficientnet(images)\n",
    "    return embeddings"
   ]
  },
  {
   "cell_type": "code",
   "execution_count": 28,
   "id": "a64f5032-dc37-4858-a901-d17b2eaed4db",
   "metadata": {
    "ExecuteTime": {
     "end_time": "2024-06-08T15:04:43.018557Z",
     "start_time": "2024-06-08T15:04:42.557175Z"
    },
    "id": "a64f5032-dc37-4858-a901-d17b2eaed4db",
    "tags": []
   },
   "outputs": [
    {
     "data": {
      "text/plain": [
       "APN_Model_Pretrained(\n",
       "  (efficientnet): EfficientNet(\n",
       "    (conv_stem): Conv2dSame(3, 32, kernel_size=(3, 3), stride=(2, 2), bias=False)\n",
       "    (bn1): BatchNormAct2d(\n",
       "      32, eps=0.001, momentum=0.1, affine=True, track_running_stats=True\n",
       "      (drop): Identity()\n",
       "      (act): SiLU(inplace=True)\n",
       "    )\n",
       "    (blocks): Sequential(\n",
       "      (0): Sequential(\n",
       "        (0): ConvBnAct(\n",
       "          (conv): Conv2d(32, 16, kernel_size=(3, 3), stride=(1, 1), padding=(1, 1), bias=False)\n",
       "          (bn1): BatchNormAct2d(\n",
       "            16, eps=0.001, momentum=0.1, affine=True, track_running_stats=True\n",
       "            (drop): Identity()\n",
       "            (act): SiLU(inplace=True)\n",
       "          )\n",
       "          (drop_path): Identity()\n",
       "        )\n",
       "      )\n",
       "      (1): Sequential(\n",
       "        (0): EdgeResidual(\n",
       "          (conv_exp): Conv2dSame(16, 64, kernel_size=(3, 3), stride=(2, 2), bias=False)\n",
       "          (bn1): BatchNormAct2d(\n",
       "            64, eps=0.001, momentum=0.1, affine=True, track_running_stats=True\n",
       "            (drop): Identity()\n",
       "            (act): SiLU(inplace=True)\n",
       "          )\n",
       "          (se): Identity()\n",
       "          (conv_pwl): Conv2d(64, 32, kernel_size=(1, 1), stride=(1, 1), bias=False)\n",
       "          (bn2): BatchNormAct2d(\n",
       "            32, eps=0.001, momentum=0.1, affine=True, track_running_stats=True\n",
       "            (drop): Identity()\n",
       "            (act): Identity()\n",
       "          )\n",
       "          (drop_path): Identity()\n",
       "        )\n",
       "        (1): EdgeResidual(\n",
       "          (conv_exp): Conv2d(32, 128, kernel_size=(3, 3), stride=(1, 1), padding=(1, 1), bias=False)\n",
       "          (bn1): BatchNormAct2d(\n",
       "            128, eps=0.001, momentum=0.1, affine=True, track_running_stats=True\n",
       "            (drop): Identity()\n",
       "            (act): SiLU(inplace=True)\n",
       "          )\n",
       "          (se): Identity()\n",
       "          (conv_pwl): Conv2d(128, 32, kernel_size=(1, 1), stride=(1, 1), bias=False)\n",
       "          (bn2): BatchNormAct2d(\n",
       "            32, eps=0.001, momentum=0.1, affine=True, track_running_stats=True\n",
       "            (drop): Identity()\n",
       "            (act): Identity()\n",
       "          )\n",
       "          (drop_path): Identity()\n",
       "        )\n",
       "      )\n",
       "      (2): Sequential(\n",
       "        (0): EdgeResidual(\n",
       "          (conv_exp): Conv2dSame(32, 128, kernel_size=(3, 3), stride=(2, 2), bias=False)\n",
       "          (bn1): BatchNormAct2d(\n",
       "            128, eps=0.001, momentum=0.1, affine=True, track_running_stats=True\n",
       "            (drop): Identity()\n",
       "            (act): SiLU(inplace=True)\n",
       "          )\n",
       "          (se): Identity()\n",
       "          (conv_pwl): Conv2d(128, 48, kernel_size=(1, 1), stride=(1, 1), bias=False)\n",
       "          (bn2): BatchNormAct2d(\n",
       "            48, eps=0.001, momentum=0.1, affine=True, track_running_stats=True\n",
       "            (drop): Identity()\n",
       "            (act): Identity()\n",
       "          )\n",
       "          (drop_path): Identity()\n",
       "        )\n",
       "        (1): EdgeResidual(\n",
       "          (conv_exp): Conv2d(48, 192, kernel_size=(3, 3), stride=(1, 1), padding=(1, 1), bias=False)\n",
       "          (bn1): BatchNormAct2d(\n",
       "            192, eps=0.001, momentum=0.1, affine=True, track_running_stats=True\n",
       "            (drop): Identity()\n",
       "            (act): SiLU(inplace=True)\n",
       "          )\n",
       "          (se): Identity()\n",
       "          (conv_pwl): Conv2d(192, 48, kernel_size=(1, 1), stride=(1, 1), bias=False)\n",
       "          (bn2): BatchNormAct2d(\n",
       "            48, eps=0.001, momentum=0.1, affine=True, track_running_stats=True\n",
       "            (drop): Identity()\n",
       "            (act): Identity()\n",
       "          )\n",
       "          (drop_path): Identity()\n",
       "        )\n",
       "      )\n",
       "      (3): Sequential(\n",
       "        (0): InvertedResidual(\n",
       "          (conv_pw): Conv2d(48, 192, kernel_size=(1, 1), stride=(1, 1), bias=False)\n",
       "          (bn1): BatchNormAct2d(\n",
       "            192, eps=0.001, momentum=0.1, affine=True, track_running_stats=True\n",
       "            (drop): Identity()\n",
       "            (act): SiLU(inplace=True)\n",
       "          )\n",
       "          (conv_dw): Conv2dSame(192, 192, kernel_size=(3, 3), stride=(2, 2), groups=192, bias=False)\n",
       "          (bn2): BatchNormAct2d(\n",
       "            192, eps=0.001, momentum=0.1, affine=True, track_running_stats=True\n",
       "            (drop): Identity()\n",
       "            (act): SiLU(inplace=True)\n",
       "          )\n",
       "          (se): SqueezeExcite(\n",
       "            (conv_reduce): Conv2d(192, 12, kernel_size=(1, 1), stride=(1, 1))\n",
       "            (act1): SiLU(inplace=True)\n",
       "            (conv_expand): Conv2d(12, 192, kernel_size=(1, 1), stride=(1, 1))\n",
       "            (gate): Sigmoid()\n",
       "          )\n",
       "          (conv_pwl): Conv2d(192, 96, kernel_size=(1, 1), stride=(1, 1), bias=False)\n",
       "          (bn3): BatchNormAct2d(\n",
       "            96, eps=0.001, momentum=0.1, affine=True, track_running_stats=True\n",
       "            (drop): Identity()\n",
       "            (act): Identity()\n",
       "          )\n",
       "          (drop_path): Identity()\n",
       "        )\n",
       "        (1): InvertedResidual(\n",
       "          (conv_pw): Conv2d(96, 384, kernel_size=(1, 1), stride=(1, 1), bias=False)\n",
       "          (bn1): BatchNormAct2d(\n",
       "            384, eps=0.001, momentum=0.1, affine=True, track_running_stats=True\n",
       "            (drop): Identity()\n",
       "            (act): SiLU(inplace=True)\n",
       "          )\n",
       "          (conv_dw): Conv2d(384, 384, kernel_size=(3, 3), stride=(1, 1), padding=(1, 1), groups=384, bias=False)\n",
       "          (bn2): BatchNormAct2d(\n",
       "            384, eps=0.001, momentum=0.1, affine=True, track_running_stats=True\n",
       "            (drop): Identity()\n",
       "            (act): SiLU(inplace=True)\n",
       "          )\n",
       "          (se): SqueezeExcite(\n",
       "            (conv_reduce): Conv2d(384, 24, kernel_size=(1, 1), stride=(1, 1))\n",
       "            (act1): SiLU(inplace=True)\n",
       "            (conv_expand): Conv2d(24, 384, kernel_size=(1, 1), stride=(1, 1))\n",
       "            (gate): Sigmoid()\n",
       "          )\n",
       "          (conv_pwl): Conv2d(384, 96, kernel_size=(1, 1), stride=(1, 1), bias=False)\n",
       "          (bn3): BatchNormAct2d(\n",
       "            96, eps=0.001, momentum=0.1, affine=True, track_running_stats=True\n",
       "            (drop): Identity()\n",
       "            (act): Identity()\n",
       "          )\n",
       "          (drop_path): Identity()\n",
       "        )\n",
       "        (2): InvertedResidual(\n",
       "          (conv_pw): Conv2d(96, 384, kernel_size=(1, 1), stride=(1, 1), bias=False)\n",
       "          (bn1): BatchNormAct2d(\n",
       "            384, eps=0.001, momentum=0.1, affine=True, track_running_stats=True\n",
       "            (drop): Identity()\n",
       "            (act): SiLU(inplace=True)\n",
       "          )\n",
       "          (conv_dw): Conv2d(384, 384, kernel_size=(3, 3), stride=(1, 1), padding=(1, 1), groups=384, bias=False)\n",
       "          (bn2): BatchNormAct2d(\n",
       "            384, eps=0.001, momentum=0.1, affine=True, track_running_stats=True\n",
       "            (drop): Identity()\n",
       "            (act): SiLU(inplace=True)\n",
       "          )\n",
       "          (se): SqueezeExcite(\n",
       "            (conv_reduce): Conv2d(384, 24, kernel_size=(1, 1), stride=(1, 1))\n",
       "            (act1): SiLU(inplace=True)\n",
       "            (conv_expand): Conv2d(24, 384, kernel_size=(1, 1), stride=(1, 1))\n",
       "            (gate): Sigmoid()\n",
       "          )\n",
       "          (conv_pwl): Conv2d(384, 96, kernel_size=(1, 1), stride=(1, 1), bias=False)\n",
       "          (bn3): BatchNormAct2d(\n",
       "            96, eps=0.001, momentum=0.1, affine=True, track_running_stats=True\n",
       "            (drop): Identity()\n",
       "            (act): Identity()\n",
       "          )\n",
       "          (drop_path): Identity()\n",
       "        )\n",
       "      )\n",
       "      (4): Sequential(\n",
       "        (0): InvertedResidual(\n",
       "          (conv_pw): Conv2d(96, 576, kernel_size=(1, 1), stride=(1, 1), bias=False)\n",
       "          (bn1): BatchNormAct2d(\n",
       "            576, eps=0.001, momentum=0.1, affine=True, track_running_stats=True\n",
       "            (drop): Identity()\n",
       "            (act): SiLU(inplace=True)\n",
       "          )\n",
       "          (conv_dw): Conv2d(576, 576, kernel_size=(3, 3), stride=(1, 1), padding=(1, 1), groups=576, bias=False)\n",
       "          (bn2): BatchNormAct2d(\n",
       "            576, eps=0.001, momentum=0.1, affine=True, track_running_stats=True\n",
       "            (drop): Identity()\n",
       "            (act): SiLU(inplace=True)\n",
       "          )\n",
       "          (se): SqueezeExcite(\n",
       "            (conv_reduce): Conv2d(576, 24, kernel_size=(1, 1), stride=(1, 1))\n",
       "            (act1): SiLU(inplace=True)\n",
       "            (conv_expand): Conv2d(24, 576, kernel_size=(1, 1), stride=(1, 1))\n",
       "            (gate): Sigmoid()\n",
       "          )\n",
       "          (conv_pwl): Conv2d(576, 112, kernel_size=(1, 1), stride=(1, 1), bias=False)\n",
       "          (bn3): BatchNormAct2d(\n",
       "            112, eps=0.001, momentum=0.1, affine=True, track_running_stats=True\n",
       "            (drop): Identity()\n",
       "            (act): Identity()\n",
       "          )\n",
       "          (drop_path): Identity()\n",
       "        )\n",
       "        (1): InvertedResidual(\n",
       "          (conv_pw): Conv2d(112, 672, kernel_size=(1, 1), stride=(1, 1), bias=False)\n",
       "          (bn1): BatchNormAct2d(\n",
       "            672, eps=0.001, momentum=0.1, affine=True, track_running_stats=True\n",
       "            (drop): Identity()\n",
       "            (act): SiLU(inplace=True)\n",
       "          )\n",
       "          (conv_dw): Conv2d(672, 672, kernel_size=(3, 3), stride=(1, 1), padding=(1, 1), groups=672, bias=False)\n",
       "          (bn2): BatchNormAct2d(\n",
       "            672, eps=0.001, momentum=0.1, affine=True, track_running_stats=True\n",
       "            (drop): Identity()\n",
       "            (act): SiLU(inplace=True)\n",
       "          )\n",
       "          (se): SqueezeExcite(\n",
       "            (conv_reduce): Conv2d(672, 28, kernel_size=(1, 1), stride=(1, 1))\n",
       "            (act1): SiLU(inplace=True)\n",
       "            (conv_expand): Conv2d(28, 672, kernel_size=(1, 1), stride=(1, 1))\n",
       "            (gate): Sigmoid()\n",
       "          )\n",
       "          (conv_pwl): Conv2d(672, 112, kernel_size=(1, 1), stride=(1, 1), bias=False)\n",
       "          (bn3): BatchNormAct2d(\n",
       "            112, eps=0.001, momentum=0.1, affine=True, track_running_stats=True\n",
       "            (drop): Identity()\n",
       "            (act): Identity()\n",
       "          )\n",
       "          (drop_path): Identity()\n",
       "        )\n",
       "        (2): InvertedResidual(\n",
       "          (conv_pw): Conv2d(112, 672, kernel_size=(1, 1), stride=(1, 1), bias=False)\n",
       "          (bn1): BatchNormAct2d(\n",
       "            672, eps=0.001, momentum=0.1, affine=True, track_running_stats=True\n",
       "            (drop): Identity()\n",
       "            (act): SiLU(inplace=True)\n",
       "          )\n",
       "          (conv_dw): Conv2d(672, 672, kernel_size=(3, 3), stride=(1, 1), padding=(1, 1), groups=672, bias=False)\n",
       "          (bn2): BatchNormAct2d(\n",
       "            672, eps=0.001, momentum=0.1, affine=True, track_running_stats=True\n",
       "            (drop): Identity()\n",
       "            (act): SiLU(inplace=True)\n",
       "          )\n",
       "          (se): SqueezeExcite(\n",
       "            (conv_reduce): Conv2d(672, 28, kernel_size=(1, 1), stride=(1, 1))\n",
       "            (act1): SiLU(inplace=True)\n",
       "            (conv_expand): Conv2d(28, 672, kernel_size=(1, 1), stride=(1, 1))\n",
       "            (gate): Sigmoid()\n",
       "          )\n",
       "          (conv_pwl): Conv2d(672, 112, kernel_size=(1, 1), stride=(1, 1), bias=False)\n",
       "          (bn3): BatchNormAct2d(\n",
       "            112, eps=0.001, momentum=0.1, affine=True, track_running_stats=True\n",
       "            (drop): Identity()\n",
       "            (act): Identity()\n",
       "          )\n",
       "          (drop_path): Identity()\n",
       "        )\n",
       "        (3): InvertedResidual(\n",
       "          (conv_pw): Conv2d(112, 672, kernel_size=(1, 1), stride=(1, 1), bias=False)\n",
       "          (bn1): BatchNormAct2d(\n",
       "            672, eps=0.001, momentum=0.1, affine=True, track_running_stats=True\n",
       "            (drop): Identity()\n",
       "            (act): SiLU(inplace=True)\n",
       "          )\n",
       "          (conv_dw): Conv2d(672, 672, kernel_size=(3, 3), stride=(1, 1), padding=(1, 1), groups=672, bias=False)\n",
       "          (bn2): BatchNormAct2d(\n",
       "            672, eps=0.001, momentum=0.1, affine=True, track_running_stats=True\n",
       "            (drop): Identity()\n",
       "            (act): SiLU(inplace=True)\n",
       "          )\n",
       "          (se): SqueezeExcite(\n",
       "            (conv_reduce): Conv2d(672, 28, kernel_size=(1, 1), stride=(1, 1))\n",
       "            (act1): SiLU(inplace=True)\n",
       "            (conv_expand): Conv2d(28, 672, kernel_size=(1, 1), stride=(1, 1))\n",
       "            (gate): Sigmoid()\n",
       "          )\n",
       "          (conv_pwl): Conv2d(672, 112, kernel_size=(1, 1), stride=(1, 1), bias=False)\n",
       "          (bn3): BatchNormAct2d(\n",
       "            112, eps=0.001, momentum=0.1, affine=True, track_running_stats=True\n",
       "            (drop): Identity()\n",
       "            (act): Identity()\n",
       "          )\n",
       "          (drop_path): Identity()\n",
       "        )\n",
       "        (4): InvertedResidual(\n",
       "          (conv_pw): Conv2d(112, 672, kernel_size=(1, 1), stride=(1, 1), bias=False)\n",
       "          (bn1): BatchNormAct2d(\n",
       "            672, eps=0.001, momentum=0.1, affine=True, track_running_stats=True\n",
       "            (drop): Identity()\n",
       "            (act): SiLU(inplace=True)\n",
       "          )\n",
       "          (conv_dw): Conv2d(672, 672, kernel_size=(3, 3), stride=(1, 1), padding=(1, 1), groups=672, bias=False)\n",
       "          (bn2): BatchNormAct2d(\n",
       "            672, eps=0.001, momentum=0.1, affine=True, track_running_stats=True\n",
       "            (drop): Identity()\n",
       "            (act): SiLU(inplace=True)\n",
       "          )\n",
       "          (se): SqueezeExcite(\n",
       "            (conv_reduce): Conv2d(672, 28, kernel_size=(1, 1), stride=(1, 1))\n",
       "            (act1): SiLU(inplace=True)\n",
       "            (conv_expand): Conv2d(28, 672, kernel_size=(1, 1), stride=(1, 1))\n",
       "            (gate): Sigmoid()\n",
       "          )\n",
       "          (conv_pwl): Conv2d(672, 112, kernel_size=(1, 1), stride=(1, 1), bias=False)\n",
       "          (bn3): BatchNormAct2d(\n",
       "            112, eps=0.001, momentum=0.1, affine=True, track_running_stats=True\n",
       "            (drop): Identity()\n",
       "            (act): Identity()\n",
       "          )\n",
       "          (drop_path): Identity()\n",
       "        )\n",
       "      )\n",
       "      (5): Sequential(\n",
       "        (0): InvertedResidual(\n",
       "          (conv_pw): Conv2d(112, 672, kernel_size=(1, 1), stride=(1, 1), bias=False)\n",
       "          (bn1): BatchNormAct2d(\n",
       "            672, eps=0.001, momentum=0.1, affine=True, track_running_stats=True\n",
       "            (drop): Identity()\n",
       "            (act): SiLU(inplace=True)\n",
       "          )\n",
       "          (conv_dw): Conv2dSame(672, 672, kernel_size=(3, 3), stride=(2, 2), groups=672, bias=False)\n",
       "          (bn2): BatchNormAct2d(\n",
       "            672, eps=0.001, momentum=0.1, affine=True, track_running_stats=True\n",
       "            (drop): Identity()\n",
       "            (act): SiLU(inplace=True)\n",
       "          )\n",
       "          (se): SqueezeExcite(\n",
       "            (conv_reduce): Conv2d(672, 28, kernel_size=(1, 1), stride=(1, 1))\n",
       "            (act1): SiLU(inplace=True)\n",
       "            (conv_expand): Conv2d(28, 672, kernel_size=(1, 1), stride=(1, 1))\n",
       "            (gate): Sigmoid()\n",
       "          )\n",
       "          (conv_pwl): Conv2d(672, 192, kernel_size=(1, 1), stride=(1, 1), bias=False)\n",
       "          (bn3): BatchNormAct2d(\n",
       "            192, eps=0.001, momentum=0.1, affine=True, track_running_stats=True\n",
       "            (drop): Identity()\n",
       "            (act): Identity()\n",
       "          )\n",
       "          (drop_path): Identity()\n",
       "        )\n",
       "        (1): InvertedResidual(\n",
       "          (conv_pw): Conv2d(192, 1152, kernel_size=(1, 1), stride=(1, 1), bias=False)\n",
       "          (bn1): BatchNormAct2d(\n",
       "            1152, eps=0.001, momentum=0.1, affine=True, track_running_stats=True\n",
       "            (drop): Identity()\n",
       "            (act): SiLU(inplace=True)\n",
       "          )\n",
       "          (conv_dw): Conv2d(1152, 1152, kernel_size=(3, 3), stride=(1, 1), padding=(1, 1), groups=1152, bias=False)\n",
       "          (bn2): BatchNormAct2d(\n",
       "            1152, eps=0.001, momentum=0.1, affine=True, track_running_stats=True\n",
       "            (drop): Identity()\n",
       "            (act): SiLU(inplace=True)\n",
       "          )\n",
       "          (se): SqueezeExcite(\n",
       "            (conv_reduce): Conv2d(1152, 48, kernel_size=(1, 1), stride=(1, 1))\n",
       "            (act1): SiLU(inplace=True)\n",
       "            (conv_expand): Conv2d(48, 1152, kernel_size=(1, 1), stride=(1, 1))\n",
       "            (gate): Sigmoid()\n",
       "          )\n",
       "          (conv_pwl): Conv2d(1152, 192, kernel_size=(1, 1), stride=(1, 1), bias=False)\n",
       "          (bn3): BatchNormAct2d(\n",
       "            192, eps=0.001, momentum=0.1, affine=True, track_running_stats=True\n",
       "            (drop): Identity()\n",
       "            (act): Identity()\n",
       "          )\n",
       "          (drop_path): Identity()\n",
       "        )\n",
       "        (2): InvertedResidual(\n",
       "          (conv_pw): Conv2d(192, 1152, kernel_size=(1, 1), stride=(1, 1), bias=False)\n",
       "          (bn1): BatchNormAct2d(\n",
       "            1152, eps=0.001, momentum=0.1, affine=True, track_running_stats=True\n",
       "            (drop): Identity()\n",
       "            (act): SiLU(inplace=True)\n",
       "          )\n",
       "          (conv_dw): Conv2d(1152, 1152, kernel_size=(3, 3), stride=(1, 1), padding=(1, 1), groups=1152, bias=False)\n",
       "          (bn2): BatchNormAct2d(\n",
       "            1152, eps=0.001, momentum=0.1, affine=True, track_running_stats=True\n",
       "            (drop): Identity()\n",
       "            (act): SiLU(inplace=True)\n",
       "          )\n",
       "          (se): SqueezeExcite(\n",
       "            (conv_reduce): Conv2d(1152, 48, kernel_size=(1, 1), stride=(1, 1))\n",
       "            (act1): SiLU(inplace=True)\n",
       "            (conv_expand): Conv2d(48, 1152, kernel_size=(1, 1), stride=(1, 1))\n",
       "            (gate): Sigmoid()\n",
       "          )\n",
       "          (conv_pwl): Conv2d(1152, 192, kernel_size=(1, 1), stride=(1, 1), bias=False)\n",
       "          (bn3): BatchNormAct2d(\n",
       "            192, eps=0.001, momentum=0.1, affine=True, track_running_stats=True\n",
       "            (drop): Identity()\n",
       "            (act): Identity()\n",
       "          )\n",
       "          (drop_path): Identity()\n",
       "        )\n",
       "        (3): InvertedResidual(\n",
       "          (conv_pw): Conv2d(192, 1152, kernel_size=(1, 1), stride=(1, 1), bias=False)\n",
       "          (bn1): BatchNormAct2d(\n",
       "            1152, eps=0.001, momentum=0.1, affine=True, track_running_stats=True\n",
       "            (drop): Identity()\n",
       "            (act): SiLU(inplace=True)\n",
       "          )\n",
       "          (conv_dw): Conv2d(1152, 1152, kernel_size=(3, 3), stride=(1, 1), padding=(1, 1), groups=1152, bias=False)\n",
       "          (bn2): BatchNormAct2d(\n",
       "            1152, eps=0.001, momentum=0.1, affine=True, track_running_stats=True\n",
       "            (drop): Identity()\n",
       "            (act): SiLU(inplace=True)\n",
       "          )\n",
       "          (se): SqueezeExcite(\n",
       "            (conv_reduce): Conv2d(1152, 48, kernel_size=(1, 1), stride=(1, 1))\n",
       "            (act1): SiLU(inplace=True)\n",
       "            (conv_expand): Conv2d(48, 1152, kernel_size=(1, 1), stride=(1, 1))\n",
       "            (gate): Sigmoid()\n",
       "          )\n",
       "          (conv_pwl): Conv2d(1152, 192, kernel_size=(1, 1), stride=(1, 1), bias=False)\n",
       "          (bn3): BatchNormAct2d(\n",
       "            192, eps=0.001, momentum=0.1, affine=True, track_running_stats=True\n",
       "            (drop): Identity()\n",
       "            (act): Identity()\n",
       "          )\n",
       "          (drop_path): Identity()\n",
       "        )\n",
       "        (4): InvertedResidual(\n",
       "          (conv_pw): Conv2d(192, 1152, kernel_size=(1, 1), stride=(1, 1), bias=False)\n",
       "          (bn1): BatchNormAct2d(\n",
       "            1152, eps=0.001, momentum=0.1, affine=True, track_running_stats=True\n",
       "            (drop): Identity()\n",
       "            (act): SiLU(inplace=True)\n",
       "          )\n",
       "          (conv_dw): Conv2d(1152, 1152, kernel_size=(3, 3), stride=(1, 1), padding=(1, 1), groups=1152, bias=False)\n",
       "          (bn2): BatchNormAct2d(\n",
       "            1152, eps=0.001, momentum=0.1, affine=True, track_running_stats=True\n",
       "            (drop): Identity()\n",
       "            (act): SiLU(inplace=True)\n",
       "          )\n",
       "          (se): SqueezeExcite(\n",
       "            (conv_reduce): Conv2d(1152, 48, kernel_size=(1, 1), stride=(1, 1))\n",
       "            (act1): SiLU(inplace=True)\n",
       "            (conv_expand): Conv2d(48, 1152, kernel_size=(1, 1), stride=(1, 1))\n",
       "            (gate): Sigmoid()\n",
       "          )\n",
       "          (conv_pwl): Conv2d(1152, 192, kernel_size=(1, 1), stride=(1, 1), bias=False)\n",
       "          (bn3): BatchNormAct2d(\n",
       "            192, eps=0.001, momentum=0.1, affine=True, track_running_stats=True\n",
       "            (drop): Identity()\n",
       "            (act): Identity()\n",
       "          )\n",
       "          (drop_path): Identity()\n",
       "        )\n",
       "        (5): InvertedResidual(\n",
       "          (conv_pw): Conv2d(192, 1152, kernel_size=(1, 1), stride=(1, 1), bias=False)\n",
       "          (bn1): BatchNormAct2d(\n",
       "            1152, eps=0.001, momentum=0.1, affine=True, track_running_stats=True\n",
       "            (drop): Identity()\n",
       "            (act): SiLU(inplace=True)\n",
       "          )\n",
       "          (conv_dw): Conv2d(1152, 1152, kernel_size=(3, 3), stride=(1, 1), padding=(1, 1), groups=1152, bias=False)\n",
       "          (bn2): BatchNormAct2d(\n",
       "            1152, eps=0.001, momentum=0.1, affine=True, track_running_stats=True\n",
       "            (drop): Identity()\n",
       "            (act): SiLU(inplace=True)\n",
       "          )\n",
       "          (se): SqueezeExcite(\n",
       "            (conv_reduce): Conv2d(1152, 48, kernel_size=(1, 1), stride=(1, 1))\n",
       "            (act1): SiLU(inplace=True)\n",
       "            (conv_expand): Conv2d(48, 1152, kernel_size=(1, 1), stride=(1, 1))\n",
       "            (gate): Sigmoid()\n",
       "          )\n",
       "          (conv_pwl): Conv2d(1152, 192, kernel_size=(1, 1), stride=(1, 1), bias=False)\n",
       "          (bn3): BatchNormAct2d(\n",
       "            192, eps=0.001, momentum=0.1, affine=True, track_running_stats=True\n",
       "            (drop): Identity()\n",
       "            (act): Identity()\n",
       "          )\n",
       "          (drop_path): Identity()\n",
       "        )\n",
       "        (6): InvertedResidual(\n",
       "          (conv_pw): Conv2d(192, 1152, kernel_size=(1, 1), stride=(1, 1), bias=False)\n",
       "          (bn1): BatchNormAct2d(\n",
       "            1152, eps=0.001, momentum=0.1, affine=True, track_running_stats=True\n",
       "            (drop): Identity()\n",
       "            (act): SiLU(inplace=True)\n",
       "          )\n",
       "          (conv_dw): Conv2d(1152, 1152, kernel_size=(3, 3), stride=(1, 1), padding=(1, 1), groups=1152, bias=False)\n",
       "          (bn2): BatchNormAct2d(\n",
       "            1152, eps=0.001, momentum=0.1, affine=True, track_running_stats=True\n",
       "            (drop): Identity()\n",
       "            (act): SiLU(inplace=True)\n",
       "          )\n",
       "          (se): SqueezeExcite(\n",
       "            (conv_reduce): Conv2d(1152, 48, kernel_size=(1, 1), stride=(1, 1))\n",
       "            (act1): SiLU(inplace=True)\n",
       "            (conv_expand): Conv2d(48, 1152, kernel_size=(1, 1), stride=(1, 1))\n",
       "            (gate): Sigmoid()\n",
       "          )\n",
       "          (conv_pwl): Conv2d(1152, 192, kernel_size=(1, 1), stride=(1, 1), bias=False)\n",
       "          (bn3): BatchNormAct2d(\n",
       "            192, eps=0.001, momentum=0.1, affine=True, track_running_stats=True\n",
       "            (drop): Identity()\n",
       "            (act): Identity()\n",
       "          )\n",
       "          (drop_path): Identity()\n",
       "        )\n",
       "        (7): InvertedResidual(\n",
       "          (conv_pw): Conv2d(192, 1152, kernel_size=(1, 1), stride=(1, 1), bias=False)\n",
       "          (bn1): BatchNormAct2d(\n",
       "            1152, eps=0.001, momentum=0.1, affine=True, track_running_stats=True\n",
       "            (drop): Identity()\n",
       "            (act): SiLU(inplace=True)\n",
       "          )\n",
       "          (conv_dw): Conv2d(1152, 1152, kernel_size=(3, 3), stride=(1, 1), padding=(1, 1), groups=1152, bias=False)\n",
       "          (bn2): BatchNormAct2d(\n",
       "            1152, eps=0.001, momentum=0.1, affine=True, track_running_stats=True\n",
       "            (drop): Identity()\n",
       "            (act): SiLU(inplace=True)\n",
       "          )\n",
       "          (se): SqueezeExcite(\n",
       "            (conv_reduce): Conv2d(1152, 48, kernel_size=(1, 1), stride=(1, 1))\n",
       "            (act1): SiLU(inplace=True)\n",
       "            (conv_expand): Conv2d(48, 1152, kernel_size=(1, 1), stride=(1, 1))\n",
       "            (gate): Sigmoid()\n",
       "          )\n",
       "          (conv_pwl): Conv2d(1152, 192, kernel_size=(1, 1), stride=(1, 1), bias=False)\n",
       "          (bn3): BatchNormAct2d(\n",
       "            192, eps=0.001, momentum=0.1, affine=True, track_running_stats=True\n",
       "            (drop): Identity()\n",
       "            (act): Identity()\n",
       "          )\n",
       "          (drop_path): Identity()\n",
       "        )\n",
       "      )\n",
       "    )\n",
       "    (conv_head): Conv2d(192, 1280, kernel_size=(1, 1), stride=(1, 1), bias=False)\n",
       "    (bn2): BatchNormAct2d(\n",
       "      1280, eps=0.001, momentum=0.1, affine=True, track_running_stats=True\n",
       "      (drop): Identity()\n",
       "      (act): SiLU(inplace=True)\n",
       "    )\n",
       "    (global_pool): SelectAdaptivePool2d(pool_type=avg, flatten=Flatten(start_dim=1, end_dim=-1))\n",
       "    (classifier): Linear(in_features=1280, out_features=512, bias=True)\n",
       "  )\n",
       ")"
      ]
     },
     "execution_count": 28,
     "metadata": {},
     "output_type": "execute_result"
    }
   ],
   "source": [
    "model = APN_Model_Pretrained()\n",
    "\n",
    "# per processare le immagini in scala di grigi per fare fourier serve una CNN 2D\n",
    "if mode == \"grey_scale\":\n",
    "    model.efficientnet.conv_stem = nn.Conv2d(1, 32, 3, 2, 1, bias=False)\n",
    "\n",
    "model.to(DEVICE)"
   ]
  },
  {
   "cell_type": "code",
   "execution_count": 29,
   "id": "28f6fa06-7584-4e35-844b-a1831a13c172",
   "metadata": {
    "ExecuteTime": {
     "end_time": "2024-06-08T15:04:43.114575Z",
     "start_time": "2024-06-08T15:04:43.019556Z"
    },
    "id": "28f6fa06-7584-4e35-844b-a1831a13c172",
    "tags": []
   },
   "outputs": [],
   "source": [
    "# funzione di train\n",
    "def train_fn(model, dataloader, optimizer, criterion):\n",
    "  model.train()\n",
    "  # on dropout \n",
    "  total_loss = 0.0\n",
    "\n",
    "  for A, P, N in tqdm(dataloader, desc=\"model training...\"):\n",
    "    A, P, N = A.to(DEVICE), P.to(DEVICE), N.to(DEVICE)\n",
    "\n",
    "    # qui vengono creati gli embeddings, le cui distanze verranno calcolate dopo\n",
    "    A_embs = model(A)\n",
    "    P_embs = model(P)\n",
    "    N_embs = model(N)\n",
    "\n",
    "    # criterion è la funzione di loss triplet\n",
    "    loss = criterion(A_embs, P_embs, N_embs)\n",
    "\n",
    "    optimizer.zero_grad()\n",
    "    loss.backward()\n",
    "    optimizer.step()\n",
    "\n",
    "    total_loss += loss.item()\n",
    "\n",
    "  return total_loss / len(dataloader)\n"
   ]
  },
  {
   "cell_type": "code",
   "execution_count": 30,
   "id": "19ec6d56-9168-4980-9164-62660537f1ff",
   "metadata": {
    "ExecuteTime": {
     "end_time": "2024-06-08T15:04:43.208654Z",
     "start_time": "2024-06-08T15:04:43.115557Z"
    },
    "id": "19ec6d56-9168-4980-9164-62660537f1ff",
    "tags": []
   },
   "outputs": [],
   "source": [
    "# funzione di evaluation\n",
    "def eval_fn(model, dataloader, criterion):\n",
    "  model.eval() \n",
    "  # off dropout\n",
    "  total_loss = 0.0\n",
    "\n",
    "  with torch.no_grad():\n",
    "    for A, P, N in tqdm(dataloader, desc=\"model validating...\"):\n",
    "      A, P, N = A.to(DEVICE), P.to(DEVICE), N.to(DEVICE)\n",
    "\n",
    "      A_embs = model(A)\n",
    "      P_embs = model(P)\n",
    "      N_embs = model(N)\n",
    "\n",
    "      loss = criterion(A_embs, P_embs, N_embs)\n",
    "\n",
    "      total_loss += loss.item()\n",
    "\n",
    "  return total_loss / len(dataloader)"
   ]
  },
  {
   "cell_type": "code",
   "execution_count": 31,
   "id": "f270e395-4b3f-4907-8ae7-a33043da0f80",
   "metadata": {
    "ExecuteTime": {
     "end_time": "2024-06-08T15:04:43.319558Z",
     "start_time": "2024-06-08T15:04:43.209597Z"
    },
    "id": "f270e395-4b3f-4907-8ae7-a33043da0f80",
    "tags": []
   },
   "outputs": [],
   "source": [
    "# triplet loss e adam\n",
    "criterion = nn.TripletMarginLoss()\n",
    "optimizer = torch.optim.Adam(model.parameters(), lr=LR)"
   ]
  },
  {
   "cell_type": "code",
   "execution_count": 32,
   "id": "ac5b64b5-d28c-47bc-bbbf-acd4960e34ef",
   "metadata": {
    "ExecuteTime": {
     "end_time": "2024-06-09T02:44:55.248726Z",
     "start_time": "2024-06-08T15:04:43.320558Z"
    },
    "id": "ac5b64b5-d28c-47bc-bbbf-acd4960e34ef",
    "tags": []
   },
   "outputs": [
    {
     "name": "stderr",
     "output_type": "stream",
     "text": [
      "model training...: 100%|██████████| 68/68 [03:16<00:00,  2.89s/it]\n",
      "model validating...: 100%|██████████| 17/17 [00:09<00:00,  1.80it/s]\n"
     ]
    },
    {
     "name": "stdout",
     "output_type": "stream",
     "text": [
      "successful weights saving...\n",
      "epochs: 1, train_loss: 0.23822624280172236, valid_loss: 0.13832818497629726\n"
     ]
    },
    {
     "name": "stderr",
     "output_type": "stream",
     "text": [
      "model training...: 100%|██████████| 68/68 [02:59<00:00,  2.64s/it]\n",
      "model validating...: 100%|██████████| 17/17 [00:09<00:00,  1.77it/s]\n"
     ]
    },
    {
     "name": "stdout",
     "output_type": "stream",
     "text": [
      "successful weights saving...\n",
      "epochs: 2, train_loss: 0.08840111873167403, valid_loss: 0.0935175515273038\n"
     ]
    },
    {
     "name": "stderr",
     "output_type": "stream",
     "text": [
      "model training...: 100%|██████████| 68/68 [03:00<00:00,  2.65s/it]\n",
      "model validating...: 100%|██████████| 17/17 [00:09<00:00,  1.76it/s]\n"
     ]
    },
    {
     "name": "stdout",
     "output_type": "stream",
     "text": [
      "epochs: 3, train_loss: 0.06849930276546408, valid_loss: 0.11015649753458359\n"
     ]
    },
    {
     "name": "stderr",
     "output_type": "stream",
     "text": [
      "model training...: 100%|██████████| 68/68 [03:00<00:00,  2.65s/it]\n",
      "model validating...: 100%|██████████| 17/17 [00:10<00:00,  1.69it/s]\n"
     ]
    },
    {
     "name": "stdout",
     "output_type": "stream",
     "text": [
      "successful weights saving...\n",
      "epochs: 4, train_loss: 0.0508477703175124, valid_loss: 0.047003205208217394\n"
     ]
    },
    {
     "name": "stderr",
     "output_type": "stream",
     "text": [
      "model training...: 100%|██████████| 68/68 [02:57<00:00,  2.60s/it]\n",
      "model validating...: 100%|██████████| 17/17 [00:08<00:00,  2.06it/s]\n"
     ]
    },
    {
     "name": "stdout",
     "output_type": "stream",
     "text": [
      "successful weights saving...\n",
      "epochs: 5, train_loss: 0.033700328922885305, valid_loss: 0.041062184992958516\n"
     ]
    },
    {
     "name": "stderr",
     "output_type": "stream",
     "text": [
      "model training...: 100%|██████████| 68/68 [02:53<00:00,  2.55s/it]\n",
      "model validating...: 100%|██████████| 17/17 [00:07<00:00,  2.13it/s]\n"
     ]
    },
    {
     "name": "stdout",
     "output_type": "stream",
     "text": [
      "successful weights saving...\n",
      "epochs: 6, train_loss: 0.011913102120161057, valid_loss: 0.02349099955138038\n"
     ]
    },
    {
     "name": "stderr",
     "output_type": "stream",
     "text": [
      "model training...: 100%|██████████| 68/68 [02:54<00:00,  2.57s/it]\n",
      "model validating...: 100%|██████████| 17/17 [00:08<00:00,  2.07it/s]\n"
     ]
    },
    {
     "name": "stdout",
     "output_type": "stream",
     "text": [
      "epochs: 7, train_loss: 0.0074254708255038545, valid_loss: 0.06252425207811244\n"
     ]
    },
    {
     "name": "stderr",
     "output_type": "stream",
     "text": [
      "model training...: 100%|██████████| 68/68 [03:05<00:00,  2.73s/it]\n",
      "model validating...: 100%|██████████| 17/17 [00:08<00:00,  1.97it/s]\n"
     ]
    },
    {
     "name": "stdout",
     "output_type": "stream",
     "text": [
      "epochs: 8, train_loss: 0.013475368347238092, valid_loss: 0.07253725059768733\n"
     ]
    },
    {
     "name": "stderr",
     "output_type": "stream",
     "text": [
      "model training...: 100%|██████████| 68/68 [02:53<00:00,  2.56s/it]\n",
      "model validating...: 100%|██████████| 17/17 [00:08<00:00,  2.05it/s]\n"
     ]
    },
    {
     "name": "stdout",
     "output_type": "stream",
     "text": [
      "epochs: 9, train_loss: 0.012473091921385597, valid_loss: 0.046719040940789616\n"
     ]
    },
    {
     "name": "stderr",
     "output_type": "stream",
     "text": [
      "model training...: 100%|██████████| 68/68 [02:56<00:00,  2.59s/it]\n",
      "model validating...: 100%|██████████| 17/17 [00:08<00:00,  2.02it/s]\n"
     ]
    },
    {
     "name": "stdout",
     "output_type": "stream",
     "text": [
      "epochs: 10, train_loss: 0.00455064803142758, valid_loss: 0.07097218492451836\n"
     ]
    },
    {
     "name": "stderr",
     "output_type": "stream",
     "text": [
      "model training...: 100%|██████████| 68/68 [02:55<00:00,  2.58s/it]\n",
      "model validating...: 100%|██████████| 17/17 [00:08<00:00,  2.09it/s]\n"
     ]
    },
    {
     "name": "stdout",
     "output_type": "stream",
     "text": [
      "epochs: 11, train_loss: 0.002696370377260096, valid_loss: 0.04466524457230287\n"
     ]
    },
    {
     "name": "stderr",
     "output_type": "stream",
     "text": [
      "model training...: 100%|██████████| 68/68 [02:51<00:00,  2.52s/it]\n",
      "model validating...: 100%|██████████| 17/17 [00:07<00:00,  2.15it/s]\n"
     ]
    },
    {
     "name": "stdout",
     "output_type": "stream",
     "text": [
      "epochs: 12, train_loss: 0.0005946098005070406, valid_loss: 0.044672844164511734\n"
     ]
    },
    {
     "name": "stderr",
     "output_type": "stream",
     "text": [
      "model training...: 100%|██████████| 68/68 [02:47<00:00,  2.46s/it]\n",
      "model validating...: 100%|██████████| 17/17 [00:07<00:00,  2.27it/s]\n"
     ]
    },
    {
     "name": "stdout",
     "output_type": "stream",
     "text": [
      "epochs: 13, train_loss: 0.025599682155777428, valid_loss: 0.0870343293337261\n"
     ]
    },
    {
     "name": "stderr",
     "output_type": "stream",
     "text": [
      "model training...: 100%|██████████| 68/68 [02:47<00:00,  2.46s/it]\n",
      "model validating...: 100%|██████████| 17/17 [00:07<00:00,  2.19it/s]\n"
     ]
    },
    {
     "name": "stdout",
     "output_type": "stream",
     "text": [
      "epochs: 14, train_loss: 0.04370073152377325, valid_loss: 0.05344848510097055\n"
     ]
    },
    {
     "name": "stderr",
     "output_type": "stream",
     "text": [
      "model training...: 100%|██████████| 68/68 [02:48<00:00,  2.48s/it]\n",
      "model validating...: 100%|██████████| 17/17 [00:08<00:00,  2.06it/s]\n"
     ]
    },
    {
     "name": "stdout",
     "output_type": "stream",
     "text": [
      "epochs: 15, train_loss: 0.015949124908622575, valid_loss: 0.07075810870703529\n"
     ]
    },
    {
     "name": "stderr",
     "output_type": "stream",
     "text": [
      "model training...: 100%|██████████| 68/68 [02:47<00:00,  2.46s/it]\n",
      "model validating...: 100%|██████████| 17/17 [00:07<00:00,  2.32it/s]\n"
     ]
    },
    {
     "name": "stdout",
     "output_type": "stream",
     "text": [
      "epochs: 16, train_loss: 0.01582848751807914, valid_loss: 0.034458935260772705\n"
     ]
    },
    {
     "name": "stderr",
     "output_type": "stream",
     "text": [
      "model training...: 100%|██████████| 68/68 [02:46<00:00,  2.44s/it]\n",
      "model validating...: 100%|██████████| 17/17 [00:07<00:00,  2.18it/s]\n"
     ]
    },
    {
     "name": "stdout",
     "output_type": "stream",
     "text": [
      "epochs: 17, train_loss: 0.031702494796584636, valid_loss: 0.11868320241132203\n"
     ]
    },
    {
     "name": "stderr",
     "output_type": "stream",
     "text": [
      "model training...: 100%|██████████| 68/68 [02:47<00:00,  2.47s/it]\n",
      "model validating...: 100%|██████████| 17/17 [00:07<00:00,  2.16it/s]\n"
     ]
    },
    {
     "name": "stdout",
     "output_type": "stream",
     "text": [
      "epochs: 18, train_loss: 0.14613071040195577, valid_loss: 0.10224803098860909\n"
     ]
    },
    {
     "name": "stderr",
     "output_type": "stream",
     "text": [
      "model training...: 100%|██████████| 68/68 [02:47<00:00,  2.46s/it]\n",
      "model validating...: 100%|██████████| 17/17 [00:07<00:00,  2.27it/s]\n"
     ]
    },
    {
     "name": "stdout",
     "output_type": "stream",
     "text": [
      "epochs: 19, train_loss: 0.04299162404940409, valid_loss: 0.06679476841407664\n"
     ]
    },
    {
     "name": "stderr",
     "output_type": "stream",
     "text": [
      "model training...: 100%|██████████| 68/68 [02:49<00:00,  2.49s/it]\n",
      "model validating...: 100%|██████████| 17/17 [00:08<00:00,  2.04it/s]\n"
     ]
    },
    {
     "name": "stdout",
     "output_type": "stream",
     "text": [
      "epochs: 20, train_loss: 0.008949402610168737, valid_loss: 0.03661217189886991\n"
     ]
    },
    {
     "name": "stderr",
     "output_type": "stream",
     "text": [
      "model training...: 100%|██████████| 68/68 [02:49<00:00,  2.49s/it]\n",
      "model validating...: 100%|██████████| 17/17 [00:07<00:00,  2.24it/s]\n"
     ]
    },
    {
     "name": "stdout",
     "output_type": "stream",
     "text": [
      "epochs: 21, train_loss: 0.036486981546177584, valid_loss: 0.039481901508920336\n"
     ]
    },
    {
     "name": "stderr",
     "output_type": "stream",
     "text": [
      "model training...: 100%|██████████| 68/68 [02:49<00:00,  2.49s/it]\n",
      "model validating...: 100%|██████████| 17/17 [00:07<00:00,  2.19it/s]\n"
     ]
    },
    {
     "name": "stdout",
     "output_type": "stream",
     "text": [
      "epochs: 22, train_loss: 0.09379906711332939, valid_loss: 0.056609368499587566\n"
     ]
    },
    {
     "name": "stderr",
     "output_type": "stream",
     "text": [
      "model training...: 100%|██████████| 68/68 [02:45<00:00,  2.43s/it]\n",
      "model validating...: 100%|██████████| 17/17 [00:07<00:00,  2.22it/s]\n"
     ]
    },
    {
     "name": "stdout",
     "output_type": "stream",
     "text": [
      "epochs: 23, train_loss: 0.021328318535405046, valid_loss: 0.07711079760509379\n"
     ]
    },
    {
     "name": "stderr",
     "output_type": "stream",
     "text": [
      "model training...: 100%|██████████| 68/68 [02:44<00:00,  2.42s/it]\n",
      "model validating...: 100%|██████████| 17/17 [00:07<00:00,  2.21it/s]\n"
     ]
    },
    {
     "name": "stdout",
     "output_type": "stream",
     "text": [
      "epochs: 24, train_loss: 0.00662827497238622, valid_loss: 0.04250021804781521\n"
     ]
    },
    {
     "name": "stderr",
     "output_type": "stream",
     "text": [
      "model training...: 100%|██████████| 68/68 [02:45<00:00,  2.44s/it]\n",
      "model validating...: 100%|██████████| 17/17 [00:07<00:00,  2.22it/s]\n"
     ]
    },
    {
     "name": "stdout",
     "output_type": "stream",
     "text": [
      "epochs: 25, train_loss: 0.007869903984315255, valid_loss: 0.029098572099910062\n"
     ]
    },
    {
     "name": "stderr",
     "output_type": "stream",
     "text": [
      "model training...: 100%|██████████| 68/68 [02:43<00:00,  2.41s/it]\n",
      "model validating...: 100%|██████████| 17/17 [00:07<00:00,  2.19it/s]\n"
     ]
    },
    {
     "name": "stdout",
     "output_type": "stream",
     "text": [
      "epochs: 26, train_loss: 0.0015876326052581564, valid_loss: 0.049450216924442965\n"
     ]
    },
    {
     "name": "stderr",
     "output_type": "stream",
     "text": [
      "model training...: 100%|██████████| 68/68 [02:44<00:00,  2.43s/it]\n",
      "model validating...: 100%|██████████| 17/17 [00:07<00:00,  2.23it/s]\n"
     ]
    },
    {
     "name": "stdout",
     "output_type": "stream",
     "text": [
      "epochs: 27, train_loss: 0.0017374434015330147, valid_loss: 0.03198846955509747\n"
     ]
    },
    {
     "name": "stderr",
     "output_type": "stream",
     "text": [
      "model training...: 100%|██████████| 68/68 [02:45<00:00,  2.44s/it]\n",
      "model validating...: 100%|██████████| 17/17 [00:07<00:00,  2.23it/s]\n"
     ]
    },
    {
     "name": "stdout",
     "output_type": "stream",
     "text": [
      "epochs: 28, train_loss: 0.0002953403574578902, valid_loss: 0.03759784558240105\n"
     ]
    },
    {
     "name": "stderr",
     "output_type": "stream",
     "text": [
      "model training...: 100%|██████████| 68/68 [02:45<00:00,  2.44s/it]\n",
      "model validating...: 100%|██████████| 17/17 [00:07<00:00,  2.30it/s]\n"
     ]
    },
    {
     "name": "stdout",
     "output_type": "stream",
     "text": [
      "epochs: 29, train_loss: 0.0035431825501077317, valid_loss: 0.0350495936239467\n"
     ]
    },
    {
     "name": "stderr",
     "output_type": "stream",
     "text": [
      "model training...: 100%|██████████| 68/68 [02:45<00:00,  2.43s/it]\n",
      "model validating...: 100%|██████████| 17/17 [00:07<00:00,  2.21it/s]"
     ]
    },
    {
     "name": "stdout",
     "output_type": "stream",
     "text": [
      "epochs: 30, train_loss: 0.0013796187498990226, valid_loss: 0.04213564886766322\n"
     ]
    },
    {
     "name": "stderr",
     "output_type": "stream",
     "text": [
      "\n"
     ]
    }
   ],
   "source": [
    "# training\n",
    "best_valid_loss = np.Inf\n",
    "\n",
    "training_epoch_loss = []\n",
    "validation_epoch_loss = []\n",
    "\n",
    "\n",
    "for i in range(EPOCHS):\n",
    "  train_loss = train_fn(model, trainloader, optimizer, criterion)\n",
    "  valid_loss = eval_fn(model, validloader, criterion)\n",
    "\n",
    "  training_epoch_loss.append(train_loss)\n",
    "  validation_epoch_loss.append(valid_loss)\n",
    "\n",
    "  if valid_loss < best_valid_loss:\n",
    "    torch.save(model.state_dict(), \"best_model.pt\")\n",
    "    best_valid_loss = valid_loss\n",
    "    print(\"successful weights saving...\")\n",
    "\n",
    "  print(f\"epochs: {i+1}, train_loss: {train_loss}, valid_loss: {valid_loss}\")"
   ]
  },
  {
   "cell_type": "code",
   "execution_count": 33,
   "id": "9ca40d35",
   "metadata": {
    "ExecuteTime": {
     "end_time": "2024-06-09T02:44:55.564823Z",
     "start_time": "2024-06-09T02:44:55.249726Z"
    }
   },
   "outputs": [
    {
     "data": {
      "text/plain": [
       "<function matplotlib.pyplot.show(close=None, block=None)>"
      ]
     },
     "execution_count": 33,
     "metadata": {},
     "output_type": "execute_result"
    },
    {
     "data": {
      "image/png": "[encoded data removed]",
      "text/plain": [
       "<Figure size 640x480 with 1 Axes>"
      ]
     },
     "metadata": {},
     "output_type": "display_data"
    }
   ],
   "source": [
    "# plot della training e validation loss\n",
    "plt.plot(training_epoch_loss, label=\"train_loss\")\n",
    "plt.plot(validation_epoch_loss, label=\"val_loss\")\n",
    "plt.legend()\n",
    "\n",
    "plt.show"
   ]
  },
  {
   "cell_type": "code",
   "execution_count": 34,
   "id": "9fe76305-8f2d-4159-a8e0-a57cb85b525e",
   "metadata": {
    "ExecuteTime": {
     "end_time": "2024-06-09T02:44:55.660823Z",
     "start_time": "2024-06-09T02:44:55.565808Z"
    },
    "id": "9fe76305-8f2d-4159-a8e0-a57cb85b525e",
    "tags": []
   },
   "outputs": [],
   "source": [
    "# funzione per generare i vettori di encoding\n",
    "def get_encoding_csv(model, anc_img_names, dirFolder):\n",
    "  anc_img_names_arr = np.array(anc_img_names)\n",
    "  encodings = []\n",
    "\n",
    "  model.eval()\n",
    "\n",
    "  with torch.no_grad():\n",
    "    for i in tqdm(anc_img_names_arr):\n",
    "\n",
    "      if mode == \"rgb\":\n",
    "        # serve per trovare correttamente l'immagine\n",
    "        if \"big\" in i:\n",
    "          dirFolder = fake_data_dir\n",
    "          A = io.imread(os.path.join(dirFolder,i))\n",
    "        else: \n",
    "          dirFolder = real_data_dir\n",
    "          A = io.imread(os.path.join(dirFolder,i))\n",
    "\n",
    "        A = torch.from_numpy(A).permute(2, 0, 1) / 255.0\n",
    "      \n",
    "      if mode == \"grey_scale\":\n",
    "        A = io.imread(os.path.join(dirFolder,i))\n",
    "\n",
    "        A = np.expand_dims(A, 0)\n",
    "        A = torch.from_numpy(A.astype(np.int32)) / 255.0\n",
    "        \n",
    "      A = A.to(DEVICE)\n",
    "      A_enc = model(A.unsqueeze(0))\n",
    "      encodings.append(A_enc.squeeze().cpu().detach().numpy())\n",
    "\n",
    "    encodings = np.array(encodings)\n",
    "    encodings = pd.DataFrame(encodings)\n",
    "    df_enc = pd.concat([anc_img_names, encodings], axis = 1)\n",
    "\n",
    "    return df_enc"
   ]
  },
  {
   "cell_type": "code",
   "execution_count": 35,
   "id": "087c6f6f-3d8d-437f-ab31-ce2c3a1c239c",
   "metadata": {
    "ExecuteTime": {
     "end_time": "2024-06-09T02:53:26.120732Z",
     "start_time": "2024-06-09T02:44:55.661808Z"
    },
    "id": "087c6f6f-3d8d-437f-ab31-ce2c3a1c239c",
    "outputId": "10e29b3a-1d0f-41bb-e9a2-21aec49dac69",
    "tags": []
   },
   "outputs": [
    {
     "name": "stderr",
     "output_type": "stream",
     "text": [
      "100%|██████████| 2688/2688 [00:35<00:00, 75.59it/s]\n"
     ]
    }
   ],
   "source": [
    "# per ricaricare il modello una volta allenato\n",
    "model.load_state_dict(torch.load(\"best_model.pt\"))\n",
    "\n",
    "# si creano gli embeddings che vengono memorizzati per non rifarlo ad ogni allenamento\n",
    "df_enc = get_encoding_csv(model, df[\"Anchor\"], real_data_dir)\n",
    "\n",
    "df_enc.to_csv(\"database.csv\", index=False)"
   ]
  },
  {
   "cell_type": "code",
   "execution_count": 36,
   "id": "5a1096d8-a3dc-46bd-bb54-ed3debea3c57",
   "metadata": {
    "ExecuteTime": {
     "end_time": "2024-06-09T02:53:27.571058Z",
     "start_time": "2024-06-09T02:53:26.121581Z"
    },
    "id": "5a1096d8-a3dc-46bd-bb54-ed3debea3c57",
    "outputId": "171dab62-2058-470c-9abf-5ea9495da9b0",
    "tags": []
   },
   "outputs": [
    {
     "data": {
      "text/html": [
       "<div>\n",
       "<style scoped>\n",
       "    .dataframe tbody tr th:only-of-type {\n",
       "        vertical-align: middle;\n",
       "    }\n",
       "\n",
       "    .dataframe tbody tr th {\n",
       "        vertical-align: top;\n",
       "    }\n",
       "\n",
       "    .dataframe thead th {\n",
       "        text-align: right;\n",
       "    }\n",
       "</style>\n",
       "<table border=\"1\" class=\"dataframe\">\n",
       "  <thead>\n",
       "    <tr style=\"text-align: right;\">\n",
       "      <th></th>\n",
       "      <th>Anchor</th>\n",
       "      <th>0</th>\n",
       "      <th>1</th>\n",
       "      <th>2</th>\n",
       "      <th>3</th>\n",
       "      <th>4</th>\n",
       "      <th>5</th>\n",
       "      <th>6</th>\n",
       "      <th>7</th>\n",
       "      <th>8</th>\n",
       "      <th>...</th>\n",
       "      <th>502</th>\n",
       "      <th>503</th>\n",
       "      <th>504</th>\n",
       "      <th>505</th>\n",
       "      <th>506</th>\n",
       "      <th>507</th>\n",
       "      <th>508</th>\n",
       "      <th>509</th>\n",
       "      <th>510</th>\n",
       "      <th>511</th>\n",
       "    </tr>\n",
       "  </thead>\n",
       "  <tbody>\n",
       "    <tr>\n",
       "      <th>0</th>\n",
       "      <td>coco/coco2017/train2017/img068940.jpg</td>\n",
       "      <td>-0.307798</td>\n",
       "      <td>-0.508969</td>\n",
       "      <td>0.926195</td>\n",
       "      <td>0.490313</td>\n",
       "      <td>-0.118310</td>\n",
       "      <td>0.543902</td>\n",
       "      <td>-0.299149</td>\n",
       "      <td>0.074082</td>\n",
       "      <td>-0.357804</td>\n",
       "      <td>...</td>\n",
       "      <td>0.713038</td>\n",
       "      <td>0.191845</td>\n",
       "      <td>-0.056985</td>\n",
       "      <td>0.112550</td>\n",
       "      <td>-0.610529</td>\n",
       "      <td>0.458800</td>\n",
       "      <td>0.197625</td>\n",
       "      <td>-0.475235</td>\n",
       "      <td>0.078249</td>\n",
       "      <td>-0.610605</td>\n",
       "    </tr>\n",
       "    <tr>\n",
       "      <th>1</th>\n",
       "      <td>big/biggan-data/854/img008397.jpg</td>\n",
       "      <td>0.003333</td>\n",
       "      <td>0.102581</td>\n",
       "      <td>0.077881</td>\n",
       "      <td>-0.084205</td>\n",
       "      <td>-0.661067</td>\n",
       "      <td>0.211122</td>\n",
       "      <td>-0.200058</td>\n",
       "      <td>-0.370851</td>\n",
       "      <td>-0.201713</td>\n",
       "      <td>...</td>\n",
       "      <td>0.198750</td>\n",
       "      <td>0.092547</td>\n",
       "      <td>-0.088540</td>\n",
       "      <td>0.090101</td>\n",
       "      <td>-0.325066</td>\n",
       "      <td>-0.235187</td>\n",
       "      <td>0.116681</td>\n",
       "      <td>0.083902</td>\n",
       "      <td>-0.021767</td>\n",
       "      <td>-0.593111</td>\n",
       "    </tr>\n",
       "    <tr>\n",
       "      <th>2</th>\n",
       "      <td>big/biggan-data/430/img003691.jpg</td>\n",
       "      <td>0.076727</td>\n",
       "      <td>0.022923</td>\n",
       "      <td>0.108149</td>\n",
       "      <td>-0.023014</td>\n",
       "      <td>-0.563118</td>\n",
       "      <td>0.242393</td>\n",
       "      <td>-0.241181</td>\n",
       "      <td>-0.315605</td>\n",
       "      <td>-0.188148</td>\n",
       "      <td>...</td>\n",
       "      <td>0.326242</td>\n",
       "      <td>0.122648</td>\n",
       "      <td>-0.080003</td>\n",
       "      <td>0.130744</td>\n",
       "      <td>-0.432383</td>\n",
       "      <td>-0.197485</td>\n",
       "      <td>0.221017</td>\n",
       "      <td>0.012781</td>\n",
       "      <td>-0.018262</td>\n",
       "      <td>-0.623360</td>\n",
       "    </tr>\n",
       "    <tr>\n",
       "      <th>3</th>\n",
       "      <td>big/biggan-data/202/img001166.jpg</td>\n",
       "      <td>0.077418</td>\n",
       "      <td>-0.008830</td>\n",
       "      <td>0.159454</td>\n",
       "      <td>0.008534</td>\n",
       "      <td>-0.493143</td>\n",
       "      <td>0.206487</td>\n",
       "      <td>-0.139443</td>\n",
       "      <td>-0.194636</td>\n",
       "      <td>-0.136551</td>\n",
       "      <td>...</td>\n",
       "      <td>0.340707</td>\n",
       "      <td>0.103308</td>\n",
       "      <td>-0.107604</td>\n",
       "      <td>0.083041</td>\n",
       "      <td>-0.417312</td>\n",
       "      <td>-0.076395</td>\n",
       "      <td>0.127017</td>\n",
       "      <td>-0.127815</td>\n",
       "      <td>-0.014595</td>\n",
       "      <td>-0.598420</td>\n",
       "    </tr>\n",
       "    <tr>\n",
       "      <th>4</th>\n",
       "      <td>coco/coco2017/train2017/img120939.jpg</td>\n",
       "      <td>-0.219276</td>\n",
       "      <td>-0.505708</td>\n",
       "      <td>0.831623</td>\n",
       "      <td>0.614833</td>\n",
       "      <td>-0.227905</td>\n",
       "      <td>0.512088</td>\n",
       "      <td>-0.223164</td>\n",
       "      <td>0.091130</td>\n",
       "      <td>-0.357716</td>\n",
       "      <td>...</td>\n",
       "      <td>0.726127</td>\n",
       "      <td>0.109013</td>\n",
       "      <td>-0.210231</td>\n",
       "      <td>0.091286</td>\n",
       "      <td>-0.752610</td>\n",
       "      <td>0.402502</td>\n",
       "      <td>0.172243</td>\n",
       "      <td>-0.546917</td>\n",
       "      <td>0.147707</td>\n",
       "      <td>-0.587038</td>\n",
       "    </tr>\n",
       "  </tbody>\n",
       "</table>\n",
       "<p>5 rows × 513 columns</p>\n",
       "</div>"
      ],
      "text/plain": [
       "                                  Anchor         0         1         2  \\\n",
       "0  coco/coco2017/train2017/img068940.jpg -0.307798 -0.508969  0.926195   \n",
       "1      big/biggan-data/854/img008397.jpg  0.003333  0.102581  0.077881   \n",
       "2      big/biggan-data/430/img003691.jpg  0.076727  0.022923  0.108149   \n",
       "3      big/biggan-data/202/img001166.jpg  0.077418 -0.008830  0.159454   \n",
       "4  coco/coco2017/train2017/img120939.jpg -0.219276 -0.505708  0.831623   \n",
       "\n",
       "          3         4         5         6         7         8  ...       502  \\\n",
       "0  0.490313 -0.118310  0.543902 -0.299149  0.074082 -0.357804  ...  0.713038   \n",
       "1 -0.084205 -0.661067  0.211122 -0.200058 -0.370851 -0.201713  ...  0.198750   \n",
       "2 -0.023014 -0.563118  0.242393 -0.241181 -0.315605 -0.188148  ...  0.326242   \n",
       "3  0.008534 -0.493143  0.206487 -0.139443 -0.194636 -0.136551  ...  0.340707   \n",
       "4  0.614833 -0.227905  0.512088 -0.223164  0.091130 -0.357716  ...  0.726127   \n",
       "\n",
       "        503       504       505       506       507       508       509  \\\n",
       "0  0.191845 -0.056985  0.112550 -0.610529  0.458800  0.197625 -0.475235   \n",
       "1  0.092547 -0.088540  0.090101 -0.325066 -0.235187  0.116681  0.083902   \n",
       "2  0.122648 -0.080003  0.130744 -0.432383 -0.197485  0.221017  0.012781   \n",
       "3  0.103308 -0.107604  0.083041 -0.417312 -0.076395  0.127017 -0.127815   \n",
       "4  0.109013 -0.210231  0.091286 -0.752610  0.402502  0.172243 -0.546917   \n",
       "\n",
       "        510       511  \n",
       "0  0.078249 -0.610605  \n",
       "1 -0.021767 -0.593111  \n",
       "2 -0.018262 -0.623360  \n",
       "3 -0.014595 -0.598420  \n",
       "4  0.147707 -0.587038  \n",
       "\n",
       "[5 rows x 513 columns]"
      ]
     },
     "execution_count": 36,
     "metadata": {},
     "output_type": "execute_result"
    }
   ],
   "source": [
    "df_enc = pd.read_csv('database.csv')\n",
    "df_enc.head()"
   ]
  },
  {
   "cell_type": "code",
   "execution_count": 37,
   "id": "ea4d49ef-7e4b-4a09-a188-d6afa1fc273d",
   "metadata": {
    "ExecuteTime": {
     "end_time": "2024-06-09T02:53:27.680573Z",
     "start_time": "2024-06-09T02:53:27.572061Z"
    },
    "id": "ea4d49ef-7e4b-4a09-a188-d6afa1fc273d",
    "tags": []
   },
   "outputs": [],
   "source": [
    "# approssimazione della distanza, senza la radice quadrata, per fare i primi allenamenti velocemente\n",
    "def euclidean_dist(img_enc, anc_enc_arr):\n",
    "    # dist = np.sqrt(np.dot(img_enc-anc_enc_arr, (img_enc- anc_enc_arr).T))\n",
    "    dist = np.dot(img_enc-anc_enc_arr, (img_enc- anc_enc_arr).T)\n",
    "    dist = np.sqrt(dist)\n",
    "    return dist"
   ]
  },
  {
   "cell_type": "code",
   "execution_count": 38,
   "id": "38e0d751-6559-43b8-94f1-eab11f754bdd",
   "metadata": {
    "ExecuteTime": {
     "end_time": "2024-06-09T02:53:27.806590Z",
     "start_time": "2024-06-09T02:53:27.682575Z"
    },
    "id": "38e0d751-6559-43b8-94f1-eab11f754bdd",
    "outputId": "7ff19abf-6ff7-4f31-bd3e-a07d07ca90dd",
    "tags": []
   },
   "outputs": [
    {
     "name": "stdout",
     "output_type": "stream",
     "text": [
      "0      coco/coco2017/train2017/img134907.jpg\n",
      "1       coco/coco2017/test2017/img026665.jpg\n",
      "2       coco/coco2017/test2017/img014662.jpg\n",
      "3      coco/coco2017/train2017/img115748.jpg\n",
      "4       coco/coco2017/test2017/img038368.jpg\n",
      "                       ...                  \n",
      "532    coco/coco2017/train2017/img104789.jpg\n",
      "533    coco/coco2017/train2017/img135260.jpg\n",
      "534     coco/coco2017/test2017/img026185.jpg\n",
      "535     coco/coco2017/test2017/img033140.jpg\n",
      "536    coco/coco2017/train2017/img096916.jpg\n",
      "Name: real, Length: 537, dtype: object\n",
      "1074\n"
     ]
    },
    {
     "data": {
      "text/html": [
       "<div>\n",
       "<style scoped>\n",
       "    .dataframe tbody tr th:only-of-type {\n",
       "        vertical-align: middle;\n",
       "    }\n",
       "\n",
       "    .dataframe tbody tr th {\n",
       "        vertical-align: top;\n",
       "    }\n",
       "\n",
       "    .dataframe thead th {\n",
       "        text-align: right;\n",
       "    }\n",
       "</style>\n",
       "<table border=\"1\" class=\"dataframe\">\n",
       "  <thead>\n",
       "    <tr style=\"text-align: right;\">\n",
       "      <th></th>\n",
       "      <th>real</th>\n",
       "      <th>fake</th>\n",
       "    </tr>\n",
       "  </thead>\n",
       "  <tbody>\n",
       "    <tr>\n",
       "      <th>0</th>\n",
       "      <td>coco/coco2017/train2017/img134907.jpg</td>\n",
       "      <td>big/biggan-data/608/img005662.jpg</td>\n",
       "    </tr>\n",
       "    <tr>\n",
       "      <th>1</th>\n",
       "      <td>coco/coco2017/test2017/img026665.jpg</td>\n",
       "      <td>big/biggan-data/768/img007430.jpg</td>\n",
       "    </tr>\n",
       "    <tr>\n",
       "      <th>2</th>\n",
       "      <td>coco/coco2017/test2017/img014662.jpg</td>\n",
       "      <td>big/biggan-data/929/img009225.jpg</td>\n",
       "    </tr>\n",
       "    <tr>\n",
       "      <th>3</th>\n",
       "      <td>coco/coco2017/train2017/img115748.jpg</td>\n",
       "      <td>big/biggan-data/193/img001053.jpg</td>\n",
       "    </tr>\n",
       "    <tr>\n",
       "      <th>4</th>\n",
       "      <td>coco/coco2017/test2017/img038368.jpg</td>\n",
       "      <td>big/biggan-data/81/img007900.jpg</td>\n",
       "    </tr>\n",
       "  </tbody>\n",
       "</table>\n",
       "</div>"
      ],
      "text/plain": [
       "                                    real                               fake\n",
       "0  coco/coco2017/train2017/img134907.jpg  big/biggan-data/608/img005662.jpg\n",
       "1   coco/coco2017/test2017/img026665.jpg  big/biggan-data/768/img007430.jpg\n",
       "2   coco/coco2017/test2017/img014662.jpg  big/biggan-data/929/img009225.jpg\n",
       "3  coco/coco2017/train2017/img115748.jpg  big/biggan-data/193/img001053.jpg\n",
       "4   coco/coco2017/test2017/img038368.jpg   big/biggan-data/81/img007900.jpg"
      ]
     },
     "execution_count": 38,
     "metadata": {},
     "output_type": "execute_result"
    }
   ],
   "source": [
    "path = os.path.join(Path(os.getcwd()).parent, \"datasets\", \"testList_biggan.csv\")\n",
    "df = pd.read_csv(path)\n",
    "\n",
    "print(df[\"real\"])\n",
    "print(df.size)\n",
    "df.head()"
   ]
  },
  {
   "cell_type": "code",
   "execution_count": 39,
   "id": "2262d0bc-a58d-4663-8515-bccbdf870608",
   "metadata": {
    "ExecuteTime": {
     "end_time": "2024-06-09T02:53:27.916573Z",
     "start_time": "2024-06-09T02:53:27.808571Z"
    },
    "id": "2262d0bc-a58d-4663-8515-bccbdf870608",
    "tags": []
   },
   "outputs": [],
   "source": [
    "def getImageEmbeddings(img, model):\n",
    "    if mode == \"rgb\":\n",
    "        img = torch.from_numpy(img).permute(2, 0, 1) / 255.0\n",
    "      \n",
    "    if mode == \"grey_scale\":\n",
    "        img = np.expand_dims(img, 0)\n",
    "        img = torch.from_numpy(img) / 255\n",
    "    \n",
    "    model.eval()\n",
    "    with torch.no_grad():\n",
    "        img = img.to(DEVICE)\n",
    "        img_enc = model(img.unsqueeze(0))\n",
    "        img_enc = img_enc.detach().cpu().numpy()\n",
    "        img_enc = np.array(img_enc)\n",
    "\n",
    "    return img_enc"
   ]
  },
  {
   "cell_type": "code",
   "execution_count": 40,
   "id": "0b4b5bd4-222b-44a3-b32d-2aa1f9b3d405",
   "metadata": {
    "ExecuteTime": {
     "end_time": "2024-06-09T02:53:28.028571Z",
     "start_time": "2024-06-09T02:53:27.920573Z"
    },
    "id": "0b4b5bd4-222b-44a3-b32d-2aa1f9b3d405",
    "tags": []
   },
   "outputs": [],
   "source": [
    "def searchInDatabase(img_enc, database):\n",
    "    anc_enc_arr = database.iloc[:, 1:].to_numpy()\n",
    "    anc_img_names = database[\"Anchor\"]\n",
    "\n",
    "    distance = []\n",
    "    for i in range(anc_enc_arr.shape[0]):\n",
    "        dist = euclidean_dist(img_enc, anc_enc_arr[i : i+1, :])\n",
    "        distance = np.append(distance, dist)\n",
    "\n",
    "    closest_idx = np.argsort(distance)\n",
    "\n",
    "    return database[\"Anchor\"][closest_idx[0]]"
   ]
  },
  {
   "cell_type": "code",
   "execution_count": 45,
   "id": "ddd32725-5e2d-42a7-8998-4920f05ed143",
   "metadata": {
    "ExecuteTime": {
     "end_time": "2024-06-09T02:53:28.137572Z",
     "start_time": "2024-06-09T02:53:28.030574Z"
    },
    "id": "ddd32725-5e2d-42a7-8998-4920f05ed143",
    "outputId": "888e6f94-a62a-46e1-cf29-d11664da20b7",
    "tags": []
   },
   "outputs": [
    {
     "data": {
      "text/plain": [
       "(537, 2)"
      ]
     },
     "execution_count": 45,
     "metadata": {},
     "output_type": "execute_result"
    }
   ],
   "source": [
    "# DataTestReal = 'C:/Users/polsi/Desktop/Lavori/DeepFake/Datasets/Artifact/cycle_gan/st/test/'\n",
    "path = Path(os.getcwd()).parent.parent\n",
    "real_data_dir = os.path.join(path, \"artifact\", \"coco\")\n",
    "fake_data_dir = os.path.join(path, \"artifact\", \"big_gan\")\n",
    "\n",
    "y_true = []\n",
    "y_pred = []\n",
    "\n",
    "tempDf = df\n",
    "tempDf.head()\n",
    "tempDf.shape"
   ]
  },
  {
   "cell_type": "code",
   "execution_count": 46,
   "id": "ca7392f6-109f-4a96-92b1-e85600be8d8a",
   "metadata": {
    "ExecuteTime": {
     "end_time": "2024-06-09T03:22:41.354147Z",
     "start_time": "2024-06-09T02:53:28.139572Z"
    },
    "id": "ca7392f6-109f-4a96-92b1-e85600be8d8a",
    "tags": []
   },
   "outputs": [
    {
     "name": "stderr",
     "output_type": "stream",
     "text": [
      "testing on fake images...: 537it [00:24, 21.58it/s]\n"
     ]
    }
   ],
   "source": [
    "# testo i fake\n",
    "currentTest = \"fake\"\n",
    "database = df_enc\n",
    "\n",
    "# prendo i primi 500 Fake\n",
    "for index, row in tqdm(tempDf.iterrows(), desc=\"testing on fake images...\"):\n",
    "    path = os.path.join(fake_data_dir, row[currentTest])\n",
    "    img_name = path\n",
    "    img = io.imread(img_name)\n",
    "\n",
    "    img_enc = getImageEmbeddings(img, model)\n",
    "    \n",
    "    closestLabel = searchInDatabase(img_enc, database)\n",
    "    \n",
    "    if mode == \"rgb\":\n",
    "        if str(closestLabel).startswith(\"big\"):\n",
    "            y_pred.append(\"fake\")\n",
    "        else:\n",
    "            y_pred.append(\"real\")\n",
    "\n",
    "    if mode == \"grey_scale\": \n",
    "        if \"coco\" in closestLabel:\n",
    "            y_pred.append(\"real\")\n",
    "        else:\n",
    "            y_pred.append(\"fake\")"
   ]
  },
  {
   "cell_type": "code",
   "execution_count": null,
   "id": "0edf8fcd",
   "metadata": {},
   "outputs": [],
   "source": []
  },
  {
   "cell_type": "code",
   "execution_count": 47,
   "id": "fe3af5ae-b8c2-419e-b5a5-9d17609797f5",
   "metadata": {
    "ExecuteTime": {
     "end_time": "2024-06-09T03:22:41.450297Z",
     "start_time": "2024-06-09T03:22:41.355131Z"
    },
    "id": "fe3af5ae-b8c2-419e-b5a5-9d17609797f5",
    "tags": []
   },
   "outputs": [
    {
     "name": "stdout",
     "output_type": "stream",
     "text": [
      "0\n",
      "537\n",
      "['real', 'real', 'fake', 'real', 'fake', 'fake', 'fake', 'real', 'real', 'fake', 'real', 'fake', 'fake', 'fake', 'real', 'real', 'real', 'fake', 'real', 'fake', 'fake', 'fake', 'fake', 'fake', 'fake', 'fake', 'real', 'fake', 'fake', 'fake', 'real', 'fake', 'real', 'real', 'real', 'fake', 'fake', 'real', 'fake', 'fake', 'fake', 'fake', 'real', 'fake', 'real', 'fake', 'fake', 'real', 'fake', 'fake', 'real', 'real', 'fake', 'fake', 'fake', 'fake', 'fake', 'fake', 'fake', 'real', 'fake', 'fake', 'fake', 'fake', 'real', 'fake', 'fake', 'fake', 'fake', 'fake', 'real', 'real', 'fake', 'real', 'fake', 'real', 'fake', 'real', 'real', 'fake', 'real', 'fake', 'fake', 'real', 'fake', 'real', 'fake', 'fake', 'fake', 'real', 'real', 'fake', 'real', 'real', 'real', 'fake', 'real', 'real', 'real', 'fake', 'real', 'real', 'fake', 'real', 'fake', 'real', 'fake', 'real', 'real', 'real', 'real', 'fake', 'real', 'fake', 'real', 'real', 'fake', 'real', 'fake', 'fake', 'fake', 'fake', 'real', 'fake', 'real', 'real', 'real', 'real', 'fake', 'fake', 'fake', 'real', 'real', 'fake', 'fake', 'real', 'fake', 'real', 'fake', 'real', 'real', 'fake', 'real', 'fake', 'fake', 'fake', 'fake', 'real', 'fake', 'real', 'fake', 'real', 'real', 'fake', 'fake', 'real', 'real', 'real', 'real', 'real', 'fake', 'fake', 'real', 'real', 'fake', 'real', 'fake', 'real', 'real', 'real', 'fake', 'real', 'real', 'real', 'fake', 'fake', 'real', 'fake', 'real', 'fake', 'fake', 'real', 'real', 'fake', 'real', 'fake', 'fake', 'fake', 'fake', 'real', 'real', 'real', 'real', 'fake', 'fake', 'real', 'real', 'fake', 'real', 'real', 'real', 'real', 'real', 'real', 'real', 'real', 'fake', 'fake', 'fake', 'fake', 'real', 'fake', 'fake', 'fake', 'real', 'fake', 'fake', 'real', 'fake', 'real', 'fake', 'real', 'real', 'real', 'real', 'real', 'real', 'real', 'fake', 'real', 'fake', 'real', 'real', 'fake', 'real', 'real', 'real', 'real', 'fake', 'real', 'real', 'fake', 'fake', 'fake', 'real', 'fake', 'real', 'real', 'fake', 'real', 'real', 'fake', 'real', 'fake', 'fake', 'fake', 'real', 'fake', 'real', 'fake', 'fake', 'real', 'fake', 'real', 'fake', 'real', 'fake', 'real', 'real', 'fake', 'real', 'real', 'real', 'fake', 'real', 'fake', 'fake', 'real', 'real', 'fake', 'real', 'real', 'fake', 'real', 'fake', 'real', 'fake', 'real', 'fake', 'fake', 'real', 'real', 'real', 'real', 'fake', 'real', 'fake', 'fake', 'real', 'real', 'real', 'fake', 'real', 'fake', 'real', 'real', 'fake', 'real', 'fake', 'fake', 'real', 'fake', 'fake', 'fake', 'real', 'real', 'fake', 'real', 'fake', 'real', 'real', 'fake', 'fake', 'fake', 'fake', 'real', 'fake', 'real', 'real', 'fake', 'fake', 'fake', 'real', 'real', 'real', 'fake', 'fake', 'real', 'real', 'fake', 'fake', 'fake', 'real', 'real', 'real', 'fake', 'fake', 'fake', 'fake', 'fake', 'fake', 'fake', 'fake', 'real', 'fake', 'fake', 'real', 'real', 'real', 'fake', 'real', 'fake', 'real', 'fake', 'fake', 'fake', 'real', 'real', 'fake', 'fake', 'fake', 'real', 'fake', 'fake', 'fake', 'fake', 'fake', 'fake', 'fake', 'real', 'real', 'real', 'real', 'real', 'fake', 'fake', 'fake', 'real', 'real', 'fake', 'fake', 'fake', 'fake', 'real', 'fake', 'real', 'real', 'fake', 'real', 'real', 'real', 'fake', 'fake', 'fake', 'real', 'real', 'fake', 'fake', 'real', 'fake', 'fake', 'fake', 'real', 'fake', 'fake', 'fake', 'fake', 'fake', 'fake', 'real', 'real', 'real', 'real', 'fake', 'real', 'fake', 'fake', 'fake', 'real', 'fake', 'fake', 'real', 'real', 'fake', 'fake', 'real', 'real', 'fake', 'fake', 'real', 'fake', 'real', 'real', 'real', 'real', 'real', 'fake', 'real', 'real', 'fake', 'real', 'fake', 'fake', 'fake', 'fake', 'real', 'real', 'real', 'fake', 'fake', 'fake', 'real', 'fake', 'fake', 'fake', 'real', 'fake', 'real', 'fake', 'real', 'real', 'real', 'fake', 'fake', 'fake', 'fake', 'fake', 'fake', 'real', 'real', 'fake', 'fake', 'real', 'real', 'real', 'fake', 'real', 'fake', 'fake', 'fake', 'real', 'fake', 'real', 'real', 'real', 'fake', 'real', 'real', 'fake', 'real', 'fake', 'real', 'fake', 'real', 'fake', 'real', 'real', 'fake', 'real', 'fake', 'fake', 'real', 'real', 'fake', 'fake', 'real', 'fake', 'fake', 'real', 'real', 'real', 'fake', 'fake', 'fake', 'fake', 'fake', 'fake', 'real', 'fake', 'fake', 'real', 'real', 'real', 'fake', 'real', 'real', 'real']\n"
     ]
    }
   ],
   "source": [
    "print(len(y_true))\n",
    "print(len(y_pred))\n",
    "print(y_pred)"
   ]
  },
  {
   "cell_type": "code",
   "execution_count": 48,
   "id": "46b8f2c1-a3ca-4bbd-8326-02685fc44cf8",
   "metadata": {
    "ExecuteTime": {
     "end_time": "2024-06-09T03:52:00.650379Z",
     "start_time": "2024-06-09T03:22:41.451134Z"
    },
    "id": "46b8f2c1-a3ca-4bbd-8326-02685fc44cf8",
    "tags": []
   },
   "outputs": [
    {
     "name": "stderr",
     "output_type": "stream",
     "text": [
      "testing on real images...: 537it [00:26, 20.46it/s]\n"
     ]
    }
   ],
   "source": [
    "# testo i real\n",
    "currentTest = \"real\"\n",
    "database = df_enc\n",
    "\n",
    "# prendo i primi 500 Fake\n",
    "for index, row in tqdm(tempDf.iterrows(), desc=\"testing on real images...\"):\n",
    "    path = os.path.join(real_data_dir, row[currentTest])\n",
    "    img_name = path\n",
    "\n",
    "    img = io.imread(img_name)\n",
    "\n",
    "    img_enc = getImageEmbeddings(img, model)\n",
    "\n",
    "    closestLabel = searchInDatabase(img_enc, database)\n",
    "    \n",
    "    if mode == \"rgb\":\n",
    "        if \"big\" in closestLabel:\n",
    "            y_pred.append(\"fake\")\n",
    "            \n",
    "        else:\n",
    "            y_pred.append(\"real\")\n",
    "\n",
    "    if mode == \"grey_scale\": \n",
    "        if \"real\" in closestLabel:\n",
    "            y_pred.append(\"real\")\n",
    "        else:\n",
    "            y_pred.append(\"fake\")\n"
   ]
  },
  {
   "cell_type": "code",
   "execution_count": 49,
   "id": "4c465bfd-18ad-4750-b689-739b712185ab",
   "metadata": {
    "ExecuteTime": {
     "end_time": "2024-06-09T03:52:00.746426Z",
     "start_time": "2024-06-09T03:52:00.651390Z"
    },
    "id": "4c465bfd-18ad-4750-b689-739b712185ab",
    "outputId": "e974c712-91fb-4fae-c589-85e08a50fb77",
    "tags": []
   },
   "outputs": [
    {
     "name": "stdout",
     "output_type": "stream",
     "text": [
      "0\n",
      "1074\n",
      "['real', 'real', 'fake', 'real', 'fake', 'fake', 'fake', 'real', 'real', 'fake', 'real', 'fake', 'fake', 'fake', 'real', 'real', 'real', 'fake', 'real', 'fake', 'fake', 'fake', 'fake', 'fake', 'fake', 'fake', 'real', 'fake', 'fake', 'fake', 'real', 'fake', 'real', 'real', 'real', 'fake', 'fake', 'real', 'fake', 'fake', 'fake', 'fake', 'real', 'fake', 'real', 'fake', 'fake', 'real', 'fake', 'fake', 'real', 'real', 'fake', 'fake', 'fake', 'fake', 'fake', 'fake', 'fake', 'real', 'fake', 'fake', 'fake', 'fake', 'real', 'fake', 'fake', 'fake', 'fake', 'fake', 'real', 'real', 'fake', 'real', 'fake', 'real', 'fake', 'real', 'real', 'fake', 'real', 'fake', 'fake', 'real', 'fake', 'real', 'fake', 'fake', 'fake', 'real', 'real', 'fake', 'real', 'real', 'real', 'fake', 'real', 'real', 'real', 'fake', 'real', 'real', 'fake', 'real', 'fake', 'real', 'fake', 'real', 'real', 'real', 'real', 'fake', 'real', 'fake', 'real', 'real', 'fake', 'real', 'fake', 'fake', 'fake', 'fake', 'real', 'fake', 'real', 'real', 'real', 'real', 'fake', 'fake', 'fake', 'real', 'real', 'fake', 'fake', 'real', 'fake', 'real', 'fake', 'real', 'real', 'fake', 'real', 'fake', 'fake', 'fake', 'fake', 'real', 'fake', 'real', 'fake', 'real', 'real', 'fake', 'fake', 'real', 'real', 'real', 'real', 'real', 'fake', 'fake', 'real', 'real', 'fake', 'real', 'fake', 'real', 'real', 'real', 'fake', 'real', 'real', 'real', 'fake', 'fake', 'real', 'fake', 'real', 'fake', 'fake', 'real', 'real', 'fake', 'real', 'fake', 'fake', 'fake', 'fake', 'real', 'real', 'real', 'real', 'fake', 'fake', 'real', 'real', 'fake', 'real', 'real', 'real', 'real', 'real', 'real', 'real', 'real', 'fake', 'fake', 'fake', 'fake', 'real', 'fake', 'fake', 'fake', 'real', 'fake', 'fake', 'real', 'fake', 'real', 'fake', 'real', 'real', 'real', 'real', 'real', 'real', 'real', 'fake', 'real', 'fake', 'real', 'real', 'fake', 'real', 'real', 'real', 'real', 'fake', 'real', 'real', 'fake', 'fake', 'fake', 'real', 'fake', 'real', 'real', 'fake', 'real', 'real', 'fake', 'real', 'fake', 'fake', 'fake', 'real', 'fake', 'real', 'fake', 'fake', 'real', 'fake', 'real', 'fake', 'real', 'fake', 'real', 'real', 'fake', 'real', 'real', 'real', 'fake', 'real', 'fake', 'fake', 'real', 'real', 'fake', 'real', 'real', 'fake', 'real', 'fake', 'real', 'fake', 'real', 'fake', 'fake', 'real', 'real', 'real', 'real', 'fake', 'real', 'fake', 'fake', 'real', 'real', 'real', 'fake', 'real', 'fake', 'real', 'real', 'fake', 'real', 'fake', 'fake', 'real', 'fake', 'fake', 'fake', 'real', 'real', 'fake', 'real', 'fake', 'real', 'real', 'fake', 'fake', 'fake', 'fake', 'real', 'fake', 'real', 'real', 'fake', 'fake', 'fake', 'real', 'real', 'real', 'fake', 'fake', 'real', 'real', 'fake', 'fake', 'fake', 'real', 'real', 'real', 'fake', 'fake', 'fake', 'fake', 'fake', 'fake', 'fake', 'fake', 'real', 'fake', 'fake', 'real', 'real', 'real', 'fake', 'real', 'fake', 'real', 'fake', 'fake', 'fake', 'real', 'real', 'fake', 'fake', 'fake', 'real', 'fake', 'fake', 'fake', 'fake', 'fake', 'fake', 'fake', 'real', 'real', 'real', 'real', 'real', 'fake', 'fake', 'fake', 'real', 'real', 'fake', 'fake', 'fake', 'fake', 'real', 'fake', 'real', 'real', 'fake', 'real', 'real', 'real', 'fake', 'fake', 'fake', 'real', 'real', 'fake', 'fake', 'real', 'fake', 'fake', 'fake', 'real', 'fake', 'fake', 'fake', 'fake', 'fake', 'fake', 'real', 'real', 'real', 'real', 'fake', 'real', 'fake', 'fake', 'fake', 'real', 'fake', 'fake', 'real', 'real', 'fake', 'fake', 'real', 'real', 'fake', 'fake', 'real', 'fake', 'real', 'real', 'real', 'real', 'real', 'fake', 'real', 'real', 'fake', 'real', 'fake', 'fake', 'fake', 'fake', 'real', 'real', 'real', 'fake', 'fake', 'fake', 'real', 'fake', 'fake', 'fake', 'real', 'fake', 'real', 'fake', 'real', 'real', 'real', 'fake', 'fake', 'fake', 'fake', 'fake', 'fake', 'real', 'real', 'fake', 'fake', 'real', 'real', 'real', 'fake', 'real', 'fake', 'fake', 'fake', 'real', 'fake', 'real', 'real', 'real', 'fake', 'real', 'real', 'fake', 'real', 'fake', 'real', 'fake', 'real', 'fake', 'real', 'real', 'fake', 'real', 'fake', 'fake', 'real', 'real', 'fake', 'fake', 'real', 'fake', 'fake', 'real', 'real', 'real', 'fake', 'fake', 'fake', 'fake', 'fake', 'fake', 'real', 'fake', 'fake', 'real', 'real', 'real', 'fake', 'real', 'real', 'real', 'fake', 'fake', 'fake', 'fake', 'real', 'real', 'real', 'fake', 'real', 'real', 'fake', 'fake', 'fake', 'real', 'fake', 'fake', 'real', 'real', 'real', 'real', 'real', 'fake', 'fake', 'fake', 'fake', 'fake', 'real', 'fake', 'real', 'real', 'real', 'real', 'fake', 'fake', 'real', 'real', 'real', 'real', 'real', 'fake', 'real', 'fake', 'fake', 'real', 'real', 'real', 'real', 'real', 'fake', 'real', 'real', 'fake', 'fake', 'real', 'fake', 'real', 'real', 'real', 'fake', 'real', 'fake', 'real', 'real', 'fake', 'real', 'fake', 'fake', 'fake', 'real', 'real', 'fake', 'real', 'fake', 'fake', 'fake', 'real', 'fake', 'fake', 'real', 'real', 'fake', 'real', 'real', 'real', 'real', 'real', 'fake', 'real', 'real', 'real', 'fake', 'fake', 'real', 'fake', 'real', 'real', 'real', 'fake', 'real', 'fake', 'real', 'real', 'real', 'fake', 'real', 'fake', 'fake', 'fake', 'fake', 'fake', 'real', 'real', 'fake', 'real', 'real', 'fake', 'real', 'real', 'fake', 'fake', 'real', 'real', 'fake', 'fake', 'fake', 'real', 'real', 'fake', 'fake', 'real', 'real', 'real', 'fake', 'fake', 'real', 'fake', 'real', 'real', 'real', 'real', 'fake', 'real', 'real', 'fake', 'fake', 'real', 'fake', 'fake', 'fake', 'real', 'real', 'real', 'real', 'fake', 'fake', 'real', 'real', 'real', 'real', 'fake', 'real', 'real', 'real', 'real', 'fake', 'real', 'real', 'fake', 'fake', 'real', 'fake', 'real', 'fake', 'real', 'fake', 'real', 'real', 'real', 'real', 'fake', 'real', 'fake', 'fake', 'fake', 'real', 'fake', 'fake', 'fake', 'real', 'real', 'fake', 'real', 'real', 'fake', 'real', 'fake', 'fake', 'real', 'fake', 'fake', 'fake', 'real', 'fake', 'fake', 'real', 'fake', 'real', 'fake', 'fake', 'fake', 'fake', 'real', 'real', 'fake', 'fake', 'real', 'fake', 'real', 'fake', 'fake', 'fake', 'real', 'real', 'real', 'real', 'real', 'real', 'real', 'fake', 'fake', 'real', 'fake', 'fake', 'real', 'real', 'fake', 'fake', 'fake', 'fake', 'real', 'fake', 'real', 'real', 'fake', 'fake', 'real', 'real', 'fake', 'real', 'real', 'real', 'fake', 'real', 'real', 'real', 'fake', 'real', 'real', 'real', 'real', 'fake', 'fake', 'real', 'fake', 'real', 'fake', 'real', 'fake', 'real', 'fake', 'real', 'real', 'real', 'fake', 'real', 'real', 'fake', 'real', 'real', 'real', 'real', 'real', 'real', 'fake', 'fake', 'real', 'real', 'real', 'fake', 'real', 'real', 'real', 'real', 'real', 'real', 'real', 'fake', 'real', 'real', 'real', 'real', 'fake', 'real', 'real', 'fake', 'real', 'fake', 'fake', 'fake', 'real', 'fake', 'fake', 'real', 'real', 'real', 'fake', 'fake', 'real', 'real', 'fake', 'real', 'fake', 'fake', 'fake', 'fake', 'real', 'real', 'fake', 'real', 'fake', 'real', 'real', 'real', 'real', 'fake', 'fake', 'fake', 'fake', 'fake', 'fake', 'fake', 'fake', 'fake', 'fake', 'fake', 'real', 'fake', 'real', 'fake', 'real', 'real', 'real', 'fake', 'real', 'real', 'fake', 'real', 'real', 'fake', 'fake', 'fake', 'real', 'fake', 'real', 'real', 'fake', 'fake', 'real', 'real', 'fake', 'fake', 'real', 'fake', 'fake', 'real', 'fake', 'real', 'fake', 'fake', 'real', 'real', 'real', 'real', 'real', 'real', 'real', 'fake', 'real', 'real', 'fake', 'real', 'fake', 'fake', 'fake', 'fake', 'real', 'real', 'fake', 'fake', 'fake', 'real', 'fake', 'real', 'real', 'real', 'fake', 'real', 'real', 'real', 'fake', 'real', 'fake', 'real', 'fake', 'real', 'fake', 'real', 'fake', 'real', 'fake', 'fake', 'fake', 'real', 'real', 'fake', 'real', 'fake', 'real', 'fake', 'real', 'real', 'fake', 'real', 'real', 'real', 'fake', 'fake', 'real', 'fake', 'fake', 'real', 'real', 'fake', 'fake', 'fake', 'real', 'real', 'fake', 'fake', 'fake', 'fake', 'real', 'real', 'real', 'fake', 'real', 'fake', 'fake', 'real', 'real', 'real', 'fake', 'real', 'real', 'fake', 'fake', 'fake', 'real', 'fake', 'fake', 'real', 'fake', 'real', 'real', 'fake', 'fake', 'real', 'fake', 'fake', 'fake', 'real', 'real', 'fake', 'fake', 'fake', 'fake', 'fake', 'real', 'fake', 'real', 'fake', 'fake', 'fake', 'real', 'real', 'fake', 'real', 'real', 'real', 'real', 'real', 'fake', 'real', 'fake', 'fake', 'fake', 'real', 'real', 'real', 'real', 'real', 'fake', 'fake', 'real', 'fake', 'fake', 'real', 'real', 'real', 'real', 'fake', 'real', 'fake', 'fake', 'fake', 'real', 'real', 'fake', 'real', 'real', 'fake', 'fake', 'real', 'real', 'fake', 'fake', 'real']\n"
     ]
    }
   ],
   "source": [
    "print(len(y_true))\n",
    "print(len(y_pred))\n",
    "print(y_pred)"
   ]
  },
  {
   "cell_type": "code",
   "execution_count": 52,
   "id": "85706e81-3068-4150-9773-320a8aa98c69",
   "metadata": {
    "ExecuteTime": {
     "end_time": "2024-06-09T03:52:00.858443Z",
     "start_time": "2024-06-09T03:52:00.747373Z"
    },
    "id": "85706e81-3068-4150-9773-320a8aa98c69",
    "tags": []
   },
   "outputs": [
    {
     "name": "stdout",
     "output_type": "stream",
     "text": [
      "(537,)\n",
      "(537,)\n",
      "(1074,)\n",
      "[[287 250]\n",
      " [259 278]]\n"
     ]
    }
   ],
   "source": [
    "# creo i vettori di ground truth\n",
    "y_true = np.array([\"fake\"] * 537)\n",
    "print(y_true.shape)\n",
    "\n",
    "temp = np.array([\"real\"] * 537)\n",
    "print(temp.shape)\n",
    "\n",
    "y_true = np.concatenate([y_true, temp])\n",
    "print(y_true.shape)\n",
    "\n",
    "# calcolo la matrice di confusione (quella di scikit-learn dispone i risultati come nella cella di sotto)\n",
    "cm = confusion_matrix(y_true, y_pred, labels=[\"real\", \"fake\"])\n",
    "print(cm)"
   ]
  },
  {
   "cell_type": "code",
   "execution_count": 53,
   "id": "28d903d0-38e3-4dc7-af71-f091c78a00e7",
   "metadata": {
    "ExecuteTime": {
     "end_time": "2024-06-09T03:52:00.954483Z",
     "start_time": "2024-06-09T03:52:00.859300Z"
    },
    "id": "28d903d0-38e3-4dc7-af71-f091c78a00e7",
    "tags": []
   },
   "outputs": [
    {
     "name": "stdout",
     "output_type": "stream",
     "text": [
      "{'Accuracy': 52.61, 'Precision': 52.65, 'Recall': 51.77, 'Specificity': 53.4451, 'F1 Score': 52.2063}\n"
     ]
    }
   ],
   "source": [
    "TN, FP, FN, TP = cm.ravel()\n",
    "\n",
    "# metriche\n",
    "accuracy = round((TP + TN) / (TP + TN + FP + FN), 4) * 100\n",
    "precision = round((TP) / (TP + FP), 4) * 100\n",
    "recall = round((TP) / (TP + FN), 4) * 100\n",
    "specificity = round((TN) / (TN + FP) * 100, 4)\n",
    "f1_score = round((2 * precision * recall) / (precision + recall), 4)\n",
    "\n",
    "print({\"Accuracy\":accuracy, \"Precision\":precision, \"Recall\":recall, \"Specificity\":specificity, \"F1 Score\":f1_score})"
   ]
  },
  {
   "cell_type": "code",
   "execution_count": 54,
   "id": "eb6aac2a",
   "metadata": {
    "ExecuteTime": {
     "end_time": "2024-06-09T03:52:01.050483Z",
     "start_time": "2024-06-09T03:52:00.955466Z"
    }
   },
   "outputs": [],
   "source": [
    "# si salvano i risultati in un file .csv\n",
    "df_results = pd.DataFrame(columns=[\"Accuracy\", \"Precision\", \"Recall\", \"Specificity\", \"F1 Score\"])\n",
    "df_results.loc[0] = [accuracy, precision, recall, specificity, f1_score]\n",
    "\n",
    "# si differenziano i risultati in base al tipo di immagini e dataset usati\n",
    "dataset = fake_data_dir.split(\"\\\\\")[-1]\n",
    "path = os.path.join(\"..\", \"results\", \"siamese_\" + mode + \"_\" + dataset + \"_results.csv\")\n",
    "\n",
    "df_results.to_csv(path, index=False)"
   ]
  },
  {
   "cell_type": "code",
   "execution_count": null,
   "id": "88f2ce71cff757cd",
   "metadata": {
    "ExecuteTime": {
     "end_time": "2024-06-09T03:52:01.066483Z",
     "start_time": "2024-06-09T03:52:01.051468Z"
    },
    "collapsed": false
   },
   "outputs": [],
   "source": []
  }
 ],
 "metadata": {
  "colab": {
   "provenance": []
  },
  "kernelspec": {
   "display_name": "fvab",
   "language": "python",
   "name": "python3"
  },
  "language_info": {
   "codemirror_mode": {
    "name": "ipython",
    "version": 3
   },
   "file_extension": ".py",
   "mimetype": "text/x-python",
   "name": "python",
   "nbconvert_exporter": "python",
   "pygments_lexer": "ipython3",
   "version": "3.10.14"
  }
 },
 "nbformat": 4,
 "nbformat_minor": 5
}
