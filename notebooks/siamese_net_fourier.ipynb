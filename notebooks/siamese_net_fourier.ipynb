{
 "cells": [
  {
   "cell_type": "code",
   "execution_count": null,
   "id": "629f9a2a-51d3-4851-b6f2-a542601bb67e",
   "metadata": {
    "ExecuteTime": {
     "end_time": "2024-05-07T17:19:12.035797Z",
     "start_time": "2024-05-07T17:19:11.839796Z"
    },
    "id": "629f9a2a-51d3-4851-b6f2-a542601bb67e",
    "tags": []
   },
   "outputs": [],
   "source": [
    "import os\n",
    "import cv2\n",
    "import sys\n",
    "import timm\n",
    "import torch\n",
    "import numpy as np\n",
    "import pandas as pd\n",
    "import matplotlib.pyplot as plt\n",
    "import torch.nn.functional as F\n",
    "\n",
    "from torch import nn\n",
    "from tqdm import tqdm\n",
    "from skimage import io\n",
    "from pathlib import Path\n",
    "from sklearn.metrics import confusion_matrix\n",
    "from torch.utils.data import Dataset, DataLoader\n",
    "from sklearn.model_selection import train_test_split"
   ]
  },
  {
   "cell_type": "code",
   "execution_count": null,
   "id": "0fb6e0d0-b8cc-44b8-a8ac-17934de905f6",
   "metadata": {
    "ExecuteTime": {
     "end_time": "2024-05-07T17:19:12.207801Z",
     "start_time": "2024-05-07T17:19:12.037798Z"
    },
    "id": "0fb6e0d0-b8cc-44b8-a8ac-17934de905f6",
    "tags": []
   },
   "outputs": [],
   "source": [
    "# serve per ricaricare automaticamente il codice modificato\n",
    "%load_ext autoreload\n",
    "%autoreload 2"
   ]
  },
  {
   "cell_type": "code",
   "execution_count": null,
   "id": "f02ae726-f601-4b51-a949-71a5464ec779",
   "metadata": {
    "ExecuteTime": {
     "end_time": "2024-05-07T17:19:12.379811Z",
     "start_time": "2024-05-07T17:19:12.210802Z"
    },
    "id": "f02ae726-f601-4b51-a949-71a5464ec779",
    "tags": []
   },
   "outputs": [],
   "source": [
    "# directory principale di training, perche' nel file .csv ci sono solo i nomi dei file (immagini), da modificare per \n",
    "path = Path(os.getcwd()).parent.parent\n",
    "real_data_dir = os.path.join(path, \"artifact\", \"coco\")\n",
    "fake_data_dir = os.path.join(path, \"artifact\", \"latent_diffusion\")\n",
    "\n",
    "BATCH_SIZE = 32\n",
    "\n",
    "LR = 0.001\n",
    "\n",
    "EPOCHS = 30\n",
    "\n",
    "DEVICE = 'cuda'"
   ]
  },
  {
   "cell_type": "code",
   "execution_count": null,
   "id": "6c035a79-a777-4fb4-83fc-c71f1f4d37a7",
   "metadata": {
    "ExecuteTime": {
     "end_time": "2024-05-07T17:19:12.523810Z",
     "start_time": "2024-05-07T17:19:12.382795Z"
    },
    "id": "6c035a79-a777-4fb4-83fc-c71f1f4d37a7",
    "tags": []
   },
   "outputs": [],
   "source": [
    "# df che devo creare\n",
    "csv_path = os.path.join(\"..\", \"datasets\", \"out.csv\")\n",
    "df = pd.read_csv(csv_path)\n",
    "#df.head()\n",
    "df = df.sample(frac=1)\n",
    "train_df, valid_df = train_test_split(df, test_size=0.20, random_state=42)\n",
    "\n",
    "print(train_df.size)\n",
    "print(valid_df.size)"
   ]
  },
  {
   "cell_type": "code",
   "execution_count": null,
   "id": "aa3dfd88-2685-4ef3-8cac-2e2c85c6f0fe",
   "metadata": {
    "ExecuteTime": {
     "end_time": "2024-05-07T17:19:12.667809Z",
     "start_time": "2024-05-07T17:19:12.526796Z"
    },
    "id": "aa3dfd88-2685-4ef3-8cac-2e2c85c6f0fe",
    "tags": []
   },
   "outputs": [],
   "source": [
    "# carica le immagini nel dataset\n",
    "class APN_Dataset(Dataset):\n",
    "\n",
    "  def __init__(self, df):\n",
    "    self.df = df\n",
    "\n",
    "  def __len__(self):\n",
    "    return len(self.df)\n",
    "\n",
    "  def __getitem__(self, idx):\n",
    "    row = self.df.iloc[idx]\n",
    "    \n",
    "    #2   0_img = io.imread(os.path.join(real_data_dir, row.Anchor))\n",
    "    #P_img = io.imread(os.path.join(real_data_dir, row.Positive))\n",
    "    #N_img = io.imread(os.path.join(fake_data_dir, row.Negative))\n",
    "    \n",
    "    \n",
    "    if \"coco\" in row.Anchor:\n",
    "        A_img = io.imread(os.path.join(real_data_dir, row.Anchor))\n",
    "        P_img = io.imread(os.path.join(real_data_dir, row.Positive))\n",
    "        N_img = io.imread(os.path.join(fake_data_dir, row.Negative))\n",
    "    \n",
    "    else:\n",
    "        A_img = io.imread(os.path.join(fake_data_dir, row.Anchor))\n",
    "        P_img = io.imread(os.path.join(fake_data_dir, row.Positive))\n",
    "        N_img = io.imread(os.path.join(real_data_dir, row.Negative))\n",
    "\n",
    "    # permute because the third channel has to be in first channel in torch\n",
    "\n",
    "    A_img = torch.from_numpy(A_img).permute(2, 0, 1) / 255.0\n",
    "    P_img = torch.from_numpy(P_img).permute(2, 0, 1) / 255.0\n",
    "    N_img = torch.from_numpy(N_img).permute(2, 0, 1) / 255.0\n",
    "    \n",
    "    #A_img = np.expand_dims(A_img, 0)\n",
    "    #P_img = np.expand_dims(P_img, 0)\n",
    "    #N_img = np.expand_dims(N_img, 0)\n",
    "    \n",
    "    # normalizzazione per non far divergere il comportamento della rete\n",
    "    # il valore dell'immagine sarà compreso tra 0 e 1\n",
    "    #A_img = torch.from_numpy(A_img) / 255.0\n",
    "    #P_img = torch.from_numpy(P_img) / 255.0\n",
    "    #N_img = torch.from_numpy(N_img) / 255.0\n",
    "\n",
    "    #A_img = torch.from_numpy(A_img.astype(np.int32)) / 65536.0\n",
    "    #P_img = torch.from_numpy(P_img.astype(np.int32)) / 65536.0\n",
    "    #N_img = torch.from_numpy(N_img.astype(np.int32)) / 65536.0\n",
    "\n",
    "    return A_img, P_img, N_img"
   ]
  },
  {
   "cell_type": "code",
   "execution_count": null,
   "id": "8203b726-6dcc-41fc-ac33-d98f58e61ac7",
   "metadata": {
    "ExecuteTime": {
     "end_time": "2024-05-07T17:19:12.808353Z",
     "start_time": "2024-05-07T17:19:12.669797Z"
    },
    "id": "8203b726-6dcc-41fc-ac33-d98f58e61ac7",
    "outputId": "60287971-91ea-41f4-e564-ec8524cb8d3d",
    "tags": []
   },
   "outputs": [],
   "source": [
    "trainset = APN_Dataset(train_df)\n",
    "validset = APN_Dataset(valid_df)\n",
    "\n",
    "print(f\"Size of trainset: {len(trainset)}\")\n",
    "print(f\"Size of validset: {len(validset)}\")"
   ]
  },
  {
   "cell_type": "code",
   "execution_count": null,
   "id": "4fae8215-4694-4710-b55a-e9c10bf42690",
   "metadata": {
    "ExecuteTime": {
     "end_time": "2024-05-07T17:19:12.950327Z",
     "start_time": "2024-05-07T17:19:12.811300Z"
    },
    "id": "4fae8215-4694-4710-b55a-e9c10bf42690",
    "tags": []
   },
   "outputs": [],
   "source": [
    "trainloader = DataLoader(trainset, batch_size = BATCH_SIZE, shuffle = True)\n",
    "validloader = DataLoader(validset, batch_size = BATCH_SIZE)"
   ]
  },
  {
   "cell_type": "code",
   "execution_count": null,
   "id": "9b9c0301-e6a8-47cb-91f8-9850b78e39d5",
   "metadata": {
    "ExecuteTime": {
     "end_time": "2024-05-07T17:19:13.075409Z",
     "start_time": "2024-05-07T17:19:12.952300Z"
    },
    "id": "9b9c0301-e6a8-47cb-91f8-9850b78e39d5",
    "outputId": "0be94549-1119-4856-dce2-a7df0229a36d",
    "tags": []
   },
   "outputs": [],
   "source": [
    "print(f\"No. of batches in trainloader : {len(trainloader)}\")\n",
    "print(f\"No. of batches in validloader : {len(validloader)}\")"
   ]
  },
  {
   "cell_type": "code",
   "execution_count": null,
   "id": "477f08a1-15bb-471f-974c-23c6bef4ece3",
   "metadata": {
    "ExecuteTime": {
     "end_time": "2024-05-07T17:19:13.217317Z",
     "start_time": "2024-05-07T17:19:13.079302Z"
    },
    "id": "477f08a1-15bb-471f-974c-23c6bef4ece3",
    "tags": []
   },
   "outputs": [],
   "source": [
    "# FUNZIONE PER CARICARE IL MODELLO DI RETE NEURALE DIRETTAMENTE DALLE REPOSITORY ONLINE\n",
    "class APN_Model(nn.Module):\n",
    "\n",
    "  # QUI DEFINISCO LA SIZE DEL VETTORE DI EMBEDDING\n",
    "  def __init__(self, emb_size = 512):\n",
    "    super(APN_Model, self).__init__()\n",
    "\n",
    "    # QUI CAIRCATE IL MODELLO, IN QUESTO CASO EFFICIENTNET VERSIONE B0 (LA PIù LEGGERA DELLA FAMIGLIA)\n",
    "    self.efficientnet = timm.create_model('tf_efficientnetv2_b0', pretrained=False)\n",
    "    self.efficientnet.classifier = nn.Linear(in_features=self.efficientnet.classifier.in_features, out_features=emb_size)\n",
    "\n",
    "  def forward(self, images):\n",
    "    embeddings = self.efficientnet(images)\n",
    "    return embeddings"
   ]
  },
  {
   "cell_type": "code",
   "execution_count": null,
   "id": "a64f5032-dc37-4858-a901-d17b2eaed4db",
   "metadata": {
    "ExecuteTime": {
     "end_time": "2024-05-07T17:19:14.255078Z",
     "start_time": "2024-05-07T17:19:13.221308Z"
    },
    "id": "a64f5032-dc37-4858-a901-d17b2eaed4db",
    "tags": []
   },
   "outputs": [],
   "source": [
    "# QUI FATE UNA PICCOLA MODIFICA ALLA RETE PER FARLE AVERE IN INPUT IMMAGINI IN SCALA DI GRIGIO DELLO SPETTRO DI FOURIER\n",
    "model = APN_Model()\n",
    "#model.efficientnet.conv_stem = nn.Conv2d(1, 32, 3, 2, 1, bias=False)\n",
    "\n",
    "model.to(DEVICE)"
   ]
  },
  {
   "cell_type": "code",
   "execution_count": null,
   "id": "28f6fa06-7584-4e35-844b-a1831a13c172",
   "metadata": {
    "ExecuteTime": {
     "end_time": "2024-05-07T17:19:14.463077Z",
     "start_time": "2024-05-07T17:19:14.259080Z"
    },
    "id": "28f6fa06-7584-4e35-844b-a1831a13c172",
    "tags": []
   },
   "outputs": [],
   "source": [
    "# funzione di train\n",
    "def train_fn(model, dataloader, optimizer, criterion):\n",
    "  model.train() #ON Dropout\n",
    "  total_loss = 0.0\n",
    "\n",
    "  for A, P, N in tqdm(dataloader):\n",
    "    A, P, N = A.to(DEVICE), P.to(DEVICE), N.to(DEVICE)\n",
    "\n",
    "    print(\"debug, A shape: \" + str(A.shape), file=sys.stderr)\n",
    "    print(\"debug, P shape: \" + str(P.shape), file=sys.stderr)\n",
    "    print(\"debug, N shape: \" + str(N.shape), file=sys.stderr)\n",
    "\n",
    "    # qui vengono creati gli embeddings, le cui distanze verranno calcolate dopo\n",
    "    A_embs = model(A)\n",
    "    P_embs = model(P)\n",
    "    N_embs = model(N)\n",
    "\n",
    "    # criterion è la funzione di loss triplet\n",
    "    loss = criterion(A_embs, P_embs, N_embs)\n",
    "\n",
    "    optimizer.zero_grad()\n",
    "    loss.backward()\n",
    "    optimizer.step()\n",
    "\n",
    "    total_loss += loss.item()\n",
    "\n",
    "    return total_loss / len(dataloader)\n"
   ]
  },
  {
   "cell_type": "code",
   "execution_count": null,
   "id": "19ec6d56-9168-4980-9164-62660537f1ff",
   "metadata": {
    "ExecuteTime": {
     "end_time": "2024-05-07T17:19:14.701082Z",
     "start_time": "2024-05-07T17:19:14.468081Z"
    },
    "id": "19ec6d56-9168-4980-9164-62660537f1ff",
    "tags": []
   },
   "outputs": [],
   "source": [
    "# funzione di evaluation\n",
    "def eval_fn(model, dataloader, criterion):\n",
    "  model.eval() #OFF Dropout\n",
    "  total_loss = 0.0\n",
    "\n",
    "  with torch.no_grad():\n",
    "    for A, P, N in tqdm(dataloader):\n",
    "      A, P, N = A.to(DEVICE), P.to(DEVICE), N.to(DEVICE)\n",
    "\n",
    "      A_embs = model(A)\n",
    "      P_embs = model(P)\n",
    "      N_embs = model(N)\n",
    "\n",
    "      loss = criterion(A_embs, P_embs, N_embs)\n",
    "\n",
    "      total_loss += loss.item()\n",
    "\n",
    "    return total_loss / len(dataloader)"
   ]
  },
  {
   "cell_type": "code",
   "execution_count": null,
   "id": "f270e395-4b3f-4907-8ae7-a33043da0f80",
   "metadata": {
    "ExecuteTime": {
     "end_time": "2024-05-07T17:19:14.844196Z",
     "start_time": "2024-05-07T17:19:14.704081Z"
    },
    "id": "f270e395-4b3f-4907-8ae7-a33043da0f80",
    "tags": []
   },
   "outputs": [],
   "source": [
    "# triplet loss e adam\n",
    "criterion = nn.TripletMarginLoss()\n",
    "optimizer = torch.optim.Adam(model.parameters(), lr = LR)"
   ]
  },
  {
   "cell_type": "code",
   "execution_count": null,
   "id": "ac5b64b5-d28c-47bc-bbbf-acd4960e34ef",
   "metadata": {
    "ExecuteTime": {
     "end_time": "2024-05-07T17:47:05.007967Z",
     "start_time": "2024-05-07T17:19:14.846139Z"
    },
    "id": "ac5b64b5-d28c-47bc-bbbf-acd4960e34ef",
    "tags": []
   },
   "outputs": [],
   "source": [
    "# training\n",
    "best_valid_loss = np.Inf\n",
    "\n",
    "for i in range(EPOCHS):\n",
    "  train_loss = train_fn(model, trainloader, optimizer, criterion)\n",
    "  valid_loss = eval_fn(model, validloader, criterion)\n",
    "\n",
    "  if valid_loss < best_valid_loss:\n",
    "    torch.save(model.state_dict(), 'best_model.pt')\n",
    "    best_valid_loss = valid_loss\n",
    "    print(\"SAVED_WEIGHTS_SUCCESS\")\n",
    "\n",
    "  print(f\"EPOCHS : {i+1} train_loss : {train_loss} valid_loss : {valid_loss}\")"
   ]
  },
  {
   "cell_type": "code",
   "execution_count": null,
   "id": "d4711f9752b8a200",
   "metadata": {
    "ExecuteTime": {
     "end_time": "2024-05-07T17:47:05.358268Z",
     "start_time": "2024-05-07T17:47:05.009948Z"
    },
    "collapsed": false
   },
   "outputs": [],
   "source": [
    "# QUESTA E' LA FUNZIONE PER GENERARE I VETTORI DI ENCODING o embeddings\n",
    "def get_encoding_csv(model, anc_img_names, dirFolderReal, dirFolderFake):\n",
    "  anc_img_names_arr = np.array(anc_img_names)\n",
    "  encodings = []\n",
    "\n",
    "  model.eval()\n",
    "  \n",
    "  with torch.no_grad():\n",
    "    for i in tqdm(anc_img_names_arr):\n",
    "      if \"coco\" in i:\n",
    "        A = io.imread(os.path.join(dirFolderReal,i))\n",
    "        A = torch.from_numpy(A).permute(2, 0, 1) / 255.0\n",
    "        #A = np.expand_dims(A, 0)\n",
    "        #A = torch.from_numpy(A.astype(np.int32)) / 255.0\n",
    "        A = A.to(DEVICE)\n",
    "        A_enc = model(A.unsqueeze(0))\n",
    "        encodings.append(A_enc.squeeze().cpu().detach().numpy())\n",
    "      else:\n",
    "        A = io.imread(os.path.join(dirFolderFake,i))\n",
    "        A = torch.from_numpy(A).permute(2, 0, 1) / 255.0\n",
    "        #A = np.expand_dims(A, 0)\n",
    "        #A = torch.from_numpy(A.astype(np.int32)) / 255.0\n",
    "        A = A.to(DEVICE)\n",
    "        A_enc = model(A.unsqueeze(0))\n",
    "        encodings.append(A_enc.squeeze().cpu().detach().numpy())         \n",
    "\n",
    "  #with torch.no_grad():\n",
    "  #  for i in tqdm(anc_img_names_arr):\n",
    "  #    A = io.imread(os.path.join(dirFolderReal,i))\n",
    "  #    A = torch.from_numpy(A).permute(2, 0, 1) / 255.0\n",
    "  #    #A = np.expand_dims(A, 0)\n",
    "  #    #A = torch.from_numpy(A.astype(np.int32)) / 255.0\n",
    "  #    A = A.to(DEVICE)\n",
    "  #    A_enc = model(A.unsqueeze(0))\n",
    "  #    encodings.append(A_enc.squeeze().cpu().detach().numpy())\n",
    "\n",
    "    encodings = np.array(encodings)\n",
    "    encodings = pd.DataFrame(encodings)\n",
    "    df_enc = pd.concat([anc_img_names, encodings], axis = 1)\n",
    "\n",
    "    return df_enc"
   ]
  },
  {
   "cell_type": "code",
   "execution_count": null,
   "id": "087c6f6f-3d8d-437f-ab31-ce2c3a1c239c",
   "metadata": {
    "ExecuteTime": {
     "end_time": "2024-05-07T17:56:15.244940Z",
     "start_time": "2024-05-07T17:47:05.361255Z"
    },
    "id": "087c6f6f-3d8d-437f-ab31-ce2c3a1c239c",
    "outputId": "10e29b3a-1d0f-41bb-e9a2-21aec49dac69",
    "tags": []
   },
   "outputs": [],
   "source": [
    "# QUI RICARICO IL MODELLO UNA VOLTA TRAINATO\n",
    "model.load_state_dict(torch.load('best_model.pt'))\n",
    "\n",
    "# QUI CREO IL DATABASE DI FEATURE VECTORS DEL TRAINING SET\n",
    "# gli embeddings vengono aggiunti nel file csv per non rifarlo ad ogni allenamento\n",
    "df_enc = get_encoding_csv(model, df['Anchor'], real_data_dir, fake_data_dir)"
   ]
  },
  {
   "cell_type": "code",
   "execution_count": null,
   "id": "5a1096d8-a3dc-46bd-bb54-ed3debea3c57",
   "metadata": {
    "ExecuteTime": {
     "end_time": "2024-05-07T17:56:23.056118Z",
     "start_time": "2024-05-07T17:56:15.250943Z"
    },
    "id": "5a1096d8-a3dc-46bd-bb54-ed3debea3c57",
    "outputId": "171dab62-2058-470c-9abf-5ea9495da9b0",
    "tags": []
   },
   "outputs": [],
   "source": [
    "# QUI IL DATABASE COME CSV IN MODO TALE DA NON DOVER FARE QUESTA OPERAZIONE OGNI VOLTA\n",
    "# OVVIAMENTE, SE DEVO FARE UN NUOVO TRAINING DEVO ANCHE RICREARE GLI ENCODINGS\n",
    "df_enc.to_csv('database.csv', index = False)\n",
    "\n",
    "df_enc = pd.read_csv('database.csv')\n",
    "df_enc.head()"
   ]
  },
  {
   "cell_type": "code",
   "execution_count": null,
   "id": "ea4d49ef-7e4b-4a09-a188-d6afa1fc273d",
   "metadata": {
    "ExecuteTime": {
     "end_time": "2024-05-07T17:56:23.263131Z",
     "start_time": "2024-05-07T17:56:23.058130Z"
    },
    "id": "ea4d49ef-7e4b-4a09-a188-d6afa1fc273d",
    "tags": []
   },
   "outputs": [],
   "source": [
    "# approssimazione della distanza, senza la radice quadrata, per fare i primi\n",
    "# allenamenti velocemente\n",
    "def euclidean_dist(img_enc, anc_enc_arr):\n",
    "    #dist = np.sqrt(np.dot(img_enc-anc_enc_arr, (img_enc- anc_enc_arr).T))\n",
    "    dist = np.dot(img_enc-anc_enc_arr, (img_enc- anc_enc_arr).T)\n",
    "    #dist = np.sqrt(dist)\n",
    "    return dist"
   ]
  },
  {
   "cell_type": "code",
   "execution_count": null,
   "id": "38e0d751-6559-43b8-94f1-eab11f754bdd",
   "metadata": {
    "ExecuteTime": {
     "end_time": "2024-05-07T17:56:23.564828Z",
     "start_time": "2024-05-07T17:56:23.267121Z"
    },
    "id": "38e0d751-6559-43b8-94f1-eab11f754bdd",
    "outputId": "7ff19abf-6ff7-4f31-bd3e-a07d07ca90dd",
    "tags": []
   },
   "outputs": [],
   "source": [
    "path = os.path.join(Path(os.getcwd()).parent, 'datasets', 'testList.csv')\n",
    "df = pd.read_csv(path)\n",
    "\n",
    "print(df['real'])\n",
    "print(df.size)\n",
    "\n",
    "df.head()"
   ]
  },
  {
   "cell_type": "code",
   "execution_count": null,
   "id": "2262d0bc-a58d-4663-8515-bccbdf870608",
   "metadata": {
    "ExecuteTime": {
     "end_time": "2024-05-07T17:56:23.896581Z",
     "start_time": "2024-05-07T17:56:23.570836Z"
    },
    "id": "2262d0bc-a58d-4663-8515-bccbdf870608",
    "tags": []
   },
   "outputs": [],
   "source": [
    "def getImageEmbeddings(img, model):\n",
    "\n",
    "    # img = np.expand_dims(img, 0)\n",
    "    # img = torch.from_numpy(img) / 255\n",
    "    img = torch.from_numpy(img).permute(2, 0, 1) / 255.0\n",
    "    model.eval()\n",
    "\n",
    "    with torch.no_grad():\n",
    "        img = img.to(DEVICE)\n",
    "        img_enc = model(img.unsqueeze(0))\n",
    "        img_enc = img_enc.detach().cpu().numpy()\n",
    "        img_enc = np.array(img_enc)\n",
    "\n",
    "    return img_enc"
   ]
  },
  {
   "cell_type": "code",
   "execution_count": null,
   "id": "0b4b5bd4-222b-44a3-b32d-2aa1f9b3d405",
   "metadata": {
    "ExecuteTime": {
     "end_time": "2024-05-07T17:56:24.198915Z",
     "start_time": "2024-05-07T17:56:23.902577Z"
    },
    "id": "0b4b5bd4-222b-44a3-b32d-2aa1f9b3d405",
    "tags": []
   },
   "outputs": [],
   "source": [
    "def searchInDatabase(img_enc, database):\n",
    "    anc_enc_arr = database.iloc[:, 1:].to_numpy()\n",
    "    anc_img_names = database['Anchor']\n",
    "\n",
    "    distance = []\n",
    "    for i in range(anc_enc_arr.shape[0]):\n",
    "        dist = euclidean_dist(img_enc, anc_enc_arr[i : i+1, :])\n",
    "        distance = np.append(distance, dist)\n",
    "\n",
    "    closest_idx = np.argsort(distance)\n",
    "\n",
    "    return database['Anchor'][closest_idx[0]]"
   ]
  },
  {
   "cell_type": "code",
   "execution_count": null,
   "id": "ddd32725-5e2d-42a7-8998-4920f05ed143",
   "metadata": {
    "ExecuteTime": {
     "end_time": "2024-05-07T17:56:24.484637Z",
     "start_time": "2024-05-07T17:56:24.202905Z"
    },
    "id": "ddd32725-5e2d-42a7-8998-4920f05ed143",
    "outputId": "888e6f94-a62a-46e1-cf29-d11664da20b7",
    "tags": []
   },
   "outputs": [],
   "source": [
    "# DataTestReal = 'C:/Users/polsi/Desktop/Lavori/DeepFake/Datasets/Artifact/cycle_gan/st/test/'\n",
    "path = Path(os.getcwd()).parent.parent\n",
    "real_data_dir = os.path.join(path, \"artifact\", \"coco\")\n",
    "fake_data_dir = os.path.join(path, \"artifact\", \"latent_diffusion\")\n",
    "\n",
    "y_true = []\n",
    "y_pred = []\n",
    "tempDf = df\n",
    "tempDf.head()\n",
    "tempDf.shape"
   ]
  },
  {
   "cell_type": "code",
   "execution_count": null,
   "id": "ca7392f6-109f-4a96-92b1-e85600be8d8a",
   "metadata": {
    "ExecuteTime": {
     "end_time": "2024-05-07T18:03:15.497784Z",
     "start_time": "2024-05-07T17:56:24.488628Z"
    },
    "id": "ca7392f6-109f-4a96-92b1-e85600be8d8a",
    "tags": []
   },
   "outputs": [],
   "source": [
    "# testo i fake\n",
    "currentTest = 'fake'\n",
    "database = df_enc\n",
    "# prendo i primi 500 Fake\n",
    "for index, row in tqdm(tempDf.iterrows()):\n",
    "    path = os.path.join(fake_data_dir, row[currentTest])\n",
    "    img_name = path\n",
    "\n",
    "    img = io.imread(img_name)\n",
    "\n",
    "    img_enc = getImageEmbeddings(img, model)\n",
    "\n",
    "    closestLabel = searchInDatabase(img_enc, database)\n",
    "\n",
    "    if \"coco\" in closestLabel:\n",
    "        y_pred.append(\"real\")\n",
    "    else:\n",
    "        y_pred.append(\"fake\")"
   ]
  },
  {
   "cell_type": "code",
   "execution_count": null,
   "id": "fe3af5ae-b8c2-419e-b5a5-9d17609797f5",
   "metadata": {
    "ExecuteTime": {
     "end_time": "2024-05-07T18:03:15.673892Z",
     "start_time": "2024-05-07T18:03:15.499784Z"
    },
    "id": "fe3af5ae-b8c2-419e-b5a5-9d17609797f5",
    "tags": []
   },
   "outputs": [],
   "source": [
    "print(len(y_true))\n",
    "print(len(y_pred))\n",
    "print(y_pred)"
   ]
  },
  {
   "cell_type": "code",
   "execution_count": null,
   "id": "0e5e4b6e-82f4-4d4f-b797-d8e24be8ec3e",
   "metadata": {
    "ExecuteTime": {
     "end_time": "2024-05-07T18:03:15.861875Z",
     "start_time": "2024-05-07T18:03:15.675786Z"
    },
    "id": "0e5e4b6e-82f4-4d4f-b797-d8e24be8ec3e",
    "tags": []
   },
   "outputs": [],
   "source": [
    "database = df_enc"
   ]
  },
  {
   "cell_type": "code",
   "execution_count": null,
   "id": "46b8f2c1-a3ca-4bbd-8326-02685fc44cf8",
   "metadata": {
    "ExecuteTime": {
     "end_time": "2024-05-07T18:08:26.383353Z",
     "start_time": "2024-05-07T18:03:15.863861Z"
    },
    "id": "46b8f2c1-a3ca-4bbd-8326-02685fc44cf8",
    "tags": []
   },
   "outputs": [],
   "source": [
    "# testo i real\n",
    "currentTest = 'real'\n",
    "# prendo i primi 500 Fake\n",
    "for index, row in tqdm(tempDf.iterrows()):\n",
    "    path = os.path.join(real_data_dir, row[currentTest])\n",
    "    img_name = path\n",
    "\n",
    "    img_enc = getImageEmbeddings(img, model)\n",
    "\n",
    "    closestLabel = searchInDatabase(img_enc, database)\n",
    "    if \"coco\" in closestLabel:\n",
    "        y_pred.append(\"real\")\n",
    "    else:\n",
    "        y_pred.append(\"fake\")\n"
   ]
  },
  {
   "cell_type": "code",
   "execution_count": null,
   "id": "4c465bfd-18ad-4750-b689-739b712185ab",
   "metadata": {
    "ExecuteTime": {
     "end_time": "2024-05-07T18:08:26.495354Z",
     "start_time": "2024-05-07T18:08:26.385354Z"
    },
    "id": "4c465bfd-18ad-4750-b689-739b712185ab",
    "outputId": "e974c712-91fb-4fae-c589-85e08a50fb77",
    "tags": []
   },
   "outputs": [],
   "source": [
    "print(len(y_true))\n",
    "print(len(y_pred))\n",
    "print(y_pred)"
   ]
  },
  {
   "cell_type": "code",
   "execution_count": null,
   "id": "85706e81-3068-4150-9773-320a8aa98c69",
   "metadata": {
    "ExecuteTime": {
     "end_time": "2024-05-07T18:08:26.619370Z",
     "start_time": "2024-05-07T18:08:26.499457Z"
    },
    "id": "85706e81-3068-4150-9773-320a8aa98c69",
    "tags": []
   },
   "outputs": [],
   "source": [
    "# creo i vettori di ground truth\n",
    "# y_true = np.array(['fake'] * 1523)\n",
    "y_true = np.array(['fake'] * 1600)\n",
    "print(y_true.shape)\n",
    "\n",
    "# temp = np.array(['real'] * 1523)\n",
    "temp = np.array(['real'] * 1600)\n",
    "print(temp.shape)\n",
    "\n",
    "# y_true = np.concatenate([y_true, temp])\n",
    "y_true = np.concatenate([y_true, temp])\n",
    "print(y_true.shape)\n",
    "\n",
    "# calcolo la matrice di confusione (quella di scikit-learn dispone i risultati come nella cella di sotto)\n",
    "confusion_matrix(y_true, y_pred, labels=[\"real\", \"fake\"])"
   ]
  },
  {
   "cell_type": "code",
   "execution_count": null,
   "id": "86e1ec24-b7d3-4264-9c89-fa882343fa19",
   "metadata": {
    "ExecuteTime": {
     "end_time": "2024-05-07T18:08:26.730619Z",
     "start_time": "2024-05-07T18:08:26.621354Z"
    },
    "id": "86e1ec24-b7d3-4264-9c89-fa882343fa19",
    "tags": []
   },
   "outputs": [],
   "source": [
    "# estraggo dalla matrice di confusione i True Negative, False Positive, False Negative, True Positive\n",
    "TN, FP, FN, TP = confusion_matrix(y_true, y_pred, labels=[\"real\", \"fake\"]).ravel()"
   ]
  },
  {
   "cell_type": "code",
   "execution_count": null,
   "id": "28d903d0-38e3-4dc7-af71-f091c78a00e7",
   "metadata": {
    "ExecuteTime": {
     "end_time": "2024-05-07T18:25:09.635490Z",
     "start_time": "2024-05-07T18:25:09.512474Z"
    },
    "id": "28d903d0-38e3-4dc7-af71-f091c78a00e7",
    "tags": []
   },
   "outputs": [],
   "source": [
    "# calcolo alcune metriche per vedere come si comporta\n",
    "accuracy = round((TP + TN) /(TP + TN + FP + FN), 4) * 100\n",
    "precision = round((TP) / (TP + FP), 4) * 100\n",
    "sensitivy_recall = round((TP) / (TP + FN), 4) * 100\n",
    "specificity = round((TN) / (TN + FP) * 100, 4)\n",
    "F1_score = round((2* precision * sensitivy_recall) / (precision + sensitivy_recall), 2)\n",
    "\n",
    "#Salvataggio del file csv\n",
    "df_result = pd.DataFrame({\"Precision\": [precision], \"Sensitivity\":[sensitivy_recall], \"Specificity\":[specificity],\"f1_score\":[F1_score]})\n",
    "output_dir_result = os.path.join(Path(os.getcwd()).parent, \"results\")\n",
    "output_dir_result = os.path.join(output_dir_result, \"results.csv\")\n",
    "df_result.to_csv(output_dir_result,index=False)\n",
    "\n",
    "print({\"Accuracy\":accuracy,\"Precision\":precision,\"Sensitivity_recall\":sensitivy_recall, \"Specificity\": specificity, \"F1_score\":F1_score})"
   ]
  },
  {
   "cell_type": "code",
   "execution_count": null,
   "id": "789e146e4ca73b13",
   "metadata": {
    "ExecuteTime": {
     "end_time": "2024-05-07T18:20:24.706277Z",
     "start_time": "2024-05-07T18:20:24.688277Z"
    },
    "collapsed": false
   },
   "outputs": [],
   "source": []
  }
 ],
 "metadata": {
  "colab": {
   "provenance": []
  },
  "kernelspec": {
   "display_name": "fvab",
   "language": "python",
   "name": "python3"
  },
  "language_info": {
   "codemirror_mode": {
    "name": "ipython",
    "version": 3
   },
   "file_extension": ".py",
   "mimetype": "text/x-python",
   "name": "python",
   "nbconvert_exporter": "python",
   "pygments_lexer": "ipython3",
   "version": "3.10.14"
  }
 },
 "nbformat": 4,
 "nbformat_minor": 5
}
